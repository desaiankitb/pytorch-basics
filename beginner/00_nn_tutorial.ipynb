{
  "nbformat": 4,
  "nbformat_minor": 0,
  "metadata": {
    "colab": {
      "name": "00_nn_tutorial.ipynb",
      "provenance": [],
      "authorship_tag": "ABX9TyO9DiL3ajxQ0I89sqfxh6+a",
      "include_colab_link": true
    },
    "kernelspec": {
      "name": "python3",
      "display_name": "Python 3"
    },
    "language_info": {
      "name": "python"
    },
    "accelerator": "GPU"
  },
  "cells": [
    {
      "cell_type": "markdown",
      "metadata": {
        "id": "view-in-github",
        "colab_type": "text"
      },
      "source": [
        "<a href=\"https://colab.research.google.com/github/desaiankitb/pytorch-basics/blob/main/beginner/00_nn_tutorial.ipynb\" target=\"_parent\"><img src=\"https://colab.research.google.com/assets/colab-badge.svg\" alt=\"Open In Colab\"/></a>"
      ]
    },
    {
      "cell_type": "code",
      "metadata": {
        "id": "aBrT89e0BgYQ"
      },
      "source": [
        "%matplotlib inline"
      ],
      "execution_count": 1,
      "outputs": []
    },
    {
      "cell_type": "markdown",
      "metadata": {
        "id": "ucel-DojBw2n"
      },
      "source": [
        "# What is `torch.nn` really?\n",
        "PyTorch provides the elegantly designed modules and classes [`torch.nn`](https://pytorch.org/docs/stable/nn.html), [`torch.optim`](https://pytorch.org/docs/stable/optim.html), [`Dataset`](https://pytorch.org/docs/stable/data.html?highlight=dataset#torch.utils.data.Dataset), and [`DataLoader`](https://pytorch.org/docs/stable/data.html?highlight=dataloader#torch.utils.data.DataLoader) to help you create and train neural networks. In order to fully utilize their power and customize them for your problem, you need to really understand exactly what they are doing. To develop this understanding, we first train basic neural net on the MNIST data set without using any features from these models; we will initially only use the most basic PyTorch tensor functionality. Then, we will incrementally add one feature from `torch.nn`, `torch.optim`, `Dataset`, or `DataLoader` at a time, showing exactly what each piece does, and how it works to make the code either more concise, or more flexible. \n",
        "\n",
        "## MNIST datasetup \n",
        "We will use the classic [`MNIST`](http://deeplearning.net/data/mnist/) dataset, which consists of black-and-white images of hand-drawn digits (between 0 and 9). \n",
        "\n",
        "We will use [`pathlib`](https://docs.python.org/3/library/pathlib.html) for dealing with paths (part of the Python 3 standard lib), and will download the dataset using [`requests`](http://docs.python-requests.org/en/master/). We will only import modules when we use them, so you can see exactly what is being used at each point. "
      ]
    },
    {
      "cell_type": "code",
      "metadata": {
        "id": "J-BH9PmcBwF_"
      },
      "source": [
        "from pathlib import Path\n",
        "import requests\n",
        "\n",
        "DATA_PATH = Path(\"data\")\n",
        "PATH = DATA_PATH / \"mnist\"\n",
        "\n",
        "PATH.mkdir(parents=True, exist_ok=True)\n",
        "\n",
        "URL = \"https://github.com/pytorch/tutorials/raw/master/_static/\"\n",
        "FILENAME = \"mnist.pkl.gz\"\n",
        "\n",
        "if not (PATH / FILENAME).exists():\n",
        "  content = requests.get(URL + FILENAME).content\n",
        "  (PATH / FILENAME).open(\"wb\").write(content)"
      ],
      "execution_count": 2,
      "outputs": []
    },
    {
      "cell_type": "markdown",
      "metadata": {
        "id": "r6SMy67iEvcP"
      },
      "source": [
        "This dataset is in numpy array format, and has been stored using pickle, a python-specific format for serializing data. "
      ]
    },
    {
      "cell_type": "code",
      "metadata": {
        "id": "lduiuuYjEtj-"
      },
      "source": [
        "import pickle\n",
        "import gzip\n",
        "\n",
        "\n",
        "with gzip.open((PATH / FILENAME).as_posix(), \"rb\") as f:\n",
        "  ((x_train, y_train), (x_valid, y_valid), _) = pickle.load(f, encoding=\"latin-1\")"
      ],
      "execution_count": 3,
      "outputs": []
    },
    {
      "cell_type": "markdown",
      "metadata": {
        "id": "6Jncl3ZdFSmi"
      },
      "source": [
        "Each image is 28 x 28, and is being stored as a flattened row of length 784 (=28x28). Let us take a look at one; we need to reshape it to 2D first. "
      ]
    },
    {
      "cell_type": "code",
      "metadata": {
        "colab": {
          "base_uri": "https://localhost:8080/",
          "height": 282
        },
        "id": "5n9QQ8XCFQaW",
        "outputId": "1bf7a4a0-1c90-4153-dc50-71a79df406c0"
      },
      "source": [
        "from matplotlib import pyplot\n",
        "import numpy as np \n",
        "\n",
        "pyplot.imshow(x_train[0].reshape((28, 28)), cmap=\"gray\")\n",
        "print(x_train.shape)"
      ],
      "execution_count": 4,
      "outputs": [
        {
          "output_type": "stream",
          "text": [
            "(50000, 784)\n"
          ],
          "name": "stdout"
        },
        {
          "output_type": "display_data",
          "data": {
            "image/png": "[encoded data removed]",
            "text/plain": [
              "<Figure size 432x288 with 1 Axes>"
            ]
          },
          "metadata": {
            "tags": [],
            "needs_background": "light"
          }
        }
      ]
    },
    {
      "cell_type": "markdown",
      "metadata": {
        "id": "lHwNDcxIFyKK"
      },
      "source": [
        "PyTorch uses `torch.tensor`, rather than numpy arrays, so we need to convert our data. "
      ]
    },
    {
      "cell_type": "code",
      "metadata": {
        "colab": {
          "base_uri": "https://localhost:8080/"
        },
        "id": "4JtuDuRIFvvG",
        "outputId": "4fd26ecb-151e-499d-a20a-93ea3ee223a0"
      },
      "source": [
        "import torch \n",
        "x_train, y_train, x_valid, y_valid = map(\n",
        "    torch.tensor, (x_train, y_train, x_valid, y_valid)\n",
        ")\n",
        "n, c = x_train.shape\n",
        "print(x_train, y_train)\n",
        "print(x_train.shape)\n",
        "print(y_train.min(), y_train.max())"
      ],
      "execution_count": 5,
      "outputs": [
        {
          "output_type": "stream",
          "text": [
            "tensor([[0., 0., 0.,  ..., 0., 0., 0.],\n",
            "        [0., 0., 0.,  ..., 0., 0., 0.],\n",
            "        [0., 0., 0.,  ..., 0., 0., 0.],\n",
            "        ...,\n",
            "        [0., 0., 0.,  ..., 0., 0., 0.],\n",
            "        [0., 0., 0.,  ..., 0., 0., 0.],\n",
            "        [0., 0., 0.,  ..., 0., 0., 0.]]) tensor([5, 0, 4,  ..., 8, 4, 8])\n",
            "torch.Size([50000, 784])\n",
            "tensor(0) tensor(9)\n"
          ],
          "name": "stdout"
        }
      ]
    },
    {
      "cell_type": "markdown",
      "metadata": {
        "id": "wrYQTIB6a3-Q"
      },
      "source": [
        "## Neural network from scratch (no `torch.nn`)\n",
        "\n",
        "Let us first create a model using nothing but PyTorch tensor operations. We are assuming you are already familiar with the basics of neural networks. (If you are not, you can learn them at [`course.fast.ai`](https://course.fast.ai)\n",
        "\n",
        "PyTorch provides mothods to create random or zero-filled tensors, which we will use to create our weights and bias for a simple linear model. These are just regular tensors, with one very special addition: we tell PyTorch that they require a gradient. This causes PyTorch to record all of the operations done on the tensor, so that it can calculate the gradient during back-propagation *automatically*! \n",
        "\n",
        "For the weights, we set `requires_grad` **after** the initialization, since we don't want that step included in the gradient. (Note that a trailing `_` in PyTorch signifies that the operations is performed in-place.) \n",
        "\n",
        "> **Note:** we are initializing the weights here with [`Xavier initialisation` ](http://proceedings.mlr.press/v9/glorot10a/glorot10a.pdf) by multiplying with $\\frac{1}{\\sqrt(n)}$\n",
        "\n"
      ]
    },
    {
      "cell_type": "code",
      "metadata": {
        "id": "4JXgv-73GK-r"
      },
      "source": [
        "import math \n",
        "\n",
        "weights = torch.randn(784, 10) / math.sqrt(784)\n",
        "weights.requires_grad_()\n",
        "bias = torch.zeros(10, requires_grad=True)"
      ],
      "execution_count": 6,
      "outputs": []
    },
    {
      "cell_type": "markdown",
      "metadata": {
        "id": "nCCLN8DFjuvh"
      },
      "source": [
        "Thanks to PyTorch's ability to calculate gradients automatically, we can use any standard Python function (or callable object) as a model! So let us just write a plain matrix multiplication and broadcasted addition to create a simple linear model. We also need an activation function, so we will write *log_softmax* and use it. Remember: although PyTorch provides a lot of pre-written loss functions, activation functions, and so forth, you can easily write your own using plain python. PyTorch will even create fast GPU or vectorized CPU code for your function automatically. "
      ]
    },
    {
      "cell_type": "code",
      "metadata": {
        "id": "EoaHl-xZjtwp"
      },
      "source": [
        "def log_softmax(x):\n",
        "  return x - x.exp().sum(-1).log().unsqueeze(-1)\n",
        "\n",
        "def model(xb):\n",
        "  return log_softmax(xb @ weights + bias)"
      ],
      "execution_count": 7,
      "outputs": []
    },
    {
      "cell_type": "markdown",
      "metadata": {
        "id": "no_UXwwzk4KI"
      },
      "source": [
        "In the above, the `@` stands for dot product operation. We will call our function on one batch of data (in this case, 64 images). This is one *forward pass*. Note that our predictions would not be any better than random at this stage, since we start with random weights.  "
      ]
    },
    {
      "cell_type": "code",
      "metadata": {
        "colab": {
          "base_uri": "https://localhost:8080/"
        },
        "id": "gPALKPwKk1GP",
        "outputId": "1c7d0de4-8327-4612-9065-0b2233c7bbd2"
      },
      "source": [
        "bs = 64 # batch size \n",
        "\n",
        "xb = x_train[0:bs] # a mini-batch from x \n",
        "preds = model(xb) # predictions \n",
        "preds[0], preds.shape\n",
        "print(preds[0], preds.shape)\n"
      ],
      "execution_count": 8,
      "outputs": [
        {
          "output_type": "stream",
          "text": [
            "tensor([-2.7422, -2.6956, -2.5680, -2.0618, -1.9262, -1.9839, -2.5471, -2.2172,\n",
            "        -2.2139, -2.4717], grad_fn=<SelectBackward>) torch.Size([64, 10])\n"
          ],
          "name": "stdout"
        }
      ]
    },
    {
      "cell_type": "markdown",
      "metadata": {
        "id": "W0QlGBv7lnnw"
      },
      "source": [
        "As you see, the `preds` tensor contains not only the tensor values, but also a gradient function. We will use this later to do backprop. \n",
        "\n",
        "Let us implement negative log-likelihood to use as the loss function (again, we can just use standard Python):"
      ]
    },
    {
      "cell_type": "code",
      "metadata": {
        "id": "g3-11oxKljCR"
      },
      "source": [
        "def nll(input, target):\n",
        "  return -input[range(target.shape[0]), target].mean()\n",
        "\n",
        "loss_func = nll"
      ],
      "execution_count": 9,
      "outputs": []
    },
    {
      "cell_type": "markdown",
      "metadata": {
        "id": "j4KMH3X7mK45"
      },
      "source": [
        "let us check our loss with our random model, so we can see if we improve after a backprop pass later. "
      ]
    },
    {
      "cell_type": "code",
      "metadata": {
        "colab": {
          "base_uri": "https://localhost:8080/"
        },
        "id": "uUDOZQ9xmKEB",
        "outputId": "06975577-3458-45df-b778-c466e91aac39"
      },
      "source": [
        "yb = y_train[0:bs]\n",
        "print(loss_func(preds, yb))"
      ],
      "execution_count": 10,
      "outputs": [
        {
          "output_type": "stream",
          "text": [
            "tensor(2.3533, grad_fn=<NegBackward>)\n"
          ],
          "name": "stdout"
        }
      ]
    },
    {
      "cell_type": "markdown",
      "metadata": {
        "id": "vr-VuhmHmbWL"
      },
      "source": [
        "Let us also implement a function to calculate the accuracy of our model. For each prediction, if the index with the largest value matches the target value, then the prediction was correct. "
      ]
    },
    {
      "cell_type": "code",
      "metadata": {
        "id": "pUQf_sxNmXTt"
      },
      "source": [
        "def accuracy(out, yb):\n",
        "  preds = torch.argmax(out, dim=1)\n",
        "  return (preds == yb).float().mean()"
      ],
      "execution_count": 11,
      "outputs": []
    },
    {
      "cell_type": "markdown",
      "metadata": {
        "id": "DaO-zrvemtyL"
      },
      "source": [
        "Let us check the accuracy of our random model, so we can see if our accuracy improves as our loss improves. "
      ]
    },
    {
      "cell_type": "code",
      "metadata": {
        "colab": {
          "base_uri": "https://localhost:8080/"
        },
        "id": "smdhYa4-ms8z",
        "outputId": "12c5a630-a6cd-469b-d4f7-6b2600066620"
      },
      "source": [
        "print(accuracy(preds, yb))"
      ],
      "execution_count": 12,
      "outputs": [
        {
          "output_type": "stream",
          "text": [
            "tensor(0.0312)\n"
          ],
          "name": "stdout"
        }
      ]
    },
    {
      "cell_type": "markdown",
      "metadata": {
        "id": "pS2C8UT4m-3G"
      },
      "source": [
        "We can now run a loop. For each iteration, we will: \n",
        "* select a mini-batch of data (of size `bs`)\n",
        "* use the model to make predictions \n",
        "* calculate the loss \n",
        "* `loss.backward()` updates the gradients of the model, in this case, `weights` and `bias`. \n",
        "\n",
        "We now use these gradients to update the weights and bias. We do this within the `torch.no_grad()` context manager, because we do not want these actions to be recorded for our next calculation of the gradient. You can read more about how PyTorch's Autograd records operations [here](https://pytorch.org/docs/stable/notes/autograd.html).\n",
        "\n",
        "We then set the gradients to zero, so that we are ready for the next loop. Otherwise, our gradients would record a running tally of all the operations that had happened (i.e. `loss.backward()` *adds* gradients to whatever it already stored, rather than replacing them). \n",
        "\n",
        "> **Tip:** You can use the standard python debugger to step through PyTorch code, allowing you to check the various variable values at each step. Uncomment `set_trace()` below to try it out. "
      ]
    },
    {
      "cell_type": "code",
      "metadata": {
        "colab": {
          "base_uri": "https://localhost:8080/",
          "height": 871
        },
        "id": "So8WrdYWqiMo",
        "outputId": "d1a61d0a-0177-4a0f-ee7b-efa57d3d1be3"
      },
      "source": [
        "!pip install ipdb"
      ],
      "execution_count": 13,
      "outputs": [
        {
          "output_type": "stream",
          "text": [
            "Collecting ipdb\n",
            "  Downloading ipdb-0.13.9.tar.gz (16 kB)\n",
            "Requirement already satisfied: setuptools in /usr/local/lib/python3.7/dist-packages (from ipdb) (57.2.0)\n",
            "Collecting ipython>=7.17.0\n",
            "  Downloading ipython-7.25.0-py3-none-any.whl (786 kB)\n",
            "\u001b[K     |████████████████████████████████| 786 kB 10.6 MB/s \n",
            "\u001b[?25hRequirement already satisfied: toml>=0.10.2 in /usr/local/lib/python3.7/dist-packages (from ipdb) (0.10.2)\n",
            "Requirement already satisfied: decorator in /usr/local/lib/python3.7/dist-packages (from ipdb) (4.4.2)\n",
            "Requirement already satisfied: matplotlib-inline in /usr/local/lib/python3.7/dist-packages (from ipython>=7.17.0->ipdb) (0.1.2)\n",
            "Requirement already satisfied: backcall in /usr/local/lib/python3.7/dist-packages (from ipython>=7.17.0->ipdb) (0.2.0)\n",
            "Requirement already satisfied: pickleshare in /usr/local/lib/python3.7/dist-packages (from ipython>=7.17.0->ipdb) (0.7.5)\n",
            "Requirement already satisfied: traitlets>=4.2 in /usr/local/lib/python3.7/dist-packages (from ipython>=7.17.0->ipdb) (5.0.5)\n",
            "Requirement already satisfied: pygments in /usr/local/lib/python3.7/dist-packages (from ipython>=7.17.0->ipdb) (2.6.1)\n",
            "Collecting prompt-toolkit!=3.0.0,!=3.0.1,<3.1.0,>=2.0.0\n",
            "  Downloading prompt_toolkit-3.0.19-py3-none-any.whl (368 kB)\n",
            "\u001b[K     |████████████████████████████████| 368 kB 57.5 MB/s \n",
            "\u001b[?25hRequirement already satisfied: pexpect>4.3 in /usr/local/lib/python3.7/dist-packages (from ipython>=7.17.0->ipdb) (4.8.0)\n",
            "Requirement already satisfied: jedi>=0.16 in /usr/local/lib/python3.7/dist-packages (from ipython>=7.17.0->ipdb) (0.18.0)\n",
            "Requirement already satisfied: parso<0.9.0,>=0.8.0 in /usr/local/lib/python3.7/dist-packages (from jedi>=0.16->ipython>=7.17.0->ipdb) (0.8.2)\n",
            "Requirement already satisfied: ptyprocess>=0.5 in /usr/local/lib/python3.7/dist-packages (from pexpect>4.3->ipython>=7.17.0->ipdb) (0.7.0)\n",
            "Requirement already satisfied: wcwidth in /usr/local/lib/python3.7/dist-packages (from prompt-toolkit!=3.0.0,!=3.0.1,<3.1.0,>=2.0.0->ipython>=7.17.0->ipdb) (0.2.5)\n",
            "Requirement already satisfied: ipython-genutils in /usr/local/lib/python3.7/dist-packages (from traitlets>=4.2->ipython>=7.17.0->ipdb) (0.2.0)\n",
            "Building wheels for collected packages: ipdb\n",
            "  Building wheel for ipdb (setup.py) ... \u001b[?25l\u001b[?25hdone\n",
            "  Created wheel for ipdb: filename=ipdb-0.13.9-py3-none-any.whl size=11648 sha256=a8d7f00302dddbe59c959dc8317994be2d94013873cefd073ee945d146903f42\n",
            "  Stored in directory: /root/.cache/pip/wheels/65/cd/cc/aaf92acae337a28fdd2aa4d632196a59745c8c39f76eaeed01\n",
            "Successfully built ipdb\n",
            "Installing collected packages: prompt-toolkit, ipython, ipdb\n",
            "  Attempting uninstall: prompt-toolkit\n",
            "    Found existing installation: prompt-toolkit 1.0.18\n",
            "    Uninstalling prompt-toolkit-1.0.18:\n",
            "      Successfully uninstalled prompt-toolkit-1.0.18\n",
            "  Attempting uninstall: ipython\n",
            "    Found existing installation: ipython 5.5.0\n",
            "    Uninstalling ipython-5.5.0:\n",
            "      Successfully uninstalled ipython-5.5.0\n",
            "\u001b[31mERROR: pip's dependency resolver does not currently take into account all the packages that are installed. This behaviour is the source of the following dependency conflicts.\n",
            "jupyter-console 5.2.0 requires prompt-toolkit<2.0.0,>=1.0.0, but you have prompt-toolkit 3.0.19 which is incompatible.\n",
            "google-colab 1.0.0 requires ipython~=5.5.0, but you have ipython 7.25.0 which is incompatible.\u001b[0m\n",
            "Successfully installed ipdb-0.13.9 ipython-7.25.0 prompt-toolkit-3.0.19\n"
          ],
          "name": "stdout"
        },
        {
          "output_type": "display_data",
          "data": {
            "application/vnd.colab-display-data+json": {
              "pip_warning": {
                "packages": [
                  "IPython",
                  "prompt_toolkit"
                ]
              }
            }
          },
          "metadata": {
            "tags": []
          }
        }
      ]
    },
    {
      "cell_type": "code",
      "metadata": {
        "id": "k8gZFu5im7su"
      },
      "source": [
        "# from IPython.core.debugger import set_track\n",
        "\n",
        "lr = 0.5 # learning rate \n",
        "epochs = 2 # how many epochs to train for \n",
        "\n",
        "for epoch in range(epochs):\n",
        "  for i in range((n-1) // bs + 1):\n",
        "    # set_trace()\n",
        "    start_i = i * bs\n",
        "    end_i = start_i + bs\n",
        "    xb = x_train[start_i:end_i]\n",
        "    yb = y_train[start_i:end_i]\n",
        "    pred = model(xb)\n",
        "    loss = loss_func(pred, yb)\n",
        "\n",
        "    loss.backward()\n",
        "    with torch.no_grad():\n",
        "      weights -= weights.grad * lr\n",
        "      bias -= bias.grad * lr \n",
        "      weights.grad.zero_()\n",
        "      bias.grad.zero_()"
      ],
      "execution_count": 14,
      "outputs": []
    },
    {
      "cell_type": "markdown",
      "metadata": {
        "id": "Mc6-N2uyq4tk"
      },
      "source": [
        "That is it: we have created and trained a minimal neural network (in this case, a logistic regression, since we have no hidden layers) entirely from scratch! \n",
        "\n",
        "Let us check the loss and accuracy and compare those to what we got earlier. We expect that the loss will have descreased and accuracy to have increased, and they have."
      ]
    },
    {
      "cell_type": "code",
      "metadata": {
        "colab": {
          "base_uri": "https://localhost:8080/"
        },
        "id": "WD9uA381qUkc",
        "outputId": "43aee61e-24b0-4f71-e392-b6fd56820bd6"
      },
      "source": [
        "print(loss_func(model(xb), yb), accuracy(model(xb),yb))"
      ],
      "execution_count": 15,
      "outputs": [
        {
          "output_type": "stream",
          "text": [
            "tensor(0.0840, grad_fn=<NegBackward>) tensor(1.)\n"
          ],
          "name": "stdout"
        }
      ]
    },
    {
      "cell_type": "markdown",
      "metadata": {
        "id": "6FcYyeP-rbvN"
      },
      "source": [
        "## Using `torch.nn.functional` \n",
        "We will now refactor our code, so that it does the same thing as before, only we will start taking advantage of PyTorch's `nn` classes to make it more concise and flexible. At each step from here, we should be making our code one or more of: shorter, more understandable, and/or more flexible. \n",
        "\n",
        "The first and easiest step is to make our code shorter by replacing our hand-written activation and loss functions with those from `torch.nn.functional` (which is generally imported into the namespace `F` by convention). This module contains all the functions in the `torch.nn` library (whereas other parts of the library contain classes). As well as a wide range of loss and activation functions, you wil also find here some convenient functions for creating neural nets, such as pooling functions. (There are also functions for doing convolutions, linear layers, etc, but as we will see, these are usually better handled using other parts of the library). \n",
        "\n",
        "If you are using negative log likelihood loss and log softmax activation, then PyTorch provides single function `F.cross_entropy` that combines the two. So we can even remove the activation function from our model. "
      ]
    },
    {
      "cell_type": "code",
      "metadata": {
        "id": "CuunCH2J2tuJ"
      },
      "source": [
        "import torch.nn.functional as F\n",
        "\n",
        "loss_func = F.cross_entropy\n",
        "\n",
        "def model(xb):\n",
        "  return xb @ weights + bias "
      ],
      "execution_count": 16,
      "outputs": []
    },
    {
      "cell_type": "markdown",
      "metadata": {
        "id": "T3McNgW9AXQh"
      },
      "source": [
        "Note that we no longer call `log_softmax` in the `model` function. Let us confirm that our loss and accuracy are the same as before: "
      ]
    },
    {
      "cell_type": "code",
      "metadata": {
        "colab": {
          "base_uri": "https://localhost:8080/"
        },
        "id": "8onFFCPA3LDJ",
        "outputId": "28153242-ceb6-4560-e07a-c72e209ee337"
      },
      "source": [
        "print(loss_func(model(xb), yb), accuracy(model(xb), yb))"
      ],
      "execution_count": 17,
      "outputs": [
        {
          "output_type": "stream",
          "text": [
            "tensor(0.0840, grad_fn=<NllLossBackward>) tensor(1.)\n"
          ],
          "name": "stdout"
        }
      ]
    },
    {
      "cell_type": "markdown",
      "metadata": {
        "id": "gjFoDy_nCb4c"
      },
      "source": [
        "## Refactor using `nn.Module`\n",
        "Next up, we will use `nn.Module` and `nn.Parameter`, for a clearer and more concise training loop. We subclass `nn.Module` (which itself is a class and able to keep track of state). In this case, we want to create a class that holds our weights, bias, and method for the forward step. `nn.Module` has a number of attributes and methods (such as `.parameters()` and `.zero_grad()`) which we will be using. \n",
        "\n",
        "> **NOTE:** `nn.Module` (uppercase M) is a PyTorch specific concept, and is a class we will be using a lot. `nn.Module` is not to be confused with the Pythong concept of a (lowercase `m`) [module](https://docs.python.org/3/tutorial/modules.html), which is a file of Python code that can be imported. "
      ]
    },
    {
      "cell_type": "code",
      "metadata": {
        "id": "2fPfQP7DAqQ6"
      },
      "source": [
        "from torch import nn \n",
        "\n",
        "class Mnist_Logistic(nn.Module):\n",
        "  def __init__(self):\n",
        "    super().__init__()\n",
        "    self.weights = nn.Parameter(torch.randn(784, 10) / math.sqrt(784))\n",
        "    self.bias = nn.Parameter(torch.zeros(10))\n",
        "\n",
        "  def forward(self, xb):\n",
        "    return xb @ self.weights + self.bias "
      ],
      "execution_count": 18,
      "outputs": []
    },
    {
      "cell_type": "markdown",
      "metadata": {
        "id": "rfCaerMbE5ks"
      },
      "source": [
        "Since we are now using an object instead of just using function, we first have to instantiate our model: "
      ]
    },
    {
      "cell_type": "code",
      "metadata": {
        "id": "yFJ3CnFnE5AS"
      },
      "source": [
        "model = Mnist_Logistic()"
      ],
      "execution_count": 19,
      "outputs": []
    },
    {
      "cell_type": "markdown",
      "metadata": {
        "id": "bRIPASFyFHEg"
      },
      "source": [
        "Now we can calculate the loss in the same way as before. Note that `nn.Module` objects are used as if they are functions (i.e. they are *callable*), but behind the scenes PyTorch will call our `forward` method automatically. "
      ]
    },
    {
      "cell_type": "code",
      "metadata": {
        "colab": {
          "base_uri": "https://localhost:8080/"
        },
        "id": "xMAM4mYBFF89",
        "outputId": "c02ebc0b-a02c-4ee1-f10e-d005a9c8a89b"
      },
      "source": [
        "print(loss_func(model(xb), yb))"
      ],
      "execution_count": 20,
      "outputs": [
        {
          "output_type": "stream",
          "text": [
            "tensor(2.2667, grad_fn=<NllLossBackward>)\n"
          ],
          "name": "stdout"
        }
      ]
    },
    {
      "cell_type": "markdown",
      "metadata": {
        "id": "CyBdPtEfF7-Z"
      },
      "source": [
        "Previously for our training loop we had to update the values for each parameter by name, and manually zero out the grads for each parameter separately, like this: \n",
        "\n",
        "```\n",
        "with torch.no_grad():\n",
        "  weights -= weights.grad * lr\n",
        "  bias -= bias.grad * lr \n",
        "  weights.grad.zero_()\n",
        "  bias.grad.zero_()\n",
        "```\n",
        "\n",
        "Now we can take advantage of `model.parameters()` and `model.zero_grad()` (which are both defined by PyTorch for `nn.Module`) to make those steps more concise and less prone to the error for getting some of our parameters, particularly if we had a more complicated model: \n",
        "\n",
        "```\n",
        "with torch.no_grad():\n",
        "  for p in model.parameters(): p -= p.grad * lr \n",
        "  model.zero_grad()\n",
        "```\n",
        "\n",
        "we will wrap our little training loop in a `fit` function so we can run in again later. "
      ]
    },
    {
      "cell_type": "code",
      "metadata": {
        "id": "Wm_c5QN_Fxy9"
      },
      "source": [
        "def fit():\n",
        "    for epoch in range(epochs):\n",
        "        for i in range((n - 1) // bs + 1):\n",
        "            start_i = i * bs\n",
        "            end_i = start_i + bs\n",
        "            xb = x_train[start_i:end_i]\n",
        "            yb = y_train[start_i:end_i]\n",
        "            pred = model(xb)\n",
        "            loss = loss_func(pred, yb)\n",
        "\n",
        "            loss.backward()\n",
        "            with torch.no_grad():\n",
        "                for p in model.parameters():\n",
        "                    p -= p.grad * lr\n",
        "                model.zero_grad()\n",
        "\n",
        "fit()"
      ],
      "execution_count": 21,
      "outputs": []
    },
    {
      "cell_type": "markdown",
      "metadata": {
        "id": "SBp1X_eXJQub"
      },
      "source": [
        "Let us double-check that our loss has gone down:"
      ]
    },
    {
      "cell_type": "code",
      "metadata": {
        "colab": {
          "base_uri": "https://localhost:8080/"
        },
        "id": "Ls-If0IzHpSG",
        "outputId": "8bf6ea04-48a9-4566-d30c-a119377061f5"
      },
      "source": [
        "print(loss_func(model(xb), yb))"
      ],
      "execution_count": 22,
      "outputs": [
        {
          "output_type": "stream",
          "text": [
            "tensor(0.0818, grad_fn=<NllLossBackward>)\n"
          ],
          "name": "stdout"
        }
      ]
    },
    {
      "cell_type": "markdown",
      "metadata": {
        "id": "QcKB856w1MCw"
      },
      "source": [
        "# Refactor using `nn.Linear`\n",
        "We continue to refactor our code. Instead of manually defining and initializing `self.weights` and `self.bias`, and calculating `xb @ self.weights + self.bias`, we will instead use the PyTorch class [`nn.Linear`](https://pytorch.org/docs/stable/nn.html#linear-layers) for a linear layer, which does all that for us. PyTorch has many types of predefined layers that can grately simplify our code, and often makes it faster too. "
      ]
    },
    {
      "cell_type": "code",
      "metadata": {
        "id": "DxAIW_CPJYk8"
      },
      "source": [
        "class Mnist_Logistic(nn.Module):\n",
        "  def __init__(self):\n",
        "    super().__init__()\n",
        "    self.lin = nn.Linear(784, 10)\n",
        "\n",
        "  def forward(self, xb):\n",
        "    return self.lin(xb)"
      ],
      "execution_count": 23,
      "outputs": []
    },
    {
      "cell_type": "markdown",
      "metadata": {
        "id": "NBtKvUT52HPx"
      },
      "source": [
        "We instantiate our model and calculate the loss in the same way as before: "
      ]
    },
    {
      "cell_type": "code",
      "metadata": {
        "colab": {
          "base_uri": "https://localhost:8080/"
        },
        "id": "lCe-BozT2M5f",
        "outputId": "3d868bfa-e116-41c7-e667-0fbb748e6c86"
      },
      "source": [
        "model = Mnist_Logistic()\n",
        "print(loss_func(model(xb), yb))"
      ],
      "execution_count": 24,
      "outputs": [
        {
          "output_type": "stream",
          "text": [
            "tensor(2.3327, grad_fn=<NllLossBackward>)\n"
          ],
          "name": "stdout"
        }
      ]
    },
    {
      "cell_type": "markdown",
      "metadata": {
        "id": "xgoncx0a2X9B"
      },
      "source": [
        "We are still able to use our same `fit` method as before. "
      ]
    },
    {
      "cell_type": "code",
      "metadata": {
        "colab": {
          "base_uri": "https://localhost:8080/"
        },
        "id": "ryxVLCQw2Ux7",
        "outputId": "feb82e57-3454-4d7b-c15a-c081deeaa9dd"
      },
      "source": [
        "fit()\n",
        "print(loss_func(model(xb), yb))"
      ],
      "execution_count": 25,
      "outputs": [
        {
          "output_type": "stream",
          "text": [
            "tensor(0.0816, grad_fn=<NllLossBackward>)\n"
          ],
          "name": "stdout"
        }
      ]
    },
    {
      "cell_type": "markdown",
      "metadata": {
        "id": "kiwQ-uoY4cjT"
      },
      "source": [
        "## Refactor using optim \n",
        "PyTorch also has a package with various optimization algorithms, `torch.optim`. We can use the `step` method from our optimizer to take a forward step, instead of manually updating each parameter. \n",
        "\n",
        "This will let us replace our previous manually coded optimization step: \n",
        "```\n",
        "with torch.no_grad():\n",
        "  for p in model.parameters(): \n",
        "    p -= p.grad * lr\n",
        "    model.zero_grad()\n",
        "```\n",
        "\n",
        "and instead use just: \n",
        "\n",
        "```\n",
        "opt.step()\n",
        "opt.zero_grad()\n",
        "```\n",
        "\n",
        "(`optim.zero_grad()` resets the gradient to 0 and we need to call it before computing the gradient for the next minibatch.) "
      ]
    },
    {
      "cell_type": "code",
      "metadata": {
        "id": "saTINq2n2gKB"
      },
      "source": [
        "from torch import optim"
      ],
      "execution_count": 26,
      "outputs": []
    },
    {
      "cell_type": "markdown",
      "metadata": {
        "id": "33Q5y5tR85F0"
      },
      "source": [
        "We will define a little function to create our model and optimizer so we can reuse it in the future. "
      ]
    },
    {
      "cell_type": "code",
      "metadata": {
        "colab": {
          "base_uri": "https://localhost:8080/"
        },
        "id": "bTwxxu4F83jh",
        "outputId": "af7c4e0a-e4f4-4532-eed0-55afe0f47e0e"
      },
      "source": [
        "def get_model():\n",
        "  model = Mnist_Logistic()\n",
        "  return model, optim.SGD(model.parameters(), lr=lr)\n",
        "\n",
        "model, opt = get_model()\n",
        "print(loss_func(model(xb), yb))\n",
        "\n",
        "for epoch in range(epochs):\n",
        "  for i in range(( n - 1) // bs + 1):\n",
        "    start_i = i * bs\n",
        "    end_i = start_i + bs \n",
        "    xb = x_train[start_i:end_i]\n",
        "    yb = y_train[start_i:end_i]\n",
        "    pred = model(xb)\n",
        "    loss = loss_func(pred, yb)\n",
        "\n",
        "    loss.backward()\n",
        "    opt.step()\n",
        "    opt.zero_grad()\n",
        "\n",
        "print(loss_func(model(xb), yb))"
      ],
      "execution_count": 27,
      "outputs": [
        {
          "output_type": "stream",
          "text": [
            "tensor(2.2903, grad_fn=<NllLossBackward>)\n",
            "tensor(0.0818, grad_fn=<NllLossBackward>)\n"
          ],
          "name": "stdout"
        }
      ]
    },
    {
      "cell_type": "markdown",
      "metadata": {
        "id": "BYH-17IN_JXV"
      },
      "source": [
        "## Refactor using Dataset\n",
        "PyTorch has an abstract Dataset class. A Dataset can be anything that has a `__len__` function (called by Python's standard `len` function) and a `__getitem__` function as a way of indexing into it. [This tutorial](https://pytorch.org/tutorials/beginner/data_loading_tutorial.html) walks through a nice example of creating a custom `FacialLandmarkDataset` class as a subclass of `Dataset`. \n",
        "\n",
        "PyTorch's [`TensorDataset`](https://pytorch.org/docs/stable/_modules/torch/utils/data/dataset.html#TensorDataset) is a Dataset wrapping tensors. By defining a length and way of indexing, this algo gives us a way to iterate, index, and slice along the first dimention of a tensor. This will make it easier to access both the independent and dependent variables in the same line as we train. "
      ]
    },
    {
      "cell_type": "code",
      "metadata": {
        "id": "I7rNonfJ-Lmu"
      },
      "source": [
        "from torch.utils.data import TensorDataset"
      ],
      "execution_count": 28,
      "outputs": []
    },
    {
      "cell_type": "markdown",
      "metadata": {
        "id": "izdAjf5lCbA0"
      },
      "source": [
        "Both `x_train` and `y_train` can be combined in a single `TensorDataset`, which will be easier to iterate over and slice. "
      ]
    },
    {
      "cell_type": "code",
      "metadata": {
        "id": "1xJDyEz0Caav"
      },
      "source": [
        "train_ds = TensorDataset(x_train, y_train)"
      ],
      "execution_count": 29,
      "outputs": []
    },
    {
      "cell_type": "markdown",
      "metadata": {
        "id": "J3rt4dkoCp5P"
      },
      "source": [
        "Previously, we had to iterate through minibatches of x and y separately: \n",
        "\n",
        "```\n",
        "xb = x_train[start_i:end_i]\n",
        "yb = y_train[start_i:end_i]\n",
        "```\n",
        "\n",
        "Now, we can do these two steps together: \n",
        "\n",
        "```\n",
        "xb, yb = train_ds[ibs: ibs+bs]\n",
        "```"
      ]
    },
    {
      "cell_type": "code",
      "metadata": {
        "colab": {
          "base_uri": "https://localhost:8080/"
        },
        "id": "gNqFfnX3CpSl",
        "outputId": "e6b528a1-953c-45bb-8a35-5df21797e255"
      },
      "source": [
        "model, opt = get_model()\n",
        "\n",
        "for epoch in range(epochs):\n",
        "  for i in range((n - 1) // bs + 1):\n",
        "    xb, yb = train_ds[i * bs: bs + bs]\n",
        "    pred = model(xb)\n",
        "    loss = loss_func(pred, yb)\n",
        "\n",
        "    loss.backward()\n",
        "    opt.step()\n",
        "    opt.zero_grad()\n",
        "\n",
        "print(loss_func(model(xb), yb))"
      ],
      "execution_count": 30,
      "outputs": [
        {
          "output_type": "stream",
          "text": [
            "tensor(nan, grad_fn=<NllLossBackward>)\n"
          ],
          "name": "stdout"
        }
      ]
    },
    {
      "cell_type": "markdown",
      "metadata": {
        "id": "i0e1BrEYDt2F"
      },
      "source": [
        "# Refactor using DataLoader\n",
        "\n",
        "PyTorch's `DataLoader` is responsible for managing batches. You can create a `DataLoader` from `Dataset`. `DataLoader` makes it easier to iterate over batches. Rather than just having to use `train_ds[i*bs : i*bs+bs]` the `DataLoader` gives us each minibatch automatically. "
      ]
    },
    {
      "cell_type": "code",
      "metadata": {
        "id": "0QBgISnODiUe"
      },
      "source": [
        "from torch.utils.data import DataLoader \n",
        "\n",
        "train_ds = TensorDataset(x_train, y_train)\n",
        "train_dl = DataLoader(train_ds, batch_size=bs)"
      ],
      "execution_count": 31,
      "outputs": []
    },
    {
      "cell_type": "markdown",
      "metadata": {
        "id": "1ZQEbIJfEdz1"
      },
      "source": [
        "Previously, our loop iterated over batches (xb, yb) like this: \n",
        "\n",
        "```\n",
        "for i in range((n-1)//bs+1):\n",
        "  xb, yb = train[ibs:ibs+bs]\n",
        "  pred = model(xb)\n",
        "```\n",
        "\n",
        "Now, our loop is much cleaner, as `(xb, yb)` are loaded automatically from the `DataLoader`:: \n",
        "\n",
        "```\n",
        "for xb, yb in train_dl:\n",
        "  pred = model(xb)\n",
        "```"
      ]
    },
    {
      "cell_type": "code",
      "metadata": {
        "colab": {
          "base_uri": "https://localhost:8080/"
        },
        "id": "7332p7DQEda_",
        "outputId": "ab63cece-427e-4b2b-8fcd-94ea8c5ba9ff"
      },
      "source": [
        "model, opt = get_model()\n",
        "\n",
        "for epoch in range(epochs):\n",
        "  for xb, yb in train_dl:\n",
        "    pred = model(xb)\n",
        "    loss = loss_func(pred, yb)\n",
        "\n",
        "    loss.backward()\n",
        "    opt.step()\n",
        "    opt.zero_grad()\n",
        "\n",
        "print(loss_func(model(xb), yb))"
      ],
      "execution_count": 32,
      "outputs": [
        {
          "output_type": "stream",
          "text": [
            "tensor(0.0830, grad_fn=<NllLossBackward>)\n"
          ],
          "name": "stdout"
        }
      ]
    },
    {
      "cell_type": "markdown",
      "metadata": {
        "id": "ZoKcaYgAFTnb"
      },
      "source": [
        "Thanks to PyTorch's `nn.Module`, `nn.Parameter`, `Dataset` and `DataLoader`, our training loop is now dramatically smaller and easier to understand. Let us now try to add basic features necessary to create effective models in practice. \n",
        "\n",
        "# Add validation \n",
        "\n",
        "In section 1, we were just trying to get a reasonable training loop set up for use on our training data. In reality, you **always** should also have a [validation set](https://www.fast.ai/2017/11/13/validation-sets/) in order to identify if you are overfitting. \n",
        "\n",
        "Shuffling the training data is [important](https://www.quora.com/Does-the-order-of-training-data-matter-when-training-neural-networks) to prevent correlation between batches and overfitting. On the other hand, the validation loss will be identical wheather we shuffle the validation set or not. Since shuffling takes extra time, it makes no sense to shuffle the validation data. "
      ]
    },
    {
      "cell_type": "code",
      "metadata": {
        "id": "jACiDAZ7FRpk"
      },
      "source": [
        "train_ds = TensorDataset(x_train, y_train)\n",
        "train_dl = DataLoader(train_ds, batch_size=bs, shuffle=True)\n",
        "\n",
        "valid_ds = TensorDataset(x_valid, y_valid)\n",
        "valid_dl = DataLoader(valid_ds, batch_size=bs * 2)"
      ],
      "execution_count": 33,
      "outputs": []
    },
    {
      "cell_type": "markdown",
      "metadata": {
        "id": "xdOb5nDwIWRq"
      },
      "source": [
        "We will calculate and print the validation loss at the end of each epoch. \n",
        "\n",
        "(Note that we always call `model.train()` before training, and `model.eval()` before inference, because these are used by layers such as `nn.BatchNorm2d` and `nn.Dropout` to ensure appropriate behaviour for these different phases.) "
      ]
    },
    {
      "cell_type": "code",
      "metadata": {
        "colab": {
          "base_uri": "https://localhost:8080/"
        },
        "id": "ZkmvujZcIRDX",
        "outputId": "8ded2d68-eee7-494d-eae5-0f16f2197457"
      },
      "source": [
        "model, opt = get_model()\n",
        "\n",
        "for epoch in range(epochs):\n",
        "  model.train()\n",
        "  for xb, yb in train_dl:\n",
        "    pred = model(xb)\n",
        "    loss = loss_func(pred, yb)\n",
        "\n",
        "    loss.backward()\n",
        "    opt.step()\n",
        "    opt.zero_grad()\n",
        "\n",
        "\n",
        "  model.eval()\n",
        "  with torch.no_grad():\n",
        "    valid_loss = sum(loss_func(model(xb), yb) for xb, yb in valid_dl)\n",
        "\n",
        "  print(epoch, valid_loss / len(valid_dl))"
      ],
      "execution_count": 34,
      "outputs": [
        {
          "output_type": "stream",
          "text": [
            "0 tensor(0.3217)\n",
            "1 tensor(0.2859)\n"
          ],
          "name": "stdout"
        }
      ]
    },
    {
      "cell_type": "markdown",
      "metadata": {
        "id": "qTQlWQQMJ5VU"
      },
      "source": [
        "## Create `fit()` and `get_data()`\n",
        "We will now do a little refactorning of our own. Since we go through a similar process twice of calculating the loss for both the training set and the validation set, let's make that into its own function. `loss_batch`, which computes the loss for one batch. \n",
        "\n",
        "We pass an optimizer in for the training set, and use it to perform backprop. For validation set, we do not pass an optimizer, so the method does not perform backprop. \n"
      ]
    },
    {
      "cell_type": "code",
      "metadata": {
        "id": "qz_HzMNAJ1uy"
      },
      "source": [
        "def loss_batch(model, loss_func, xb, yb, opt=None):\n",
        "  loss = loss_func(model(xb), yb)\n",
        "\n",
        "  if opt is not None:\n",
        "    loss.backward()\n",
        "    opt.step()\n",
        "    opt.zero_grad()\n",
        "\n",
        "  return loss.item(), len(xb)"
      ],
      "execution_count": 35,
      "outputs": []
    },
    {
      "cell_type": "markdown",
      "metadata": {
        "id": "VImCUHx2OonE"
      },
      "source": [
        "`fit` runs the necessary operations to train our model and compute the training and validation losses for each epoch. "
      ]
    },
    {
      "cell_type": "code",
      "metadata": {
        "id": "Em9c9pvDOm4F"
      },
      "source": [
        "import numpy as np \n",
        "\n",
        "def fit(epochs, model, loss_func, opt, train_dl, valid_dl):\n",
        "  for epoch in range(epochs):\n",
        "    model.train()\n",
        "    for xb, yb in train_dl:\n",
        "      loss_batch(model, loss_func, xb, yb, opt)\n",
        "\n",
        "    model.eval()\n",
        "    with torch.no_grad():\n",
        "      losses, nums = zip(\n",
        "          *[loss_batch(model, loss_func, xb, yb) for xb, yb in valid_dl]\n",
        "      )\n",
        "      val_loss = np.sum(np.multiply(losses, nums)) / np.sum(nums)\n",
        "\n",
        "      print(epoch, val_loss)"
      ],
      "execution_count": 36,
      "outputs": []
    },
    {
      "cell_type": "markdown",
      "metadata": {
        "id": "TNTsUcDGP29x"
      },
      "source": [
        "`get_date` returns daatloaders for the training and validation sets. "
      ]
    },
    {
      "cell_type": "code",
      "metadata": {
        "id": "afmRKbyrPyws"
      },
      "source": [
        "def get_data(train_ds, valid_ds, bs):\n",
        "  return(\n",
        "      DataLoader(train_ds, batch_size=bs, shuffle=True),\n",
        "      DataLoader(valid_ds, batch_size=bs*2),\n",
        "\n",
        "  )"
      ],
      "execution_count": 37,
      "outputs": []
    },
    {
      "cell_type": "markdown",
      "metadata": {
        "id": "ywl364pAQIoa"
      },
      "source": [
        "Now, our whole process of obtaining the data loaders and fitting the model can be run in 3 lines of code. "
      ]
    },
    {
      "cell_type": "code",
      "metadata": {
        "colab": {
          "base_uri": "https://localhost:8080/"
        },
        "id": "v-4gsLUdQHp7",
        "outputId": "99d19a22-a6e0-40ec-c627-8df79f577dc0"
      },
      "source": [
        "train_dl, valid_dl = get_data(train_ds, valid_ds, bs)\n",
        "model, opt = get_model()\n",
        "fit(epochs, model, loss_func, opt, train_dl, valid_dl)"
      ],
      "execution_count": 38,
      "outputs": [
        {
          "output_type": "stream",
          "text": [
            "0 0.3602288482964039\n",
            "1 0.3506563937187195\n"
          ],
          "name": "stdout"
        }
      ]
    },
    {
      "cell_type": "markdown",
      "metadata": {
        "id": "0VesjPHeQnZa"
      },
      "source": [
        "You can use these basic 3 lines of code to train wide variety of models. Let us see if we can use them to train a convolutional neural network (CNN)!\n",
        "\n",
        "# Switching to CNN\n",
        "We are now going to build our neural network with three convolutional layers. Because none of the functions in the previous section assume anything about the model form, we will be able to use them to train a CNN without any modification. \n",
        "\n",
        "We will use PyTorch's predefined [Conv2d](https://pytorch.org/docs/stable/nn.html#torch.nn.Conv2d) class as our convolutional layer. We define a CNN with 2 convolutional layers. Each convolutional is followed by a ReLU. At the end, we perform an average pooling. (Note that `view` is PyTorch's version of numpy's `reshape`) "
      ]
    },
    {
      "cell_type": "code",
      "metadata": {
        "id": "zmZr8i1jQcN6"
      },
      "source": [
        "class Mnist_CNN(nn.Module):\n",
        "  def __init__(self):\n",
        "    super().__init__()\n",
        "    self.conv1 = nn.Conv2d(1, 16, kernel_size=3, stride=2, padding=1)\n",
        "    self.conv2 = nn.Conv2d(16, 16, kernel_size=3, stride=2, padding=1)\n",
        "    self.conv3 = nn.Conv2d(16, 10, kernel_size=3, stride=2, padding=1)\n",
        "\n",
        "  def forward(self, xb):\n",
        "    xb = xb.view(-1, 1, 28, 28)\n",
        "    xb = F.relu(self.conv1(xb))\n",
        "    xb = F.relu(self.conv2(xb))\n",
        "    xb = F.relu(self.conv3(xb))\n",
        "    xb = F.avg_pool2d(xb, 4)\n",
        "    return xb.view(-1, xb.size(1))\n",
        "\n",
        "lr = 0.1"
      ],
      "execution_count": 39,
      "outputs": []
    },
    {
      "cell_type": "markdown",
      "metadata": {
        "id": "hABAPZwLRCNX"
      },
      "source": [
        "[Momentum](https://cs231n.github.io/neural-networks-3/#sgd) is a variation on stochastic gradient descent that takes previous updates into account as well and generally leads to faster training. "
      ]
    },
    {
      "cell_type": "code",
      "metadata": {
        "colab": {
          "base_uri": "https://localhost:8080/"
        },
        "id": "1q2Wwex5RUJW",
        "outputId": "a526134f-1560-485b-8a9c-d08073bf0b3c"
      },
      "source": [
        "model = Mnist_CNN()\n",
        "opt = optim.SGD(model.parameters(), lr=lr, momentum=0.9)\n",
        "\n",
        "fit(epochs, model, loss_func, opt, train_dl, valid_dl)"
      ],
      "execution_count": 40,
      "outputs": [
        {
          "output_type": "stream",
          "text": [
            "0 0.34427460259199144\n",
            "1 0.24302370023727418\n"
          ],
          "name": "stdout"
        }
      ]
    },
    {
      "cell_type": "markdown",
      "metadata": {
        "id": "vc_f3-_PRyxZ"
      },
      "source": [
        "## nn.Sequential\n",
        "`torch.nn` has another handy class we can use to simplify our code: [Sequential](https://pytorch.org/docs/stable/nn.html#torch.nn.Sequential). A `Sequential` object runs each of the modules contained within it, in a sequential manner. This is a simpler way of writing our neural network. \n",
        "\n",
        "To take advantage of this, we need to be able to easily define our **custom layer** from a given function. For instance, PyTorch doesn't have a *view layer* and we need to create one for our network. `Lambda` will create layer that we can then use when defining a network with `Sequential`. "
      ]
    },
    {
      "cell_type": "code",
      "metadata": {
        "id": "YQUTW27WRl8x"
      },
      "source": [
        "class Lambda(nn.Module):\n",
        "  def __init__(self, func):\n",
        "    super().__init__()\n",
        "    self.func = func \n",
        "\n",
        "  def forward(self, x):\n",
        "    return self.func(x)\n",
        "\n",
        "def preprocess(x):\n",
        "  return x.view(-1, 1, 28, 28)\n"
      ],
      "execution_count": 41,
      "outputs": []
    },
    {
      "cell_type": "markdown",
      "metadata": {
        "id": "kyOEibIuaUbo"
      },
      "source": [
        "The model created with `Sequential` is simply:"
      ]
    },
    {
      "cell_type": "code",
      "metadata": {
        "colab": {
          "base_uri": "https://localhost:8080/"
        },
        "id": "kqRZzhTzaTqg",
        "outputId": "55a52737-9703-4cc2-d43b-039ee8aa6fc2"
      },
      "source": [
        "model = nn.Sequential(\n",
        "    Lambda(preprocess),\n",
        "    nn.Conv2d(1, 16, kernel_size=3, stride=2, padding=1),\n",
        "    nn.ReLU(),\n",
        "    nn.Conv2d(16, 16, kernel_size=3, stride=2, padding=1),\n",
        "    nn.ReLU(),\n",
        "    nn.Conv2d(16, 10, kernel_size=3, stride=2, padding=1),\n",
        "    nn.ReLU(),\n",
        "    nn.AvgPool2d(4),\n",
        "    Lambda(lambda x: x.view(x.size(0), -1)),\n",
        ")\n",
        "\n",
        "opt = optim.SGD(model.parameters(), lr=lr, momentum=0.9)\n",
        "\n",
        "fit(epochs, model, loss_func, opt, train_dl, valid_dl)"
      ],
      "execution_count": 42,
      "outputs": [
        {
          "output_type": "stream",
          "text": [
            "0 0.3732661637306213\n",
            "1 0.24338177943229675\n"
          ],
          "name": "stdout"
        }
      ]
    },
    {
      "cell_type": "markdown",
      "metadata": {
        "id": "yjEkr9-xb3Ih"
      },
      "source": [
        "## Wrapping DataLoader \n",
        "\n",
        "Our CNN is fairly concise, but it only works with MNIST, because: \n",
        "* It assumes the input is a 28x28 long vector \n",
        "* It assumes that the final CNN grid size if 4x4 (since that is the average pooling kernel size we used)\n",
        "\n",
        "Let us get rid of these two assumptions, so our model works with any 2d single channel image. First, we can remove the initial Lambda layer by moving the data preprocessing into generator: "
      ]
    },
    {
      "cell_type": "code",
      "metadata": {
        "id": "5jhtR3p1beLO"
      },
      "source": [
        "def preprocess(x, y):\n",
        "  return x.view(-1, 1, 28, 28), y \n",
        "\n",
        "\n",
        "class WrappedDataLoader: \n",
        "  def __init__(self, dl, func):\n",
        "    self.dl = dl \n",
        "    self.func = func \n",
        "\n",
        "  def __len__(self):\n",
        "    return len(self.dl)\n",
        "\n",
        "  def __iter__(self):\n",
        "    batches = iter(self.dl)\n",
        "    for b in batches: \n",
        "      yield (self.func(*b))\n",
        "\n",
        "train_dl, valid_dl = get_data(train_ds, valid_ds, bs)\n",
        "train_dl = WrappedDataLoader(train_dl, preprocess)\n",
        "valid_dl = WrappedDataLoader(valid_dl, preprocess)"
      ],
      "execution_count": 43,
      "outputs": []
    },
    {
      "cell_type": "markdown",
      "metadata": {
        "id": "L7yKCerqdxU8"
      },
      "source": [
        "Next, we can replace `nn.AvgPool2d` with `nn.AdaptiveAvgPool2d`, which allows us to define the size of the *output tensor* we want, rather than the *input tensor* we have. As a result, our model will work with any size input. "
      ]
    },
    {
      "cell_type": "code",
      "metadata": {
        "id": "oIJjZOyMeGtL"
      },
      "source": [
        "model = nn.Sequential(\n",
        "    nn.Conv2d(1, 16, kernel_size=3, stride=3, padding=1),\n",
        "    nn.ReLU(),\n",
        "    nn.Conv2d(16, 16, kernel_size=3, stride=3, padding=1),\n",
        "    nn.ReLU(), \n",
        "    nn.Conv2d(16, 10, kernel_size=3, stride=3, padding=1),\n",
        "    nn.ReLU(), \n",
        "    nn.AdaptiveAvgPool2d(1),\n",
        "    Lambda(lambda x: x.view(x.size(0), -1)),\n",
        ")\n",
        "\n",
        "opt = optim.SGD(model.parameters(), lr=lr, momentum=0.9)"
      ],
      "execution_count": 44,
      "outputs": []
    },
    {
      "cell_type": "markdown",
      "metadata": {
        "id": "V1jc0OrVfBtp"
      },
      "source": [
        "Let us try it out: "
      ]
    },
    {
      "cell_type": "code",
      "metadata": {
        "colab": {
          "base_uri": "https://localhost:8080/"
        },
        "id": "abrBm2nufAjl",
        "outputId": "5438a933-88cf-45c2-a690-9de1d758150d"
      },
      "source": [
        "fit(epochs, model, loss_func, opt, train_dl, valid_dl)"
      ],
      "execution_count": 45,
      "outputs": [
        {
          "output_type": "stream",
          "text": [
            "0 0.18615601543188096\n",
            "1 0.14909786041378975\n"
          ],
          "name": "stdout"
        }
      ]
    },
    {
      "cell_type": "markdown",
      "metadata": {
        "id": "ccbvt1vwfWQG"
      },
      "source": [
        "# Using your GPU\n",
        "If you are lucky enough to have access to a CUDA-capable GPU you can use it to speed up your code. First check that your GPU is working in PyTorch. "
      ]
    },
    {
      "cell_type": "code",
      "metadata": {
        "colab": {
          "base_uri": "https://localhost:8080/"
        },
        "id": "sKeI4Va_fVxT",
        "outputId": "05847c00-d525-43b2-cc9e-3e9a1b47e474"
      },
      "source": [
        "print(torch.cuda.is_available())"
      ],
      "execution_count": 47,
      "outputs": [
        {
          "output_type": "stream",
          "text": [
            "True\n"
          ],
          "name": "stdout"
        }
      ]
    },
    {
      "cell_type": "markdown",
      "metadata": {
        "id": "1AfP6RtngCcF"
      },
      "source": [
        "And then create a device object for it: "
      ]
    },
    {
      "cell_type": "code",
      "metadata": {
        "id": "wOrOwMARgBix"
      },
      "source": [
        "dev = torch.device(\"cuda\") if torch.cuda.is_available() else torch.device(\"cpu\")"
      ],
      "execution_count": 46,
      "outputs": []
    },
    {
      "cell_type": "markdown",
      "metadata": {
        "id": "TMX1FRingV4T"
      },
      "source": [
        "Let us update `preprocess` to move batches to the GPU: "
      ]
    },
    {
      "cell_type": "code",
      "metadata": {
        "id": "Y7NqovmIgPtk"
      },
      "source": [
        "def preprocess(x, y):\n",
        "  return x.view(-1, 1, 28, 28).to(dev), y.to(dev)\n",
        "\n",
        "train_dl, valid_dl = get_data(train_ds, valid_ds, bs)\n",
        "train_dl = WrappedDataLoader(train_dl, preprocess)\n",
        "valid_dl = WrappedDataLoader(valid_dl, preprocess)"
      ],
      "execution_count": 49,
      "outputs": []
    },
    {
      "cell_type": "markdown",
      "metadata": {
        "id": "hKQAhu14g2WV"
      },
      "source": [
        "Finally, we can move our model to the GPU. "
      ]
    },
    {
      "cell_type": "code",
      "metadata": {
        "id": "7Qg2djyygyYk"
      },
      "source": [
        "model.to(dev)\n",
        "opt = optim.SGD(model.parameters(), lr=lr, momentum=0.9)"
      ],
      "execution_count": 50,
      "outputs": []
    },
    {
      "cell_type": "markdown",
      "metadata": {
        "id": "iEzYq-efhBZh"
      },
      "source": [
        "You should find it runs faster now: "
      ]
    },
    {
      "cell_type": "code",
      "metadata": {
        "colab": {
          "base_uri": "https://localhost:8080/"
        },
        "id": "1RBjYz5IhBDe",
        "outputId": "d27ec3f1-2d96-4c03-efcc-ce58efdc6703"
      },
      "source": [
        "fit(epochs, model, loss_func, opt, train_dl, valid_dl)"
      ],
      "execution_count": 51,
      "outputs": [
        {
          "output_type": "stream",
          "text": [
            "0 0.1254839172780514\n",
            "1 0.10716789889931679\n"
          ],
          "name": "stdout"
        }
      ]
    },
    {
      "cell_type": "markdown",
      "metadata": {
        "id": "EYaQBGNKhNSs"
      },
      "source": [
        "## Closing thoughts \n",
        "We now have a general data pipeline and training loop which you can use for training many types of models using PyTorch. To see how simple training a model can now be, take a look at the *mnist_sample* sample notebook. \n",
        "\n",
        "Of course, there are many things you will want to add, such as data augmentation, hyperparameter tuning, monitoring training, transfer learning, and so forth. These features are available in the fastai library which has been developed using the same design approach shown in this tutorial, providing a natural next step for practitioners looking to take their model further. \n",
        "\n",
        "We promised at the start of this tutorial we would explain through example each of `torch.nn`, `torch.optim`, `Dataset`, and `DataLoader`. So let us summarize what we have seen: \n",
        "\n",
        "* `torch.nn`\n",
        "  * `Module`: creates a callable which behaves like a function, but can also contain state (such as neural net layer weights). It knows what `Parameter`(s) it contains and can zero all their gradients, loop through them for weight updates, etc. \n",
        "  * `Parameter`: a wrapper for a tensor that tells a `Module` that it has weights that need updating during backprop. Only tensors with the *required_grad* attribute set are updated. \n",
        "  * `functional`: a module (usually imported into the `F` namespace by convention) which contains activation functions, etc, as well as non-stateful versions of layers such as convolutional and linear layers. \n",
        "* `torch.optim`: Contains optimizers such as `SGD`, which update the weights of `Parameter` during the backward step \n",
        "* `Dataset`: An abstract interface of object with a `__len__` and a `__getitem__`, including classes provided with PyTorch such as `TensorDataset`\n",
        "* `DataLoader`: Takes any `Dataset` and creates an iterator which returns batches of data. "
      ]
    },
    {
      "cell_type": "code",
      "metadata": {
        "id": "8cmxSt7mhKBN"
      },
      "source": [
        ""
      ],
      "execution_count": null,
      "outputs": []
    }
  ]
}