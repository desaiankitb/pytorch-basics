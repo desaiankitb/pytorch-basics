{
  "nbformat": 4,
  "nbformat_minor": 0,
  "metadata": {
    "colab": {
      "name": "03_cifar10.ipynb",
      "provenance": [],
      "authorship_tag": "ABX9TyO8s2TnxesOE47oR/CpLlE2",
      "include_colab_link": true
    },
    "kernelspec": {
      "name": "python3",
      "display_name": "Python 3"
    },
    "language_info": {
      "name": "python"
    },
    "widgets": {
      "application/vnd.jupyter.widget-state+json": {
        "c9a8fcf32fab48c3b23aab158b795160": {
          "model_module": "@jupyter-widgets/controls",
          "model_name": "HBoxModel",
          "state": {
            "_view_name": "HBoxView",
            "_dom_classes": [],
            "_model_name": "HBoxModel",
            "_view_module": "@jupyter-widgets/controls",
            "_model_module_version": "1.5.0",
            "_view_count": null,
            "_view_module_version": "1.5.0",
            "box_style": "",
            "layout": "IPY_MODEL_2341c89ae39a4b9bbb8b0594c2c010fa",
            "_model_module": "@jupyter-widgets/controls",
            "children": [
              "IPY_MODEL_349f58ef852d47deacc5cd63d13ae98b",
              "IPY_MODEL_3116eaea65194e4997f45c629c7bd8d5"
            ]
          }
        },
        "2341c89ae39a4b9bbb8b0594c2c010fa": {
          "model_module": "@jupyter-widgets/base",
          "model_name": "LayoutModel",
          "state": {
            "_view_name": "LayoutView",
            "grid_template_rows": null,
            "right": null,
            "justify_content": null,
            "_view_module": "@jupyter-widgets/base",
            "overflow": null,
            "_model_module_version": "1.2.0",
            "_view_count": null,
            "flex_flow": null,
            "width": null,
            "min_width": null,
            "border": null,
            "align_items": null,
            "bottom": null,
            "_model_module": "@jupyter-widgets/base",
            "top": null,
            "grid_column": null,
            "overflow_y": null,
            "overflow_x": null,
            "grid_auto_flow": null,
            "grid_area": null,
            "grid_template_columns": null,
            "flex": null,
            "_model_name": "LayoutModel",
            "justify_items": null,
            "grid_row": null,
            "max_height": null,
            "align_content": null,
            "visibility": null,
            "align_self": null,
            "height": null,
            "min_height": null,
            "padding": null,
            "grid_auto_rows": null,
            "grid_gap": null,
            "max_width": null,
            "order": null,
            "_view_module_version": "1.2.0",
            "grid_template_areas": null,
            "object_position": null,
            "object_fit": null,
            "grid_auto_columns": null,
            "margin": null,
            "display": null,
            "left": null
          }
        },
        "349f58ef852d47deacc5cd63d13ae98b": {
          "model_module": "@jupyter-widgets/controls",
          "model_name": "FloatProgressModel",
          "state": {
            "_view_name": "ProgressView",
            "style": "IPY_MODEL_c7d647eea8a4429489f51a1f6a77c867",
            "_dom_classes": [],
            "description": "",
            "_model_name": "FloatProgressModel",
            "bar_style": "success",
            "max": 170498071,
            "_view_module": "@jupyter-widgets/controls",
            "_model_module_version": "1.5.0",
            "value": 170498071,
            "_view_count": null,
            "_view_module_version": "1.5.0",
            "orientation": "horizontal",
            "min": 0,
            "description_tooltip": null,
            "_model_module": "@jupyter-widgets/controls",
            "layout": "IPY_MODEL_96ba9ab53b5c42d39c481aad90133088"
          }
        },
        "3116eaea65194e4997f45c629c7bd8d5": {
          "model_module": "@jupyter-widgets/controls",
          "model_name": "HTMLModel",
          "state": {
            "_view_name": "HTMLView",
            "style": "IPY_MODEL_47653dd7b7a840b782182c9779a16c58",
            "_dom_classes": [],
            "description": "",
            "_model_name": "HTMLModel",
            "placeholder": "​",
            "_view_module": "@jupyter-widgets/controls",
            "_model_module_version": "1.5.0",
            "value": " 170499072/? [00:07&lt;00:00, 21875569.99it/s]",
            "_view_count": null,
            "_view_module_version": "1.5.0",
            "description_tooltip": null,
            "_model_module": "@jupyter-widgets/controls",
            "layout": "IPY_MODEL_a708a03fbc844d5b83f89b2307d7d779"
          }
        },
        "c7d647eea8a4429489f51a1f6a77c867": {
          "model_module": "@jupyter-widgets/controls",
          "model_name": "ProgressStyleModel",
          "state": {
            "_view_name": "StyleView",
            "_model_name": "ProgressStyleModel",
            "description_width": "initial",
            "_view_module": "@jupyter-widgets/base",
            "_model_module_version": "1.5.0",
            "_view_count": null,
            "_view_module_version": "1.2.0",
            "bar_color": null,
            "_model_module": "@jupyter-widgets/controls"
          }
        },
        "96ba9ab53b5c42d39c481aad90133088": {
          "model_module": "@jupyter-widgets/base",
          "model_name": "LayoutModel",
          "state": {
            "_view_name": "LayoutView",
            "grid_template_rows": null,
            "right": null,
            "justify_content": null,
            "_view_module": "@jupyter-widgets/base",
            "overflow": null,
            "_model_module_version": "1.2.0",
            "_view_count": null,
            "flex_flow": null,
            "width": null,
            "min_width": null,
            "border": null,
            "align_items": null,
            "bottom": null,
            "_model_module": "@jupyter-widgets/base",
            "top": null,
            "grid_column": null,
            "overflow_y": null,
            "overflow_x": null,
            "grid_auto_flow": null,
            "grid_area": null,
            "grid_template_columns": null,
            "flex": null,
            "_model_name": "LayoutModel",
            "justify_items": null,
            "grid_row": null,
            "max_height": null,
            "align_content": null,
            "visibility": null,
            "align_self": null,
            "height": null,
            "min_height": null,
            "padding": null,
            "grid_auto_rows": null,
            "grid_gap": null,
            "max_width": null,
            "order": null,
            "_view_module_version": "1.2.0",
            "grid_template_areas": null,
            "object_position": null,
            "object_fit": null,
            "grid_auto_columns": null,
            "margin": null,
            "display": null,
            "left": null
          }
        },
        "47653dd7b7a840b782182c9779a16c58": {
          "model_module": "@jupyter-widgets/controls",
          "model_name": "DescriptionStyleModel",
          "state": {
            "_view_name": "StyleView",
            "_model_name": "DescriptionStyleModel",
            "description_width": "",
            "_view_module": "@jupyter-widgets/base",
            "_model_module_version": "1.5.0",
            "_view_count": null,
            "_view_module_version": "1.2.0",
            "_model_module": "@jupyter-widgets/controls"
          }
        },
        "a708a03fbc844d5b83f89b2307d7d779": {
          "model_module": "@jupyter-widgets/base",
          "model_name": "LayoutModel",
          "state": {
            "_view_name": "LayoutView",
            "grid_template_rows": null,
            "right": null,
            "justify_content": null,
            "_view_module": "@jupyter-widgets/base",
            "overflow": null,
            "_model_module_version": "1.2.0",
            "_view_count": null,
            "flex_flow": null,
            "width": null,
            "min_width": null,
            "border": null,
            "align_items": null,
            "bottom": null,
            "_model_module": "@jupyter-widgets/base",
            "top": null,
            "grid_column": null,
            "overflow_y": null,
            "overflow_x": null,
            "grid_auto_flow": null,
            "grid_area": null,
            "grid_template_columns": null,
            "flex": null,
            "_model_name": "LayoutModel",
            "justify_items": null,
            "grid_row": null,
            "max_height": null,
            "align_content": null,
            "visibility": null,
            "align_self": null,
            "height": null,
            "min_height": null,
            "padding": null,
            "grid_auto_rows": null,
            "grid_gap": null,
            "max_width": null,
            "order": null,
            "_view_module_version": "1.2.0",
            "grid_template_areas": null,
            "object_position": null,
            "object_fit": null,
            "grid_auto_columns": null,
            "margin": null,
            "display": null,
            "left": null
          }
        }
      }
    }
  },
  "cells": [
    {
      "cell_type": "markdown",
      "metadata": {
        "id": "view-in-github",
        "colab_type": "text"
      },
      "source": [
        "<a href=\"https://colab.research.google.com/github/desaiankitb/pytorch-basics/blob/main/deep-learning-blitz/03_cifar10.ipynb\" target=\"_parent\"><img src=\"https://colab.research.google.com/assets/colab-badge.svg\" alt=\"Open In Colab\"/></a>"
      ]
    },
    {
      "cell_type": "code",
      "metadata": {
        "id": "bwpYr_FSuspi"
      },
      "source": [
        "%matplotlib inline"
      ],
      "execution_count": 1,
      "outputs": []
    },
    {
      "cell_type": "markdown",
      "metadata": {
        "id": "nHYJ71sKu5mA"
      },
      "source": [
        "# Training a Classifier\n",
        "This is it. You have seen how to define neural networks, compute loss and make updates to the weights of the network. \n",
        "\n",
        "Now you might be thinking, \n",
        "\n",
        "## What about data?\n",
        "\n",
        "Generally, when you have to deal with image, text, audio, or video data, you can use standard python packages that load data into a numpy array. Then you can convert this array into a `torch.*Tensor`. \n",
        "  - For images, packages such as Pillow, OpenCV are useful. \n",
        "  - For audio, packages such as scipy and librosa \n",
        "  - For text, either raw Python or Cython based loading, or NLTK and SpaCy are useful \n",
        "\n",
        "Specifically for vision, we have created a package called `torchvision`, that has data loaders for common datasets such as Imagenet, CIFAR10, MNIST, etc. and data transformers for images, viz., `torchvision.datasets` and `torch.utils.data.DataLoader`.\n",
        "\n",
        "This provides a huge convenience and avoids writing boilerplate code. \n",
        "\n",
        "For this notebook, we will use CIFAR10 dataset. It has classes: 'airplane', 'automobile', 'bird', 'cat', 'deer', 'dog', 'frong', 'horse', 'ship', 'truck'. The images in CIFAR-10 are of size 32x32, i.e. 3-channel color images of 32x32 pixel in size. \n",
        "![image](https://pytorch.org/tutorials/_images/cifar10.png)\n",
        "cifar10\n",
        "\n",
        "### Training an image classifier \n",
        "\n",
        "We will do the following steps in order: \n",
        "\n",
        "1. Load and normalize the CIFAR10 training and test datasets using `torchvision` \n",
        "2. Define a Convolutional Neural Network \n",
        "3. Define a loss function \n",
        "4. Train the network on the training data \n",
        "5. Test the network on the test data \n",
        "\n",
        "### 1. Load and normalize CIFAR10\n",
        "\n",
        "Using `torchvision`, it is extremely easy to load CIFAR10. \n"
      ]
    },
    {
      "cell_type": "code",
      "metadata": {
        "id": "FTn0a7gw0V6C"
      },
      "source": [
        "import torch\n",
        "import torchvision \n",
        "import torchvision.transforms as transforms "
      ],
      "execution_count": 2,
      "outputs": []
    },
    {
      "cell_type": "markdown",
      "metadata": {
        "id": "KO2r8iU90nOT"
      },
      "source": [
        "The output of torchvision datasets are PILImage images of range [0, 1]. We transform them to Tensors of normalized range [-1, 1].\n",
        "\n",
        "> **Note:** If running on Windows and you get a `BrokenPipeError`, try setting the `num_worker` of `torch.utils.data.DataLoader()` to 0. "
      ]
    },
    {
      "cell_type": "code",
      "metadata": {
        "colab": {
          "base_uri": "https://localhost:8080/",
          "height": 137,
          "referenced_widgets": [
            "c9a8fcf32fab48c3b23aab158b795160",
            "2341c89ae39a4b9bbb8b0594c2c010fa",
            "349f58ef852d47deacc5cd63d13ae98b",
            "3116eaea65194e4997f45c629c7bd8d5",
            "c7d647eea8a4429489f51a1f6a77c867",
            "96ba9ab53b5c42d39c481aad90133088",
            "47653dd7b7a840b782182c9779a16c58",
            "a708a03fbc844d5b83f89b2307d7d779"
          ]
        },
        "id": "4-qv30N60b4V",
        "outputId": "2bea3b63-4506-4e33-d260-8be5b6959a2b"
      },
      "source": [
        "transform = transforms.Compose(\n",
        "    [\n",
        "      transforms.ToTensor(),\n",
        "      transforms.Normalize( (0.5, 0.5, 0.5), (0.5, 0.5, 0.5) )\n",
        "    ]\n",
        ")\n",
        "\n",
        "batch_size = 4\n",
        "\n",
        "trainset = torchvision.datasets.CIFAR10(root='./data', train=True,\n",
        "                                        download=True, transform=transform)\n",
        "\n",
        "trainloader = torch.utils.data.DataLoader(trainset, batch_size=batch_size,\n",
        "                                          shuffle=True, num_workers=2)\n",
        "\n",
        "testset = torchvision.datasets.CIFAR10(root=\"./data\", train=False,\n",
        "                                       download=True, transform=transform)\n",
        "\n",
        "testloader = torch.utils.data.DataLoader(testset, batch_size=batch_size, \n",
        "                                         shuffle=False, num_workers=2)\n",
        "\n",
        "classes = ['plane', 'car', 'bird', 'cat', \n",
        "           'deer', 'dog', 'frog', 'horse', 'ship', 'truck']"
      ],
      "execution_count": 3,
      "outputs": [
        {
          "output_type": "stream",
          "text": [
            "Downloading https://www.cs.toronto.edu/~kriz/cifar-10-python.tar.gz to ./data/cifar-10-python.tar.gz\n"
          ],
          "name": "stdout"
        },
        {
          "output_type": "display_data",
          "data": {
            "application/vnd.jupyter.widget-view+json": {
              "model_id": "c9a8fcf32fab48c3b23aab158b795160",
              "version_minor": 0,
              "version_major": 2
            },
            "text/plain": [
              "HBox(children=(FloatProgress(value=0.0, max=170498071.0), HTML(value='')))"
            ]
          },
          "metadata": {
            "tags": []
          }
        },
        {
          "output_type": "stream",
          "text": [
            "\n",
            "Extracting ./data/cifar-10-python.tar.gz to ./data\n",
            "Files already downloaded and verified\n"
          ],
          "name": "stdout"
        }
      ]
    },
    {
      "cell_type": "markdown",
      "metadata": {
        "id": "edJAvNco4xpc"
      },
      "source": [
        "Let us show some of the training images, for fun. "
      ]
    },
    {
      "cell_type": "code",
      "metadata": {
        "colab": {
          "base_uri": "https://localhost:8080/",
          "height": 155
        },
        "id": "e6mbhWef4aNR",
        "outputId": "dc5246b2-0842-4e3b-8be3-18461d738ef2"
      },
      "source": [
        "import matplotlib.pyplot as plt\n",
        "import numpy as np\n",
        "\n",
        "# functions to show an image \n",
        "\n",
        "def imshow(img):\n",
        "  img = img / 2 + 0.5 # unnormalize \n",
        "  npimg = img.numpy()\n",
        "  plt.imshow(np.transpose(npimg, (1, 2, 0)))\n",
        "  plt.show()\n",
        "\n",
        "# get some random training images \n",
        "dataiter = iter(trainloader)\n",
        "images, labels = dataiter.next()\n",
        "\n",
        "# show images \n",
        "imshow(torchvision.utils.make_grid(images))\n",
        "# print labels \n",
        "print(' '.join('%5s' % classes[labels[j]] for j in range(batch_size)))"
      ],
      "execution_count": 4,
      "outputs": [
        {
          "output_type": "display_data",
          "data": {
            "image/png": "[encoded data removed]",
            "text/plain": [
              "<Figure size 432x288 with 1 Axes>"
            ]
          },
          "metadata": {
            "tags": [],
            "needs_background": "light"
          }
        },
        {
          "output_type": "stream",
          "text": [
            " ship   cat   car   car\n"
          ],
          "name": "stdout"
        }
      ]
    },
    {
      "cell_type": "markdown",
      "metadata": {
        "id": "d5lVmAU56RB0"
      },
      "source": [
        "Run the above snippt multiple times to see different images in the dataset. \n",
        "\n",
        "### 2. Define a Convolutional Neural Network \n",
        "\n",
        "Copy the neural network from the Neural Networks section before and modify it to take 3-channel images (instead of 1-channel images as it was defined). "
      ]
    },
    {
      "cell_type": "code",
      "metadata": {
        "id": "AC1XfneX6Dnb"
      },
      "source": [
        "import torch.nn as nn\n",
        "import torch.nn.functional as F\n",
        "\n",
        "class Net(nn.Module):\n",
        "  def __init__(self):\n",
        "    super().__init__()\n",
        "    self.conv1 = nn.Conv2d(3, 6, 5)\n",
        "    self.pool = nn.MaxPool2d(2, 2)\n",
        "    self.conv2 = nn.Conv2d(6, 16, 5)\n",
        "    self.fc1 = nn.Linear(16 * 5 * 5, 120)\n",
        "    self.fc2 = nn.Linear(120, 84)\n",
        "    self.fc3 = nn.Linear(84, 10)\n",
        "\n",
        "  def forward(self, x):\n",
        "    x = self.pool(F.relu(self.conv1(x)))\n",
        "    x = self.pool(F.relu(self.conv2(x)))\n",
        "    x = torch.flatten(x, 1) # flatten all dimentions except batch \n",
        "    x = F.relu(self.fc1(x))\n",
        "    x = F.relu(self.fc2(x))\n",
        "    x = self.fc3(x)\n",
        "    return x\n",
        "\n",
        "net = Net()"
      ],
      "execution_count": 5,
      "outputs": []
    },
    {
      "cell_type": "markdown",
      "metadata": {
        "id": "dCLFTy-P-w4i"
      },
      "source": [
        "### 3. Define a Loss function and optimizer \n",
        "\n",
        "Let us use a Classification Cross-Entropy loss and SGD with momentum. "
      ]
    },
    {
      "cell_type": "code",
      "metadata": {
        "id": "b3QFFvYe-oEK"
      },
      "source": [
        "import torch.optim as optim \n",
        "\n",
        "criterion = nn.CrossEntropyLoss()\n",
        "optimizer = optim.SGD(net.parameters(), lr=0.001, momentum=0.9)"
      ],
      "execution_count": 6,
      "outputs": []
    },
    {
      "cell_type": "markdown",
      "metadata": {
        "id": "lDQFLi9T_RYc"
      },
      "source": [
        "### 4. Train the network \n",
        "\n",
        "This is when things start to get interesting. We simply have a loop over data iterator, and feed the inputs to the network and optimize. "
      ]
    },
    {
      "cell_type": "code",
      "metadata": {
        "colab": {
          "base_uri": "https://localhost:8080/"
        },
        "id": "k7IjjGFJ_P_3",
        "outputId": "92648c59-f421-462d-b819-bad1885bf4db"
      },
      "source": [
        "for epoch in range(2): # loop over the dataset multiple times \n",
        "  running_loss = 0.0 \n",
        "  for i, data in enumerate(trainloader, 0):\n",
        "    # get the inputs; data is a list of [inputs, labels]\n",
        "    inputs, labels = data \n",
        "\n",
        "    # zero the parameter gradients \n",
        "    optimizer.zero_grad()\n",
        "\n",
        "    # forward + backward + optimize \n",
        "    outputs = net(inputs)\n",
        "    loss = criterion(outputs, labels)\n",
        "    loss.backward()\n",
        "    optimizer.step()\n",
        "\n",
        "    # print statistics \n",
        "    running_loss += loss.item()\n",
        "    if i % 2000 == 1999: # print every 2000th mini-batches \n",
        "      print(\"[%d, %5d] loss: %.3f\" % (epoch+1, i+1, running_loss/2000))\n",
        "      running_loss = 0.0\n",
        "\n",
        "print(\"Finished Training\") "
      ],
      "execution_count": 7,
      "outputs": [
        {
          "output_type": "stream",
          "text": [
            "/usr/local/lib/python3.7/dist-packages/torch/nn/functional.py:718: UserWarning: Named tensors and all their associated APIs are an experimental feature and subject to change. Please do not use them for anything important until they are released as stable. (Triggered internally at  /pytorch/c10/core/TensorImpl.h:1156.)\n",
            "  return torch.max_pool2d(input, kernel_size, stride, padding, dilation, ceil_mode)\n"
          ],
          "name": "stderr"
        },
        {
          "output_type": "stream",
          "text": [
            "[1,  2000] loss: 2.189\n",
            "[1,  4000] loss: 1.871\n",
            "[1,  6000] loss: 1.721\n",
            "[1,  8000] loss: 1.630\n",
            "[1, 10000] loss: 1.547\n",
            "[1, 12000] loss: 1.494\n",
            "[2,  2000] loss: 1.409\n",
            "[2,  4000] loss: 1.396\n",
            "[2,  6000] loss: 1.360\n",
            "[2,  8000] loss: 1.347\n",
            "[2, 10000] loss: 1.320\n",
            "[2, 12000] loss: 1.286\n",
            "Finished Training\n"
          ],
          "name": "stdout"
        }
      ]
    },
    {
      "cell_type": "markdown",
      "metadata": {
        "id": "-dCeIWA8Dfpo"
      },
      "source": [
        "Let us quickly save our trained model: "
      ]
    },
    {
      "cell_type": "code",
      "metadata": {
        "id": "H-iopTurCk-6"
      },
      "source": [
        "PATH = './cifar_net.pth'\n",
        "torch.save(net.state_dict(), PATH)"
      ],
      "execution_count": 8,
      "outputs": []
    },
    {
      "cell_type": "markdown",
      "metadata": {
        "id": "NO461QIqD494"
      },
      "source": [
        "See [here](https://pytorch.org/docs/stable/notes/serialization.html) for more details on saving PyTorch models. \n",
        "\n",
        "### 5. Test the network on the test data \n",
        "\n",
        "We have trained the network for 2 passes over over the training dataset. But we need to check if the network has learnt anything at all. \n",
        "\n",
        "We will check this by predicting the class label that the neural network outputs, and checking it against the ground-truth. If the prediction is correct, we add the sample to the list of correct predictions. \n",
        "\n",
        "Okey, first step. Let us display an image from the test set to get familiar. "
      ]
    },
    {
      "cell_type": "code",
      "metadata": {
        "colab": {
          "base_uri": "https://localhost:8080/",
          "height": 155
        },
        "id": "QFiTzgDpD23r",
        "outputId": "08d3a14f-f042-4f55-e203-003f421ae1ac"
      },
      "source": [
        "dataiter = iter(testloader)\n",
        "images, labels = dataiter.next()\n",
        "\n",
        "# print images \n",
        "imshow(torchvision.utils.make_grid(images))\n",
        "print(\"GroundTruth: \", \" \".join(\"%5s\" % classes[labels[j]] for j in range(4)))"
      ],
      "execution_count": 9,
      "outputs": [
        {
          "output_type": "display_data",
          "data": {
            "image/png": "[encoded data removed]",
            "text/plain": [
              "<Figure size 432x288 with 1 Axes>"
            ]
          },
          "metadata": {
            "tags": [],
            "needs_background": "light"
          }
        },
        {
          "output_type": "stream",
          "text": [
            "GroundTruth:    cat  ship  ship plane\n"
          ],
          "name": "stdout"
        }
      ]
    },
    {
      "cell_type": "markdown",
      "metadata": {
        "id": "OzQVcqHbIBfh"
      },
      "source": [
        "Next, let us load back in our saved model (note: saving and re-loading the model wasn't necessary here, we only did it to illustrate how to do so): "
      ]
    },
    {
      "cell_type": "code",
      "metadata": {
        "colab": {
          "base_uri": "https://localhost:8080/"
        },
        "id": "rRA_ZZ0DHpK4",
        "outputId": "b8dda2cb-e05c-4724-c19b-00309ead75b4"
      },
      "source": [
        "net = Net()\n",
        "net.load_state_dict(torch.load(PATH))"
      ],
      "execution_count": 10,
      "outputs": [
        {
          "output_type": "execute_result",
          "data": {
            "text/plain": [
              "<All keys matched successfully>"
            ]
          },
          "metadata": {
            "tags": []
          },
          "execution_count": 10
        }
      ]
    },
    {
      "cell_type": "markdown",
      "metadata": {
        "id": "p3Fp3P_2ISaR"
      },
      "source": [
        "Okey, now let us see what the neural network thinks these examples above are:"
      ]
    },
    {
      "cell_type": "code",
      "metadata": {
        "id": "wl-N_Vj0IQyb"
      },
      "source": [
        "outputs = net(images)"
      ],
      "execution_count": 11,
      "outputs": []
    },
    {
      "cell_type": "markdown",
      "metadata": {
        "id": "F2EXlUpsIcjx"
      },
      "source": [
        "The outputs are energies for the 10 classes. The higher the energy for a class, the more the network thinks that the image is of the perticular class. So let us get the index of the highest energy: "
      ]
    },
    {
      "cell_type": "code",
      "metadata": {
        "colab": {
          "base_uri": "https://localhost:8080/"
        },
        "id": "ZkSSLbVcIbEj",
        "outputId": "7e98327a-0eb6-43d3-ac93-3015de64fa56"
      },
      "source": [
        "_, predicted = torch.max(outputs, 1)\n",
        "print(\"Predicted: \", ' '.join('%5s' % classes[predicted[j]]\n",
        "                              for j in range(4)))"
      ],
      "execution_count": 12,
      "outputs": [
        {
          "output_type": "stream",
          "text": [
            "Predicted:    cat  ship  ship plane\n"
          ],
          "name": "stdout"
        }
      ]
    },
    {
      "cell_type": "markdown",
      "metadata": {
        "id": "3Y3dJkt0JHiq"
      },
      "source": [
        "The results seem pretty ok. \n",
        "\n",
        "Let us look at how the network performs on the whole dataset. "
      ]
    },
    {
      "cell_type": "code",
      "metadata": {
        "colab": {
          "base_uri": "https://localhost:8080/"
        },
        "id": "TsyN6djNI-My",
        "outputId": "a1dd6deb-8311-45b0-a3d3-8b7064f90889"
      },
      "source": [
        "correct = 0\n",
        "total = 0 \n",
        "# since we are not training, we do not need to calculate the gradients for our outputs\n",
        "with torch.no_grad():\n",
        "  for data in testloader:\n",
        "    images, labels = data \n",
        "    # calculate outputs by running images through the network \n",
        "    outputs = net(images)\n",
        "    # the class with the highest energy is what we choose as prediction \n",
        "    _, predicted = torch.max(outputs.data, 1)\n",
        "    total += labels.size(0)\n",
        "    correct += (predicted == labels).sum().item()\n",
        "\n",
        "print(\"Accuracy of the network on the 10000 test images: %d %%\"% (\n",
        "    100*correct/total))"
      ],
      "execution_count": 13,
      "outputs": [
        {
          "output_type": "stream",
          "text": [
            "Accuracy of the network on the 10000 test images: 53 %\n"
          ],
          "name": "stdout"
        }
      ]
    },
    {
      "cell_type": "markdown",
      "metadata": {
        "id": "FObALBpv18hE"
      },
      "source": [
        "That looks way better than chance, which is 10% accuracy (randomly picking a class out of 10 classes). Seems like the network learnt something. \n",
        "\n",
        "Hummm, what are the classes that performed well, and classes that did not perform well:"
      ]
    },
    {
      "cell_type": "code",
      "metadata": {
        "colab": {
          "base_uri": "https://localhost:8080/"
        },
        "id": "YMzYFXqu2OWY",
        "outputId": "2e5322bc-c603-451e-e232-9b9732b5fcb0"
      },
      "source": [
        "# prepare to count predictions for each class \n",
        "correct_pred = {classname: 0 for classname in classes}\n",
        "total_pred = {classname: 0 for classname in classes}\n",
        "\n",
        "# again no gradients needed \n",
        "with torch.no_grad():\n",
        "  for data in testloader:\n",
        "    images, labels = data\n",
        "    outputs = net(images)\n",
        "    _, predictions = torch.max(outputs, 1)\n",
        "    # collect the correct predictions for each class \n",
        "    for label, prediction in zip(labels, predictions):\n",
        "      if label == prediction:\n",
        "        correct_pred[classes[label]] += 1\n",
        "      total_pred[classes[label]] += 1\n",
        "\n",
        "# print accuracy for each class \n",
        "for classname, correct_count in correct_pred.items():\n",
        "  accuracy = 100 * float(correct_count) / total_pred[classname]\n",
        "  print(\"Accuracy for class {:5s} is: {:1f} %\".format(classname, \n",
        "                                                      accuracy))"
      ],
      "execution_count": 15,
      "outputs": [
        {
          "output_type": "stream",
          "text": [
            "Accuracy for class plane is: 60.900000 %\n",
            "Accuracy for class car   is: 60.600000 %\n",
            "Accuracy for class bird  is: 62.200000 %\n",
            "Accuracy for class cat   is: 34.100000 %\n",
            "Accuracy for class deer  is: 24.900000 %\n",
            "Accuracy for class dog   is: 31.800000 %\n",
            "Accuracy for class frog  is: 70.100000 %\n",
            "Accuracy for class horse is: 67.800000 %\n",
            "Accuracy for class ship  is: 64.800000 %\n",
            "Accuracy for class truck is: 59.800000 %\n"
          ],
          "name": "stdout"
        }
      ]
    },
    {
      "cell_type": "markdown",
      "metadata": {
        "id": "IwNtLAQf3l5C"
      },
      "source": [
        "Okey, so what next?\n",
        "\n",
        "How do we run these neural networks on the GPU?"
      ]
    },
    {
      "cell_type": "code",
      "metadata": {
        "id": "Ff3OwMy73aYw"
      },
      "source": [
        ""
      ],
      "execution_count": null,
      "outputs": []
    }
  ]
}