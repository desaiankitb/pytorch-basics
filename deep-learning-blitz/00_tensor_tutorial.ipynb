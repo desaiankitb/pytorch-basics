{
  "nbformat": 4,
  "nbformat_minor": 0,
  "metadata": {
    "colab": {
      "name": "00_tensor_tutorial.ipynb",
      "provenance": [],
      "authorship_tag": "ABX9TyMklrDgvZlwEZ98YXNOk5Ly",
      "include_colab_link": true
    },
    "kernelspec": {
      "name": "python3",
      "display_name": "Python 3"
    },
    "language_info": {
      "name": "python"
    }
  },
  "cells": [
    {
      "cell_type": "markdown",
      "metadata": {
        "id": "view-in-github",
        "colab_type": "text"
      },
      "source": [
        "<a href=\"https://colab.research.google.com/github/desaiankitb/pytorch-basics/blob/main/deep-learning-blitz/00_tensor_tutorial.ipynb\" target=\"_parent\"><img src=\"https://colab.research.google.com/assets/colab-badge.svg\" alt=\"Open In Colab\"/></a>"
      ]
    },
    {
      "cell_type": "code",
      "metadata": {
        "id": "PZfekyapl83j"
      },
      "source": [
        "%matplotlib inline"
      ],
      "execution_count": 1,
      "outputs": []
    },
    {
      "cell_type": "markdown",
      "metadata": {
        "id": "kPRavfZ5mHLT"
      },
      "source": [
        "# Tensors\n",
        "- Tensors are a specialized data structure that are very similar to array and matrices. In PyTorch, we use tensors to encode the inputs and outputs of a model, we wll as model's parameters. \n",
        "\n",
        "- Tensors are similar to NumPy's ndarrays, except that tensors can run on GPUs or other specialized hardware to accelerate computing. If you are familiar with ndarrays, you will be right at home with the Tensor API. If not, follow along in this quick API walkthrough. "
      ]
    },
    {
      "cell_type": "code",
      "metadata": {
        "id": "s-906nZZmGKW"
      },
      "source": [
        "import torch\n",
        "import numpy as np "
      ],
      "execution_count": 2,
      "outputs": []
    },
    {
      "cell_type": "markdown",
      "metadata": {
        "id": "LuJ1EplLmxAh"
      },
      "source": [
        "Tensort Initialization \n",
        "-----------------------\n",
        " - Tensors can be initialized in various ways. Take a look at the following examples: \n",
        "\n",
        "**Directly from data**\n",
        "\n",
        "- Tensors can be created directly from data. The data type is automatically inferrred. \n",
        "\n"
      ]
    },
    {
      "cell_type": "code",
      "metadata": {
        "id": "JmaJ4tPRmv05"
      },
      "source": [
        "data = [[1, 2], [3, 4]]\n",
        "x_data = torch.tensor(data)"
      ],
      "execution_count": 3,
      "outputs": []
    },
    {
      "cell_type": "markdown",
      "metadata": {
        "id": "lpCtk_5Wn2go"
      },
      "source": [
        "**From a NumPy array**\n",
        "\n",
        "- Tensors can be created from NumPy arrays (and vice versa - see `bridge-to-np-label`)"
      ]
    },
    {
      "cell_type": "code",
      "metadata": {
        "id": "-iqbipGTnbd6"
      },
      "source": [
        "np_array = np.array(data)\n",
        "x_np = torch.from_numpy(np_array)"
      ],
      "execution_count": 4,
      "outputs": []
    },
    {
      "cell_type": "markdown",
      "metadata": {
        "id": "p825Ol-uoX8k"
      },
      "source": [
        "**From another tensor**\n",
        "- The new tensor retains the properties (shape, datatype) of the argument tensor, unless explicity overridden. "
      ]
    },
    {
      "cell_type": "code",
      "metadata": {
        "colab": {
          "base_uri": "https://localhost:8080/"
        },
        "id": "q5-l0FTgoUsQ",
        "outputId": "dba6f402-bd27-46e9-b42a-49d820245d75"
      },
      "source": [
        "x_ones = torch.ones_like(x_data) # retains the properties of x_data\n",
        "print(f\"Ones Tensor: \\n {x_ones} \\n\")\n",
        "\n",
        "x_rand = torch.rand_like(x_data, dtype=torch.float) # overrides the datatype of x_data\n",
        "print(f\"Random Tensor: \\n {x_rand*10} \\n\")"
      ],
      "execution_count": 6,
      "outputs": [
        {
          "output_type": "stream",
          "text": [
            "Ones Tensor: \n",
            " tensor([[1, 1],\n",
            "        [1, 1]]) \n",
            "\n",
            "Random Tensor: \n",
            " tensor([[3.7572, 7.7689],\n",
            "        [3.1600, 9.2525]]) \n",
            "\n"
          ],
          "name": "stdout"
        }
      ]
    },
    {
      "cell_type": "markdown",
      "metadata": {
        "id": "veIw1zH-phjO"
      },
      "source": [
        "**With random constant values**\n",
        "- `shape` is a tuple of tensor dimentions. In the functions below, it determines the dimensionality of the output tensor. "
      ]
    },
    {
      "cell_type": "code",
      "metadata": {
        "colab": {
          "base_uri": "https://localhost:8080/"
        },
        "id": "tpfwbdExpBop",
        "outputId": "b9ae54a4-582d-490c-c329-b6892b088c87"
      },
      "source": [
        "shape = (2, 3,)\n",
        "rand_tensor = torch.rand(shape)\n",
        "ones_tensor = torch.ones(shape)\n",
        "zeros_tensor = torch.zeros(shape)\n",
        "\n",
        "print(f\"Random Tensor: \\n {rand_tensor} \\n\")\n",
        "print(f\"Ones Tensor: \\n {ones_tensor} \\n\")\n",
        "print(f\"Zeros Tensor: \\n {zeros_tensor}\")"
      ],
      "execution_count": 7,
      "outputs": [
        {
          "output_type": "stream",
          "text": [
            "Random Tensor: \n",
            " tensor([[0.8438, 0.9813, 0.4147],\n",
            "        [0.5029, 0.9704, 0.0011]]) \n",
            "\n",
            "Ones Tensor: \n",
            " tensor([[1., 1., 1.],\n",
            "        [1., 1., 1.]]) \n",
            "\n",
            "Zeros Tensor: \n",
            " tensor([[0., 0., 0.],\n",
            "        [0., 0., 0.]])\n"
          ],
          "name": "stdout"
        }
      ]
    },
    {
      "cell_type": "markdown",
      "metadata": {
        "id": "iywJqDR7uf6w"
      },
      "source": [
        "Tensor Attributes \n",
        "-----------------\n",
        "\n",
        "- Tensor attributes describe their shape, datatype, and the device on which they are stored. "
      ]
    },
    {
      "cell_type": "code",
      "metadata": {
        "colab": {
          "base_uri": "https://localhost:8080/"
        },
        "id": "EdJiJ38bqWxf",
        "outputId": "2772f27b-d80d-420c-e87c-77b6c6c72483"
      },
      "source": [
        "tensor = torch.rand(3, 4)\n",
        "\n",
        "print(f\"Shape of tensor: {tensor.shape}\")\n",
        "print(f\"Datatype of tensor: {tensor.dtype}\")\n",
        "print(f\"Device tensor is stored on: {tensor.device}\")"
      ],
      "execution_count": 8,
      "outputs": [
        {
          "output_type": "stream",
          "text": [
            "Shape of tensor: torch.Size([3, 4])\n",
            "Datatype of tensor: torch.float32\n",
            "Device tensor is stored on: cpu\n"
          ],
          "name": "stdout"
        }
      ]
    },
    {
      "cell_type": "markdown",
      "metadata": {
        "id": "Avn7ipUm9IAh"
      },
      "source": [
        "Tensor Operations\n",
        "-----------------\n",
        "- Over 100 tensor operations, including transposing, indexing, slicing, methematical operations, linear algebra, random sampling, and more are comprehensively described [here](https://pytorch.org/docs/stable/torch.html)\n",
        "- Each of them can be run on the GPU (at typically higher speeds than on a CPU). If you are using Colab, allocate a GPU by going to Edit > Notebook Settings. "
      ]
    },
    {
      "cell_type": "code",
      "metadata": {
        "id": "S6No50V0u8Wh"
      },
      "source": [
        ""
      ],
      "execution_count": null,
      "outputs": []
    }
  ]
}