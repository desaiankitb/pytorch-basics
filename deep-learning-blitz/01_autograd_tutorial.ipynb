{
  "nbformat": 4,
  "nbformat_minor": 0,
  "metadata": {
    "colab": {
      "name": "01_autograd_tutorial.ipynb",
      "provenance": [],
      "authorship_tag": "ABX9TyP0xgR4aejpIX8/wH41Aah9",
      "include_colab_link": true
    },
    "kernelspec": {
      "name": "python3",
      "display_name": "Python 3"
    },
    "language_info": {
      "name": "python"
    },
    "widgets": {
      "application/vnd.jupyter.widget-state+json": {
        "44354c5c774244d783856be79bd9e096": {
          "model_module": "@jupyter-widgets/controls",
          "model_name": "HBoxModel",
          "state": {
            "_view_name": "HBoxView",
            "_dom_classes": [],
            "_model_name": "HBoxModel",
            "_view_module": "@jupyter-widgets/controls",
            "_model_module_version": "1.5.0",
            "_view_count": null,
            "_view_module_version": "1.5.0",
            "box_style": "",
            "layout": "IPY_MODEL_7364986dd553426e85a94e11ff43c68d",
            "_model_module": "@jupyter-widgets/controls",
            "children": [
              "IPY_MODEL_66c60a4f0e9e4b22b5da7407f3c638e6",
              "IPY_MODEL_45ff8be0302d492e9242531c535d4490"
            ]
          }
        },
        "7364986dd553426e85a94e11ff43c68d": {
          "model_module": "@jupyter-widgets/base",
          "model_name": "LayoutModel",
          "state": {
            "_view_name": "LayoutView",
            "grid_template_rows": null,
            "right": null,
            "justify_content": null,
            "_view_module": "@jupyter-widgets/base",
            "overflow": null,
            "_model_module_version": "1.2.0",
            "_view_count": null,
            "flex_flow": null,
            "width": null,
            "min_width": null,
            "border": null,
            "align_items": null,
            "bottom": null,
            "_model_module": "@jupyter-widgets/base",
            "top": null,
            "grid_column": null,
            "overflow_y": null,
            "overflow_x": null,
            "grid_auto_flow": null,
            "grid_area": null,
            "grid_template_columns": null,
            "flex": null,
            "_model_name": "LayoutModel",
            "justify_items": null,
            "grid_row": null,
            "max_height": null,
            "align_content": null,
            "visibility": null,
            "align_self": null,
            "height": null,
            "min_height": null,
            "padding": null,
            "grid_auto_rows": null,
            "grid_gap": null,
            "max_width": null,
            "order": null,
            "_view_module_version": "1.2.0",
            "grid_template_areas": null,
            "object_position": null,
            "object_fit": null,
            "grid_auto_columns": null,
            "margin": null,
            "display": null,
            "left": null
          }
        },
        "66c60a4f0e9e4b22b5da7407f3c638e6": {
          "model_module": "@jupyter-widgets/controls",
          "model_name": "FloatProgressModel",
          "state": {
            "_view_name": "ProgressView",
            "style": "IPY_MODEL_296bf5cb9b1c44b096458db994f8e2e5",
            "_dom_classes": [],
            "description": "100%",
            "_model_name": "FloatProgressModel",
            "bar_style": "success",
            "max": 46830571,
            "_view_module": "@jupyter-widgets/controls",
            "_model_module_version": "1.5.0",
            "value": 46830571,
            "_view_count": null,
            "_view_module_version": "1.5.0",
            "orientation": "horizontal",
            "min": 0,
            "description_tooltip": null,
            "_model_module": "@jupyter-widgets/controls",
            "layout": "IPY_MODEL_325afaeebf384bf69e619df23436a5f3"
          }
        },
        "45ff8be0302d492e9242531c535d4490": {
          "model_module": "@jupyter-widgets/controls",
          "model_name": "HTMLModel",
          "state": {
            "_view_name": "HTMLView",
            "style": "IPY_MODEL_3aa47a6ac47342d1ad6f5df64367d7a8",
            "_dom_classes": [],
            "description": "",
            "_model_name": "HTMLModel",
            "placeholder": "​",
            "_view_module": "@jupyter-widgets/controls",
            "_model_module_version": "1.5.0",
            "value": " 44.7M/44.7M [04:32&lt;00:00, 172kB/s]",
            "_view_count": null,
            "_view_module_version": "1.5.0",
            "description_tooltip": null,
            "_model_module": "@jupyter-widgets/controls",
            "layout": "IPY_MODEL_8c3354450cda4b709075837326660ba2"
          }
        },
        "296bf5cb9b1c44b096458db994f8e2e5": {
          "model_module": "@jupyter-widgets/controls",
          "model_name": "ProgressStyleModel",
          "state": {
            "_view_name": "StyleView",
            "_model_name": "ProgressStyleModel",
            "description_width": "initial",
            "_view_module": "@jupyter-widgets/base",
            "_model_module_version": "1.5.0",
            "_view_count": null,
            "_view_module_version": "1.2.0",
            "bar_color": null,
            "_model_module": "@jupyter-widgets/controls"
          }
        },
        "325afaeebf384bf69e619df23436a5f3": {
          "model_module": "@jupyter-widgets/base",
          "model_name": "LayoutModel",
          "state": {
            "_view_name": "LayoutView",
            "grid_template_rows": null,
            "right": null,
            "justify_content": null,
            "_view_module": "@jupyter-widgets/base",
            "overflow": null,
            "_model_module_version": "1.2.0",
            "_view_count": null,
            "flex_flow": null,
            "width": null,
            "min_width": null,
            "border": null,
            "align_items": null,
            "bottom": null,
            "_model_module": "@jupyter-widgets/base",
            "top": null,
            "grid_column": null,
            "overflow_y": null,
            "overflow_x": null,
            "grid_auto_flow": null,
            "grid_area": null,
            "grid_template_columns": null,
            "flex": null,
            "_model_name": "LayoutModel",
            "justify_items": null,
            "grid_row": null,
            "max_height": null,
            "align_content": null,
            "visibility": null,
            "align_self": null,
            "height": null,
            "min_height": null,
            "padding": null,
            "grid_auto_rows": null,
            "grid_gap": null,
            "max_width": null,
            "order": null,
            "_view_module_version": "1.2.0",
            "grid_template_areas": null,
            "object_position": null,
            "object_fit": null,
            "grid_auto_columns": null,
            "margin": null,
            "display": null,
            "left": null
          }
        },
        "3aa47a6ac47342d1ad6f5df64367d7a8": {
          "model_module": "@jupyter-widgets/controls",
          "model_name": "DescriptionStyleModel",
          "state": {
            "_view_name": "StyleView",
            "_model_name": "DescriptionStyleModel",
            "description_width": "",
            "_view_module": "@jupyter-widgets/base",
            "_model_module_version": "1.5.0",
            "_view_count": null,
            "_view_module_version": "1.2.0",
            "_model_module": "@jupyter-widgets/controls"
          }
        },
        "8c3354450cda4b709075837326660ba2": {
          "model_module": "@jupyter-widgets/base",
          "model_name": "LayoutModel",
          "state": {
            "_view_name": "LayoutView",
            "grid_template_rows": null,
            "right": null,
            "justify_content": null,
            "_view_module": "@jupyter-widgets/base",
            "overflow": null,
            "_model_module_version": "1.2.0",
            "_view_count": null,
            "flex_flow": null,
            "width": null,
            "min_width": null,
            "border": null,
            "align_items": null,
            "bottom": null,
            "_model_module": "@jupyter-widgets/base",
            "top": null,
            "grid_column": null,
            "overflow_y": null,
            "overflow_x": null,
            "grid_auto_flow": null,
            "grid_area": null,
            "grid_template_columns": null,
            "flex": null,
            "_model_name": "LayoutModel",
            "justify_items": null,
            "grid_row": null,
            "max_height": null,
            "align_content": null,
            "visibility": null,
            "align_self": null,
            "height": null,
            "min_height": null,
            "padding": null,
            "grid_auto_rows": null,
            "grid_gap": null,
            "max_width": null,
            "order": null,
            "_view_module_version": "1.2.0",
            "grid_template_areas": null,
            "object_position": null,
            "object_fit": null,
            "grid_auto_columns": null,
            "margin": null,
            "display": null,
            "left": null
          }
        }
      }
    }
  },
  "cells": [
    {
      "cell_type": "markdown",
      "metadata": {
        "id": "view-in-github",
        "colab_type": "text"
      },
      "source": [
        "<a href=\"https://colab.research.google.com/github/desaiankitb/pytorch-basics/blob/main/deep-learning-blitz/01_autograd_tutorial.ipynb\" target=\"_parent\"><img src=\"https://colab.research.google.com/assets/colab-badge.svg\" alt=\"Open In Colab\"/></a>"
      ]
    },
    {
      "cell_type": "code",
      "metadata": {
        "id": "e-Bjz2t8Ha6T"
      },
      "source": [
        "%matplotlib inline"
      ],
      "execution_count": 7,
      "outputs": []
    },
    {
      "cell_type": "markdown",
      "metadata": {
        "id": "BUcYAYKOHptn"
      },
      "source": [
        "# A gentle introduction to `torch.autograd`\n",
        "\n",
        "- `torch.autograd` is PyTorch's automatic diffrentiation engine that powers neural network training. In this section, you will get a conceptual understanding of how autograd helps a neural netowrk train. \n",
        "\n",
        "## Background\n",
        "- Neural networks (NNs) are a collection of nested functions that are executed on some input data. These functions are defined by *parameters* (consisting of weights and biases), which is PyTorch are stored in tensors. \n",
        "\n",
        "- Training a NN happens in two steps: \n",
        "  - **Forward Propagation**: In forward prop, the NN makes its best guess  about the correct output. It runs the input data through each of its functions to make this guess. \n",
        "\n",
        "  - **Backward Propagation**: In backprop, the NN adjusts its parameters proportionate to the error in its guess. It does this by traversing backwards from the output, collecting the derivatives of the error with respect to the parameters of the functions *(gradients)* and optimizing the parameters using gradient descent. For a more detailed walkthrough of backprop, check out [this video from 3Blue1Brown](https://www.youtube.com/watch?v=tIeHLnjs5U8).\n",
        "\n",
        "\n",
        "## Usage in PyTorch\n",
        "- Let's take a look at a single training step. For example, we load a pretrained resnet 18 model from `torchvision`. We create a data tensor to represent a single image with 3 channels, and height & width of 64, and its corresponding `label` initialized to some random values. "
      ]
    },
    {
      "cell_type": "code",
      "metadata": {
        "colab": {
          "base_uri": "https://localhost:8080/",
          "height": 103,
          "referenced_widgets": [
            "44354c5c774244d783856be79bd9e096",
            "7364986dd553426e85a94e11ff43c68d",
            "66c60a4f0e9e4b22b5da7407f3c638e6",
            "45ff8be0302d492e9242531c535d4490",
            "296bf5cb9b1c44b096458db994f8e2e5",
            "325afaeebf384bf69e619df23436a5f3",
            "3aa47a6ac47342d1ad6f5df64367d7a8",
            "8c3354450cda4b709075837326660ba2"
          ]
        },
        "id": "srJWIhZkHiOh",
        "outputId": "91f7e657-aaa3-45ce-ecdd-cabce30dfd70"
      },
      "source": [
        "import torch, torchvision \n",
        "model = torchvision.models.resnet18(pretrained=True)\n",
        "data = torch.rand(1, 3, 64, 64)\n",
        "label = torch.rand(1, 1000)"
      ],
      "execution_count": 8,
      "outputs": [
        {
          "output_type": "stream",
          "text": [
            "Downloading: \"https://download.pytorch.org/models/resnet18-f37072fd.pth\" to /root/.cache/torch/hub/checkpoints/resnet18-f37072fd.pth\n"
          ],
          "name": "stderr"
        },
        {
          "output_type": "display_data",
          "data": {
            "application/vnd.jupyter.widget-view+json": {
              "model_id": "44354c5c774244d783856be79bd9e096",
              "version_minor": 0,
              "version_major": 2
            },
            "text/plain": [
              "HBox(children=(FloatProgress(value=0.0, max=46830571.0), HTML(value='')))"
            ]
          },
          "metadata": {
            "tags": []
          }
        },
        {
          "output_type": "stream",
          "text": [
            "\n"
          ],
          "name": "stdout"
        }
      ]
    },
    {
      "cell_type": "markdown",
      "metadata": {
        "id": "hlDfKhcRMClF"
      },
      "source": [
        "Next, we run the input data through the model through each of its layers to make a prediction. This is the **forward pass**. "
      ]
    },
    {
      "cell_type": "code",
      "metadata": {
        "colab": {
          "base_uri": "https://localhost:8080/"
        },
        "id": "z3QnpBWbLzC5",
        "outputId": "ae3d4c3c-71f1-4f1e-95d5-843a1df5501d"
      },
      "source": [
        "prediction = model(data) #forward pass "
      ],
      "execution_count": 9,
      "outputs": [
        {
          "output_type": "stream",
          "text": [
            "/usr/local/lib/python3.7/dist-packages/torch/nn/functional.py:718: UserWarning: Named tensors and all their associated APIs are an experimental feature and subject to change. Please do not use them for anything important until they are released as stable. (Triggered internally at  /pytorch/c10/core/TensorImpl.h:1156.)\n",
            "  return torch.max_pool2d(input, kernel_size, stride, padding, dilation, ceil_mode)\n"
          ],
          "name": "stderr"
        }
      ]
    },
    {
      "cell_type": "markdown",
      "metadata": {
        "id": "qf9Vuu1sNg5U"
      },
      "source": [
        "We use the model's prediction and the corresponding label to calculate the error (`loss`). The next step is to backpropagate this error through the network. Backward propagation is kicked off when we call `.backward()` on the error tensor. Autograd then calculates and stores the gradients for each model parameter in parameter's `.grad` attribute. "
      ]
    },
    {
      "cell_type": "code",
      "metadata": {
        "id": "v-9zXqAZNfQs"
      },
      "source": [
        "loss = (prediction - label).sum()\n",
        "loss.backward() # backward pass"
      ],
      "execution_count": 10,
      "outputs": []
    },
    {
      "cell_type": "markdown",
      "metadata": {
        "id": "N4JbDhOSOEUg"
      },
      "source": [
        "Next, we load a optimizer, in this case SGD with a learning rate 0.01 and momentum of 0.9. We register all the parameters of the model in the optimizer. "
      ]
    },
    {
      "cell_type": "code",
      "metadata": {
        "id": "Hjt2KfKrODJ5"
      },
      "source": [
        "optim = torch.optim.SGD(model.parameters(), lr=1e-2, momentum=0.9)"
      ],
      "execution_count": 11,
      "outputs": []
    },
    {
      "cell_type": "markdown",
      "metadata": {
        "id": "tBroNvjtOd9Z"
      },
      "source": [
        "Finally, we call `.step()` to initiate gradient descent. The optimizer adjusts each parameter by its gradient stored in `.grad`. "
      ]
    },
    {
      "cell_type": "code",
      "metadata": {
        "id": "-ssrD7xtOded"
      },
      "source": [
        "optim.step() #gradient descent"
      ],
      "execution_count": 12,
      "outputs": []
    },
    {
      "cell_type": "markdown",
      "metadata": {
        "id": "ntqIUYPJOvAb"
      },
      "source": [
        "At this point, you have everything you need to train your neural network. The below sections detail the working of autograd - feel free to skip them. \n",
        "\n",
        "## Differentiation in Autograd\n",
        "\n",
        "- Let us take a look at how `autograd` collects gradients. We create two tensors `a` and `b` with `requires_grad=True`. This signals to `autograd` that every operation on them should be tracked. "
      ]
    },
    {
      "cell_type": "code",
      "metadata": {
        "id": "qkyKRjFmOuXf"
      },
      "source": [
        "import torch\n",
        "\n",
        "a = torch.tensor([2., 3.], requires_grad=True)\n",
        "b = torch.tensor([6., 4.], requires_grad=True)"
      ],
      "execution_count": 13,
      "outputs": []
    },
    {
      "cell_type": "markdown",
      "metadata": {
        "id": "XCfASaI9xEU3"
      },
      "source": [
        "We create another tensor $Q$ from `a` and `b`. \n",
        "\n",
        "$$Q = 3a^3 - b^2$$"
      ]
    },
    {
      "cell_type": "code",
      "metadata": {
        "id": "q0XzwUQJxC-v"
      },
      "source": [
        "Q = 3*a**3 - b**2"
      ],
      "execution_count": 14,
      "outputs": []
    },
    {
      "cell_type": "markdown",
      "metadata": {
        "id": "osoosozQxtbz"
      },
      "source": [
        "- Let us assume `a` and `b` to be parameters of an NN, and `Q` to be the error. In NN training, we want gradients of the error w.r.t. parameters, i.e. \n",
        "\n",
        "\\begin{align}\\frac{\\partial Q}{\\partial a} = 9a^2\\end{align}\n",
        "\n",
        "\\begin{align}\\frac{\\partial Q}{\\partial b} = -2b\\end{align}\n",
        "\n",
        "- When we call `.backward()` on `Q`, autograd calculates these gradients and stores them in respective tensors' `.grad` attribute. \n",
        "- We need to explicitly pass a `gradient` argument in `Q.backward()` because it is a vector. `gradient` is a tensor of the same shape as `Q`, and it represents the gradient of Q w.r.t. itself, i.e. \n",
        "\n",
        "\\begin{align}\\frac{dQ}{dQ} = 1\\end{align}\n",
        "\n",
        "- Equivalently, we can also aggregate Q into a scalar and call backward implicitly, like `Q.sum().backward()`. "
      ]
    },
    {
      "cell_type": "code",
      "metadata": {
        "colab": {
          "base_uri": "https://localhost:8080/"
        },
        "id": "ssMX_LwjxeCl",
        "outputId": "052db961-62d9-4dc3-9c7d-f6dde0979c6c"
      },
      "source": [
        "external_grad = torch.tensor([1., 1.])\n",
        "print(external_grad)\n",
        "Q.backward(gradient=external_grad)\n"
      ],
      "execution_count": 15,
      "outputs": [
        {
          "output_type": "stream",
          "text": [
            "tensor([1., 1.])\n"
          ],
          "name": "stdout"
        }
      ]
    },
    {
      "cell_type": "markdown",
      "metadata": {
        "id": "kyUuxPvt0UMF"
      },
      "source": [
        "- Gradients are now decomposed in `a.grad` and `b.grad`"
      ]
    },
    {
      "cell_type": "code",
      "metadata": {
        "colab": {
          "base_uri": "https://localhost:8080/"
        },
        "id": "ko01EToG0Nd3",
        "outputId": "78ff62d6-b0c1-48e8-8c65-2f035205abe2"
      },
      "source": [
        "# Check if collected gradients are correct \n",
        "print(9*a**2 == a.grad)\n",
        "print(-2*b == b.grad)"
      ],
      "execution_count": 16,
      "outputs": [
        {
          "output_type": "stream",
          "text": [
            "tensor([True, True])\n",
            "tensor([True, True])\n"
          ],
          "name": "stdout"
        }
      ]
    },
    {
      "cell_type": "code",
      "metadata": {
        "colab": {
          "base_uri": "https://localhost:8080/"
        },
        "id": "D7cF_iQV0gui",
        "outputId": "1d6f7a4c-4df5-46aa-f9fe-b7664a4cb004"
      },
      "source": [
        "print(9*a**2)\n",
        "print(-2*b)"
      ],
      "execution_count": 17,
      "outputs": [
        {
          "output_type": "stream",
          "text": [
            "tensor([36., 81.], grad_fn=<MulBackward0>)\n",
            "tensor([-12.,  -8.], grad_fn=<MulBackward0>)\n"
          ],
          "name": "stdout"
        }
      ]
    },
    {
      "cell_type": "code",
      "metadata": {
        "colab": {
          "base_uri": "https://localhost:8080/"
        },
        "id": "nN_JJqtb2hxb",
        "outputId": "cde98681-a22d-4cb0-bdb4-ac710b00448a"
      },
      "source": [
        "print(a.grad)"
      ],
      "execution_count": 18,
      "outputs": [
        {
          "output_type": "stream",
          "text": [
            "tensor([36., 81.])\n"
          ],
          "name": "stdout"
        }
      ]
    },
    {
      "cell_type": "code",
      "metadata": {
        "colab": {
          "base_uri": "https://localhost:8080/"
        },
        "id": "wJAXeJGB2kce",
        "outputId": "e45d4d67-cd5f-4062-b385-21ca3a18ecc1"
      },
      "source": [
        "print(b.grad)"
      ],
      "execution_count": 19,
      "outputs": [
        {
          "output_type": "stream",
          "text": [
            "tensor([-12.,  -8.])\n"
          ],
          "name": "stdout"
        }
      ]
    },
    {
      "cell_type": "code",
      "metadata": {
        "colab": {
          "base_uri": "https://localhost:8080/"
        },
        "id": "mtG4L5d22ld1",
        "outputId": "87511228-8468-445e-eebe-6c29d35bde39"
      },
      "source": [
        "print(Q)"
      ],
      "execution_count": 20,
      "outputs": [
        {
          "output_type": "stream",
          "text": [
            "tensor([-12.,  65.], grad_fn=<SubBackward0>)\n"
          ],
          "name": "stdout"
        }
      ]
    },
    {
      "cell_type": "code",
      "metadata": {
        "id": "ESqj9DD128hU"
      },
      "source": [
        ""
      ],
      "execution_count": null,
      "outputs": []
    }
  ]
}