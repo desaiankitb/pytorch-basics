{
  "nbformat": 4,
  "nbformat_minor": 0,
  "metadata": {
    "colab": {
      "name": "01_autograd_tutorial.ipynb",
      "provenance": [],
      "authorship_tag": "ABX9TyOAMrJQGTbOz7woAjDeqxL6",
      "include_colab_link": true
    },
    "kernelspec": {
      "name": "python3",
      "display_name": "Python 3"
    },
    "language_info": {
      "name": "python"
    },
    "widgets": {
      "application/vnd.jupyter.widget-state+json": {
        "f30f81b39565455b8f47331ed4ba48c2": {
          "model_module": "@jupyter-widgets/controls",
          "model_name": "HBoxModel",
          "state": {
            "_view_name": "HBoxView",
            "_dom_classes": [],
            "_model_name": "HBoxModel",
            "_view_module": "@jupyter-widgets/controls",
            "_model_module_version": "1.5.0",
            "_view_count": null,
            "_view_module_version": "1.5.0",
            "box_style": "",
            "layout": "IPY_MODEL_c92a530132bf451987a620bcdb5383c4",
            "_model_module": "@jupyter-widgets/controls",
            "children": [
              "IPY_MODEL_ba8412ac5e5a4c5e8eb9ece13cd56c08",
              "IPY_MODEL_0da8a1e2733046ebb0e3c2fd2a086546"
            ]
          }
        },
        "c92a530132bf451987a620bcdb5383c4": {
          "model_module": "@jupyter-widgets/base",
          "model_name": "LayoutModel",
          "state": {
            "_view_name": "LayoutView",
            "grid_template_rows": null,
            "right": null,
            "justify_content": null,
            "_view_module": "@jupyter-widgets/base",
            "overflow": null,
            "_model_module_version": "1.2.0",
            "_view_count": null,
            "flex_flow": null,
            "width": null,
            "min_width": null,
            "border": null,
            "align_items": null,
            "bottom": null,
            "_model_module": "@jupyter-widgets/base",
            "top": null,
            "grid_column": null,
            "overflow_y": null,
            "overflow_x": null,
            "grid_auto_flow": null,
            "grid_area": null,
            "grid_template_columns": null,
            "flex": null,
            "_model_name": "LayoutModel",
            "justify_items": null,
            "grid_row": null,
            "max_height": null,
            "align_content": null,
            "visibility": null,
            "align_self": null,
            "height": null,
            "min_height": null,
            "padding": null,
            "grid_auto_rows": null,
            "grid_gap": null,
            "max_width": null,
            "order": null,
            "_view_module_version": "1.2.0",
            "grid_template_areas": null,
            "object_position": null,
            "object_fit": null,
            "grid_auto_columns": null,
            "margin": null,
            "display": null,
            "left": null
          }
        },
        "ba8412ac5e5a4c5e8eb9ece13cd56c08": {
          "model_module": "@jupyter-widgets/controls",
          "model_name": "FloatProgressModel",
          "state": {
            "_view_name": "ProgressView",
            "style": "IPY_MODEL_19444747d4b2462aa1751197b2ba1222",
            "_dom_classes": [],
            "description": "100%",
            "_model_name": "FloatProgressModel",
            "bar_style": "success",
            "max": 46830571,
            "_view_module": "@jupyter-widgets/controls",
            "_model_module_version": "1.5.0",
            "value": 46830571,
            "_view_count": null,
            "_view_module_version": "1.5.0",
            "orientation": "horizontal",
            "min": 0,
            "description_tooltip": null,
            "_model_module": "@jupyter-widgets/controls",
            "layout": "IPY_MODEL_be9110ca5d4b43049b3d59041e849d69"
          }
        },
        "0da8a1e2733046ebb0e3c2fd2a086546": {
          "model_module": "@jupyter-widgets/controls",
          "model_name": "HTMLModel",
          "state": {
            "_view_name": "HTMLView",
            "style": "IPY_MODEL_548eb917edfc4328aeb7bb44ae07e230",
            "_dom_classes": [],
            "description": "",
            "_model_name": "HTMLModel",
            "placeholder": "​",
            "_view_module": "@jupyter-widgets/controls",
            "_model_module_version": "1.5.0",
            "value": " 44.7M/44.7M [00:00&lt;00:00, 61.9MB/s]",
            "_view_count": null,
            "_view_module_version": "1.5.0",
            "description_tooltip": null,
            "_model_module": "@jupyter-widgets/controls",
            "layout": "IPY_MODEL_52a3e6555fa244aeb3018e2c57d63938"
          }
        },
        "19444747d4b2462aa1751197b2ba1222": {
          "model_module": "@jupyter-widgets/controls",
          "model_name": "ProgressStyleModel",
          "state": {
            "_view_name": "StyleView",
            "_model_name": "ProgressStyleModel",
            "description_width": "initial",
            "_view_module": "@jupyter-widgets/base",
            "_model_module_version": "1.5.0",
            "_view_count": null,
            "_view_module_version": "1.2.0",
            "bar_color": null,
            "_model_module": "@jupyter-widgets/controls"
          }
        },
        "be9110ca5d4b43049b3d59041e849d69": {
          "model_module": "@jupyter-widgets/base",
          "model_name": "LayoutModel",
          "state": {
            "_view_name": "LayoutView",
            "grid_template_rows": null,
            "right": null,
            "justify_content": null,
            "_view_module": "@jupyter-widgets/base",
            "overflow": null,
            "_model_module_version": "1.2.0",
            "_view_count": null,
            "flex_flow": null,
            "width": null,
            "min_width": null,
            "border": null,
            "align_items": null,
            "bottom": null,
            "_model_module": "@jupyter-widgets/base",
            "top": null,
            "grid_column": null,
            "overflow_y": null,
            "overflow_x": null,
            "grid_auto_flow": null,
            "grid_area": null,
            "grid_template_columns": null,
            "flex": null,
            "_model_name": "LayoutModel",
            "justify_items": null,
            "grid_row": null,
            "max_height": null,
            "align_content": null,
            "visibility": null,
            "align_self": null,
            "height": null,
            "min_height": null,
            "padding": null,
            "grid_auto_rows": null,
            "grid_gap": null,
            "max_width": null,
            "order": null,
            "_view_module_version": "1.2.0",
            "grid_template_areas": null,
            "object_position": null,
            "object_fit": null,
            "grid_auto_columns": null,
            "margin": null,
            "display": null,
            "left": null
          }
        },
        "548eb917edfc4328aeb7bb44ae07e230": {
          "model_module": "@jupyter-widgets/controls",
          "model_name": "DescriptionStyleModel",
          "state": {
            "_view_name": "StyleView",
            "_model_name": "DescriptionStyleModel",
            "description_width": "",
            "_view_module": "@jupyter-widgets/base",
            "_model_module_version": "1.5.0",
            "_view_count": null,
            "_view_module_version": "1.2.0",
            "_model_module": "@jupyter-widgets/controls"
          }
        },
        "52a3e6555fa244aeb3018e2c57d63938": {
          "model_module": "@jupyter-widgets/base",
          "model_name": "LayoutModel",
          "state": {
            "_view_name": "LayoutView",
            "grid_template_rows": null,
            "right": null,
            "justify_content": null,
            "_view_module": "@jupyter-widgets/base",
            "overflow": null,
            "_model_module_version": "1.2.0",
            "_view_count": null,
            "flex_flow": null,
            "width": null,
            "min_width": null,
            "border": null,
            "align_items": null,
            "bottom": null,
            "_model_module": "@jupyter-widgets/base",
            "top": null,
            "grid_column": null,
            "overflow_y": null,
            "overflow_x": null,
            "grid_auto_flow": null,
            "grid_area": null,
            "grid_template_columns": null,
            "flex": null,
            "_model_name": "LayoutModel",
            "justify_items": null,
            "grid_row": null,
            "max_height": null,
            "align_content": null,
            "visibility": null,
            "align_self": null,
            "height": null,
            "min_height": null,
            "padding": null,
            "grid_auto_rows": null,
            "grid_gap": null,
            "max_width": null,
            "order": null,
            "_view_module_version": "1.2.0",
            "grid_template_areas": null,
            "object_position": null,
            "object_fit": null,
            "grid_auto_columns": null,
            "margin": null,
            "display": null,
            "left": null
          }
        }
      }
    }
  },
  "cells": [
    {
      "cell_type": "markdown",
      "metadata": {
        "id": "view-in-github",
        "colab_type": "text"
      },
      "source": [
        "<a href=\"https://colab.research.google.com/github/desaiankitb/pytorch-basics/blob/main/deep-learning-blitz/01_autograd_tutorial.ipynb\" target=\"_parent\"><img src=\"https://colab.research.google.com/assets/colab-badge.svg\" alt=\"Open In Colab\"/></a>"
      ]
    },
    {
      "cell_type": "code",
      "metadata": {
        "id": "e-Bjz2t8Ha6T"
      },
      "source": [
        "%matplotlib inline"
      ],
      "execution_count": 2,
      "outputs": []
    },
    {
      "cell_type": "markdown",
      "metadata": {
        "id": "BUcYAYKOHptn"
      },
      "source": [
        "# A gentle introduction to `torch.autograd`\n",
        "\n",
        "- `torch.autograd` is PyTorch's automatic diffrentiation engine that powers neural network training. In this section, you will get a conceptual understanding of how autograd helps a neural netowrk train. \n",
        "\n",
        "## Background\n",
        "- Neural networks (NNs) are a collection of nested functions that are executed on some input data. These functions are defined by *parameters* (consisting of weights and biases), which is PyTorch are stored in tensors. \n",
        "\n",
        "- Training a NN happens in two steps: \n",
        "  - **Forward Propagation**: In forward prop, the NN makes its best guess  about the correct output. It runs the input data through each of its functions to make this guess. \n",
        "\n",
        "  - **Backward Propagation**: In backprop, the NN adjusts its parameters proportionate to the error in its guess. It does this by traversing backwards from the output, collecting the derivatives of the error with respect to the parameters of the functions *(gradients)* and optimizing the parameters using gradient descent. For a more detailed walkthrough of backprop, check out [this video from 3Blue1Brown](https://www.youtube.com/watch?v=tIeHLnjs5U8).\n",
        "\n",
        "\n",
        "## Usage in PyTorch\n",
        "- Let's take a look at a single training step. For example, we load a pretrained resnet 18 model from `torchvision`. We create a data tensor to represent a single image with 3 channels, and height & width of 64, and its corresponding `label` initialized to some random values. "
      ]
    },
    {
      "cell_type": "code",
      "metadata": {
        "colab": {
          "base_uri": "https://localhost:8080/",
          "height": 103,
          "referenced_widgets": [
            "f30f81b39565455b8f47331ed4ba48c2",
            "c92a530132bf451987a620bcdb5383c4",
            "ba8412ac5e5a4c5e8eb9ece13cd56c08",
            "0da8a1e2733046ebb0e3c2fd2a086546",
            "19444747d4b2462aa1751197b2ba1222",
            "be9110ca5d4b43049b3d59041e849d69",
            "548eb917edfc4328aeb7bb44ae07e230",
            "52a3e6555fa244aeb3018e2c57d63938"
          ]
        },
        "id": "srJWIhZkHiOh",
        "outputId": "d0b217ca-c4e4-4e04-ce00-43cccfb78bc4"
      },
      "source": [
        "import torch, torchvision \n",
        "model = torchvision.models.resnet18(pretrained=True)\n",
        "data = torch.rand(1, 3, 64, 64)\n",
        "label = torch.rand(1, 1000)"
      ],
      "execution_count": 3,
      "outputs": [
        {
          "output_type": "stream",
          "text": [
            "Downloading: \"https://download.pytorch.org/models/resnet18-f37072fd.pth\" to /root/.cache/torch/hub/checkpoints/resnet18-f37072fd.pth\n"
          ],
          "name": "stderr"
        },
        {
          "output_type": "display_data",
          "data": {
            "application/vnd.jupyter.widget-view+json": {
              "model_id": "f30f81b39565455b8f47331ed4ba48c2",
              "version_minor": 0,
              "version_major": 2
            },
            "text/plain": [
              "HBox(children=(FloatProgress(value=0.0, max=46830571.0), HTML(value='')))"
            ]
          },
          "metadata": {
            "tags": []
          }
        },
        {
          "output_type": "stream",
          "text": [
            "\n"
          ],
          "name": "stdout"
        }
      ]
    },
    {
      "cell_type": "markdown",
      "metadata": {
        "id": "hlDfKhcRMClF"
      },
      "source": [
        "Next, we run the input data through the model through each of its layers to make a prediction. This is the **forward pass**. "
      ]
    },
    {
      "cell_type": "code",
      "metadata": {
        "colab": {
          "base_uri": "https://localhost:8080/"
        },
        "id": "z3QnpBWbLzC5",
        "outputId": "121e04cf-1abd-4ffe-efb3-d4d687558d78"
      },
      "source": [
        "prediction = model(data) #forward pass "
      ],
      "execution_count": 4,
      "outputs": [
        {
          "output_type": "stream",
          "text": [
            "/usr/local/lib/python3.7/dist-packages/torch/nn/functional.py:718: UserWarning: Named tensors and all their associated APIs are an experimental feature and subject to change. Please do not use them for anything important until they are released as stable. (Triggered internally at  /pytorch/c10/core/TensorImpl.h:1156.)\n",
            "  return torch.max_pool2d(input, kernel_size, stride, padding, dilation, ceil_mode)\n"
          ],
          "name": "stderr"
        }
      ]
    },
    {
      "cell_type": "markdown",
      "metadata": {
        "id": "qf9Vuu1sNg5U"
      },
      "source": [
        "We use the model's prediction and the corresponding label to calculate the error (`loss`). The next step is to backpropagate this error through the network. Backward propagation is kicked off when we call `.backward()` on the error tensor. Autograd then calculates and stores the gradients for each model parameter in parameter's `.grad` attribute. "
      ]
    },
    {
      "cell_type": "code",
      "metadata": {
        "id": "v-9zXqAZNfQs"
      },
      "source": [
        "loss = (prediction - label).sum()\n",
        "loss.backward() # backward pass"
      ],
      "execution_count": 5,
      "outputs": []
    },
    {
      "cell_type": "markdown",
      "metadata": {
        "id": "N4JbDhOSOEUg"
      },
      "source": [
        "Next, we load a optimizer, in this case SGD with a learning rate 0.01 and momentum of 0.9. We register all the parameters of the model in the optimizer. "
      ]
    },
    {
      "cell_type": "code",
      "metadata": {
        "id": "Hjt2KfKrODJ5"
      },
      "source": [
        "optim = torch.optim.SGD(model.parameters(), lr=1e-2, momentum=0.9)"
      ],
      "execution_count": 6,
      "outputs": []
    },
    {
      "cell_type": "markdown",
      "metadata": {
        "id": "tBroNvjtOd9Z"
      },
      "source": [
        "Finally, we call `.step()` to initiate gradient descent. The optimizer adjusts each parameter by its gradient stored in `.grad`. "
      ]
    },
    {
      "cell_type": "code",
      "metadata": {
        "id": "-ssrD7xtOded"
      },
      "source": [
        "optim.step() #gradient descent"
      ],
      "execution_count": 7,
      "outputs": []
    },
    {
      "cell_type": "markdown",
      "metadata": {
        "id": "ntqIUYPJOvAb"
      },
      "source": [
        "At this point, you have everything you need to train your neural network. The below sections detail the working of autograd - feel free to skip them. \n",
        "\n",
        "## Differentiation in Autograd\n",
        "\n",
        "- Let us take a look at how `autograd` collects gradients. We create two tensors `a` and `b` with `requires_grad=True`. This signals to `autograd` that every operation on them should be tracked. "
      ]
    },
    {
      "cell_type": "code",
      "metadata": {
        "id": "qkyKRjFmOuXf"
      },
      "source": [
        "import torch\n",
        "\n",
        "a = torch.tensor([2., 3.], requires_grad=True)\n",
        "b = torch.tensor([6., 4.], requires_grad=True)"
      ],
      "execution_count": 8,
      "outputs": []
    },
    {
      "cell_type": "markdown",
      "metadata": {
        "id": "XCfASaI9xEU3"
      },
      "source": [
        "We create another tensor $Q$ from `a` and `b`. \n",
        "\n",
        "$$Q = 3a^3 - b^2$$"
      ]
    },
    {
      "cell_type": "code",
      "metadata": {
        "id": "q0XzwUQJxC-v"
      },
      "source": [
        "Q = 3*a**3 - b**2"
      ],
      "execution_count": 9,
      "outputs": []
    },
    {
      "cell_type": "markdown",
      "metadata": {
        "id": "osoosozQxtbz"
      },
      "source": [
        "- Let us assume `a` and `b` to be parameters of an NN, and `Q` to be the error. In NN training, we want gradients of the error w.r.t. parameters, i.e. \n",
        "\n",
        "\\begin{align}\\frac{\\partial Q}{\\partial a} = 9a^2\\end{align}\n",
        "\n",
        "\\begin{align}\\frac{\\partial Q}{\\partial b} = -2b\\end{align}\n",
        "\n",
        "- When we call `.backward()` on `Q`, autograd calculates these gradients and stores them in respective tensors' `.grad` attribute. \n",
        "- We need to explicitly pass a `gradient` argument in `Q.backward()` because it is a vector. `gradient` is a tensor of the same shape as `Q`, and it represents the gradient of Q w.r.t. itself, i.e. \n",
        "\n",
        "\\begin{align}\\frac{dQ}{dQ} = 1\\end{align}\n",
        "\n",
        "- Equivalently, we can also aggregate Q into a scalar and call backward implicitly, like `Q.sum().backward()`. "
      ]
    },
    {
      "cell_type": "code",
      "metadata": {
        "colab": {
          "base_uri": "https://localhost:8080/"
        },
        "id": "ssMX_LwjxeCl",
        "outputId": "55cec353-a05c-49fb-be46-9e687642083d"
      },
      "source": [
        "external_grad = torch.tensor([1., 1.])\n",
        "print(external_grad)\n",
        "Q.backward(gradient=external_grad)\n"
      ],
      "execution_count": 10,
      "outputs": [
        {
          "output_type": "stream",
          "text": [
            "tensor([1., 1.])\n"
          ],
          "name": "stdout"
        }
      ]
    },
    {
      "cell_type": "markdown",
      "metadata": {
        "id": "kyUuxPvt0UMF"
      },
      "source": [
        "- Gradients are now decomposed in `a.grad` and `b.grad`"
      ]
    },
    {
      "cell_type": "code",
      "metadata": {
        "colab": {
          "base_uri": "https://localhost:8080/"
        },
        "id": "ko01EToG0Nd3",
        "outputId": "0a5b05e1-3335-4b2c-ed5a-95dcaccae869"
      },
      "source": [
        "# Check if collected gradients are correct \n",
        "print(9*a**2 == a.grad)\n",
        "print(-2*b == b.grad)"
      ],
      "execution_count": 11,
      "outputs": [
        {
          "output_type": "stream",
          "text": [
            "tensor([True, True])\n",
            "tensor([True, True])\n"
          ],
          "name": "stdout"
        }
      ]
    },
    {
      "cell_type": "code",
      "metadata": {
        "colab": {
          "base_uri": "https://localhost:8080/"
        },
        "id": "D7cF_iQV0gui",
        "outputId": "1c322bc4-45e3-46cc-99d7-76ba355b465c"
      },
      "source": [
        "print(9*a**2)\n",
        "print(-2*b)"
      ],
      "execution_count": 12,
      "outputs": [
        {
          "output_type": "stream",
          "text": [
            "tensor([36., 81.], grad_fn=<MulBackward0>)\n",
            "tensor([-12.,  -8.], grad_fn=<MulBackward0>)\n"
          ],
          "name": "stdout"
        }
      ]
    },
    {
      "cell_type": "code",
      "metadata": {
        "colab": {
          "base_uri": "https://localhost:8080/"
        },
        "id": "nN_JJqtb2hxb",
        "outputId": "a4c9c1ad-bc9e-4fbe-fdb0-9c4029f6004d"
      },
      "source": [
        "print(a.grad)"
      ],
      "execution_count": 13,
      "outputs": [
        {
          "output_type": "stream",
          "text": [
            "tensor([36., 81.])\n"
          ],
          "name": "stdout"
        }
      ]
    },
    {
      "cell_type": "code",
      "metadata": {
        "colab": {
          "base_uri": "https://localhost:8080/"
        },
        "id": "wJAXeJGB2kce",
        "outputId": "5cc95203-ab76-465f-9978-5bd8ea4caa35"
      },
      "source": [
        "print(b.grad)"
      ],
      "execution_count": 14,
      "outputs": [
        {
          "output_type": "stream",
          "text": [
            "tensor([-12.,  -8.])\n"
          ],
          "name": "stdout"
        }
      ]
    },
    {
      "cell_type": "code",
      "metadata": {
        "colab": {
          "base_uri": "https://localhost:8080/"
        },
        "id": "mtG4L5d22ld1",
        "outputId": "1166586d-f4f0-4184-8857-618aacc1724c"
      },
      "source": [
        "print(Q)"
      ],
      "execution_count": 15,
      "outputs": [
        {
          "output_type": "stream",
          "text": [
            "tensor([-12.,  65.], grad_fn=<SubBackward0>)\n"
          ],
          "name": "stdout"
        }
      ]
    },
    {
      "cell_type": "markdown",
      "metadata": {
        "id": "Yqs5p5Zs3WQ7"
      },
      "source": [
        "## Optional Reading - Vector Calculus using `autograd`\n",
        "\n",
        "- Mathematically, if you have a vector valued function $\\vec{y}=f(\\vec{x})$, then the gradient of $\\vec{y}$ with respect to $\\vec{x}$ is a Jacobian matrix $J$:\n",
        "\n",
        "\\begin{align}J\n",
        "     =\n",
        "      \\left(\\begin{array}{cc}\n",
        "      \\frac{\\partial \\bf{y}}{\\partial x_{1}} &\n",
        "      ... &\n",
        "      \\frac{\\partial \\bf{y}}{\\partial x_{n}}\n",
        "      \\end{array}\\right)\n",
        "     =\n",
        "     \\left(\\begin{array}{ccc}\n",
        "      \\frac{\\partial y_{1}}{\\partial x_{1}} & \\cdots & \\frac{\\partial y_{1}}{\\partial x_{n}}\\\\\n",
        "      \\vdots & \\ddots & \\vdots\\\\\n",
        "      \\frac{\\partial y_{m}}{\\partial x_{1}} & \\cdots & \\frac{\\partial y_{m}}{\\partial x_{n}}\n",
        "      \\end{array}\\right)\\end{align}\n",
        "\n",
        "- Generally speaking, `torch.autograd` is an engine for computing vector-Jacobian product. That is, given any vector $\\vec{v}$, compute the product $J^{T}\\cdot \\vec{v}$ \n",
        "\n",
        "- If $\\vec{v}$ happens to be the gradient of a scalar function $l=g\\left(\\vec{y}\\right)$:\n",
        "\n",
        "\\begin{align}\\vec{v}\n",
        "   =\n",
        "   \\left(\\begin{array}{ccc}\\frac{\\partial l}{\\partial y_{1}} & \\cdots & \\frac{\\partial l}{\\partial y_{m}}\\end{array}\\right)^{T}\\end{align}\n",
        "\n",
        "then by the chain rule, the vector-Jacobian product would be the\n",
        "gradient of $l$ with respect to $\\vec{x}$:\n",
        "\n",
        "\\begin{align}J^{T}\\cdot \\vec{v}=\\left(\\begin{array}{ccc}\n",
        "      \\frac{\\partial y_{1}}{\\partial x_{1}} & \\cdots & \\frac{\\partial y_{m}}{\\partial x_{1}}\\\\\n",
        "      \\vdots & \\ddots & \\vdots\\\\\n",
        "      \\frac{\\partial y_{1}}{\\partial x_{n}} & \\cdots & \\frac{\\partial y_{m}}{\\partial x_{n}}\n",
        "      \\end{array}\\right)\\left(\\begin{array}{c}\n",
        "      \\frac{\\partial l}{\\partial y_{1}}\\\\\n",
        "      \\vdots\\\\\n",
        "      \\frac{\\partial l}{\\partial y_{m}}\n",
        "      \\end{array}\\right)=\\left(\\begin{array}{c}\n",
        "      \\frac{\\partial l}{\\partial x_{1}}\\\\\n",
        "      \\vdots\\\\\n",
        "      \\frac{\\partial l}{\\partial x_{n}}\n",
        "      \\end{array}\\right)\\end{align}\n",
        "\n",
        "\n",
        "- This characteristic of vector-Jacobian product is what we use in the above example; `external_grad` represents $\\vec{v}$.\n"
      ]
    },
    {
      "cell_type": "markdown",
      "metadata": {
        "id": "6hic8F7R6KmF"
      },
      "source": [
        "# Computational Graph\n",
        "\n",
        "- Compeptually, autograd keeps a record of data (tensors) & all executed operations (along with the resulting new tensors) in a directed acyclic graph (DAG) consisting of [Function](https://pytorch.org/docs/stable/autograd.html#torch.autograd.Function) objects. In this DAG, leaves are the input tensors, roots are the output tensors. By tracing this graph from root to leaves, you can automaticaly compute the gradients using the chain rule. \n",
        "\n",
        "- In a forward pass, autogra does two things simultaneously: \n",
        "  - run the requested operation to compute a resulting tensor, and \n",
        "  - maintain the operation's **gradient function** in the DAG. \n",
        "\n",
        "- The backward pass kicks off when `.backward()` is called on the DAG root. `autograd` then: \n",
        "  - computes the gradients from each `.grad_fn`, \n",
        "  - accumulates them in the respective tensor's `.grad` attribut, and \n",
        "  - using the chain rule, propagates all the way to the leaf tensors. \n",
        "\n",
        "- Below is a visual representation of the DAG in our example. In the graph, the arraows are in the direction of the forward pass. The nodes represent the backward functions of each operation in the forward pass. The leaf nodes in blue represent our leaf tensors `a` and `b`. \n",
        "\n",
        "![image](https://pytorch.org/tutorials/_images/dag_autograd.png)\n",
        "\n",
        ">**NOTE:** DAGs are dynamic in PyTorch. An important thing to note is that graph is recreated from scratch; after each `.batchward()` call, autograd starts populating a new graph. This is exactly what allows you to use control flow statement in your model; you can change the shape, size and operations at every iteration if needed. \n",
        "\n",
        "## Exclusion from the DAG \n",
        "- `torch.autograd` tracks operations on all tensors which have their `requires_grad` flag set to `True`. For tensors that do not require gradients, setting this attribute to `False` excludes it from the gradient computation DAG. \n",
        "\n",
        "- The output tensor of an operation will reuquire gradients even if only a single input tensor has `requires_grad=True`. \n"
      ]
    },
    {
      "cell_type": "code",
      "metadata": {
        "colab": {
          "base_uri": "https://localhost:8080/"
        },
        "id": "ESqj9DD128hU",
        "outputId": "3444f7d8-2045-4859-bf1d-93739efd9df0"
      },
      "source": [
        "x = torch.rand(5, 5)\n",
        "y = torch.rand(5, 5)\n",
        "z = torch.rand((5, 5), requires_grad=True)\n",
        "\n",
        "a = x + y\n",
        "print(f\"Does `a` require gradients?: {a.requires_grad}\")\n",
        "\n",
        "b = x + z\n",
        "print(f\"Does `b` require gradients?: {b.requires_grad}\")"
      ],
      "execution_count": 16,
      "outputs": [
        {
          "output_type": "stream",
          "text": [
            "Does `a` require gradients?: False\n",
            "Does `b` require gradients?: True\n"
          ],
          "name": "stdout"
        }
      ]
    },
    {
      "cell_type": "markdown",
      "metadata": {
        "id": "W2BecngZD3py"
      },
      "source": [
        "- In a NN, parameters that do not compute gradients are usually called **frozen parameters**. It is useful to \"freeze\" part of your model if you know in advance that you would not need the gradients of those parameters (this offers some performance benefits by reducing autograd computations). \n",
        "- Another common usecase where exclusion from the DAG is important is for [finetuning a pretrained network](https://pytorch.org/tutorials/beginner/finetuning_torchvision_models_tutorial.html). \n",
        "- In finetuning, we freeze most of the model and typically only modify the classifier layers to make predictions on new labels. Let's walk through a small example to demonstrate this. As before, we load a pretrained resnet18 model, and freeze all the parameters. "
      ]
    },
    {
      "cell_type": "code",
      "metadata": {
        "id": "JRCFDoaSDv2r"
      },
      "source": [
        "from torch import nn, optim\n",
        "\n",
        "model = torchvision.models.resnet18(pretrained=True)\n",
        "\n",
        "# Freeze all the parameters in the network \n",
        "for param in model.parameters():\n",
        "  param.requires_grad = False"
      ],
      "execution_count": 17,
      "outputs": []
    },
    {
      "cell_type": "markdown",
      "metadata": {
        "id": "kCdn2VKPFUfV"
      },
      "source": [
        "- Let us say we want to finetune the model on a new dataset with 10 labels. In resnet, the classifier is the last linear layer `model.fc`. We can simply replace it with a new linear layer (unfrozen by default) that acts as our classifier. "
      ]
    },
    {
      "cell_type": "code",
      "metadata": {
        "id": "jXaOFAUVFRfj"
      },
      "source": [
        "model.fc = nn.Linear(512, 10)"
      ],
      "execution_count": 18,
      "outputs": []
    },
    {
      "cell_type": "markdown",
      "metadata": {
        "id": "mjQH5Kuaw1Ly"
      },
      "source": [
        "- Now all parameters in the model, except the parameters of `model.fc`, are frozen. The only parameters that compute gradients are the weights and bias of `model.fc`. "
      ]
    },
    {
      "cell_type": "code",
      "metadata": {
        "id": "WxRJg0WgFv8w"
      },
      "source": [
        "# Optimize only the classifier \n",
        "optimizer = optim.SGD(model.parameters(), lr=1e-2, momentum=0.9)"
      ],
      "execution_count": 19,
      "outputs": []
    },
    {
      "cell_type": "markdown",
      "metadata": {
        "id": "s2olVF0axS4D"
      },
      "source": [
        "- Notice although the register all the parameters in the optimizer, the only parameters that are computing gradients (and hence updated in gradient descent) are the weights and bias of the classifier. \n",
        "- The same exclusionary functionality is available as a context manager in [`torch.no_grad()`](https://pytorch.org/docs/stable/generated/torch.no_grad.html)."
      ]
    },
    {
      "cell_type": "code",
      "metadata": {
        "id": "jLYHJ4laxPBt"
      },
      "source": [
        ""
      ],
      "execution_count": 19,
      "outputs": []
    }
  ]
}