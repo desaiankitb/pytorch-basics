{
  "nbformat": 4,
  "nbformat_minor": 0,
  "metadata": {
    "colab": {
      "name": "02_neural_network_tutorial.ipynb",
      "provenance": [],
      "authorship_tag": "ABX9TyO31ZNnobwwacINhDdyQ3Db",
      "include_colab_link": true
    },
    "kernelspec": {
      "name": "python3",
      "display_name": "Python 3"
    },
    "language_info": {
      "name": "python"
    }
  },
  "cells": [
    {
      "cell_type": "markdown",
      "metadata": {
        "id": "view-in-github",
        "colab_type": "text"
      },
      "source": [
        "<a href=\"https://colab.research.google.com/github/desaiankitb/pytorch-basics/blob/main/deep-learning-blitz/02_neural_network_tutorial.ipynb\" target=\"_parent\"><img src=\"https://colab.research.google.com/assets/colab-badge.svg\" alt=\"Open In Colab\"/></a>"
      ]
    },
    {
      "cell_type": "code",
      "metadata": {
        "id": "mukkQCBYy_mZ"
      },
      "source": [
        "%matplotlib inline"
      ],
      "execution_count": 1,
      "outputs": []
    },
    {
      "cell_type": "markdown",
      "metadata": {
        "id": "fV15budS0YCe"
      },
      "source": [
        "# Neural Networks \n",
        "- Neural networks can be constructed using `torch.nn` package. \n",
        "\n",
        "- Now that you had a glimpse of `autograd`, `nn` depends on `autograd` to define models and differentiate them. An `nn.Module` contains layers, and a method `forward(input)` that returns the `output`.\n",
        "\n",
        "For example, look at this network that classifies digit images:\n",
        "![image](https://pytorch.org/tutorials/_images/mnist.png)\n",
        "convnet\n",
        "\n",
        "- It is a simple feed-forward network. It takes the input, feeds it through several layers one after the other, and then finally gives the output. \n",
        "\n",
        "- A typical training procedure for neural network is as follows: \n",
        "  - Define the neural network that has some learnable parameters (or weights) \n",
        "  - Iterate over a dataset of inputs \n",
        "  - Process input through the network \n",
        "  - Compute the loss (How far is the output from being correct) \n",
        "  - Propagate gradients back into the network's parameters \n",
        "  - Update the weights of the network, typically using simple update rule: `weight = weight - learning_rate * gradient`\n"
      ]
    },
    {
      "cell_type": "markdown",
      "metadata": {
        "id": "0_aehzMD2Rvx"
      },
      "source": [
        "# Define the Network\n",
        "Let us define this network: "
      ]
    },
    {
      "cell_type": "code",
      "metadata": {
        "colab": {
          "base_uri": "https://localhost:8080/"
        },
        "id": "EeQumpnu2O4Z",
        "outputId": "31260915-4496-4198-923a-1a29ba4a958c"
      },
      "source": [
        "import torch\n",
        "import torch.nn as nn\n",
        "import torch.nn.functional as F \n",
        "\n",
        "class Net(nn.Module):\n",
        "\n",
        "  def __init__(self):\n",
        "    super(Net, self).__init__()\n",
        "    # 1 input image channel, 6 output channels, 5X5 square convolution \n",
        "    # Kernal \n",
        "    self.conv1 = nn.Conv2d(1, 6, 5)\n",
        "    self.conv2 = nn.Conv2d(6, 16, 5)\n",
        "    # an affine operation: y = Wx + b\n",
        "    self.fc1 = nn.Linear(16 * 5 * 5, 120) # 5X5 from image dimension \n",
        "    self.fc2 = nn.Linear(120, 84)\n",
        "    self.fc3 = nn.Linear(84, 10)\n",
        "\n",
        "  def forward(self, x):\n",
        "    # Max pooling over (2, 2) window \n",
        "    x = F.max_pool2d(F.relu(self.conv1(x)), (2, 2))\n",
        "    # If the size is square, you can specify with single number \n",
        "    x = F.max_pool2d(F.relu(self.conv2(x)), 2)\n",
        "    x = torch.flatten(x, 1) # flatten all dimensions except the batch dimention \n",
        "    x = F.relu(self.fc1(x))\n",
        "    x = F.relu(self.fc2(x))\n",
        "    x = self.fc3(x)\n",
        "    return x\n",
        "\n",
        "net = Net()\n",
        "print(net)"
      ],
      "execution_count": 2,
      "outputs": [
        {
          "output_type": "stream",
          "text": [
            "Net(\n",
            "  (conv1): Conv2d(1, 6, kernel_size=(5, 5), stride=(1, 1))\n",
            "  (conv2): Conv2d(6, 16, kernel_size=(5, 5), stride=(1, 1))\n",
            "  (fc1): Linear(in_features=400, out_features=120, bias=True)\n",
            "  (fc2): Linear(in_features=120, out_features=84, bias=True)\n",
            "  (fc3): Linear(in_features=84, out_features=10, bias=True)\n",
            ")\n"
          ],
          "name": "stdout"
        }
      ]
    },
    {
      "cell_type": "markdown",
      "metadata": {
        "id": "azo9SrSO6hKk"
      },
      "source": [
        "You just have to define the `forward` function, and `backward` function (where gradients are computed) is automatically defined for you using `autograd`. You can use any of the Tensor operations in the `forward` function. \n",
        "\n",
        "The learnable parameters of the model are returned by `net.parameters()`"
      ]
    },
    {
      "cell_type": "code",
      "metadata": {
        "colab": {
          "base_uri": "https://localhost:8080/"
        },
        "id": "063dY6bV5eSl",
        "outputId": "2f7d8a09-9996-4a9d-84ff-a507e1f34631"
      },
      "source": [
        "params = list(net.parameters())\n",
        "print(len(params))\n",
        "print(params[0].size()) # conv1's .weight "
      ],
      "execution_count": 3,
      "outputs": [
        {
          "output_type": "stream",
          "text": [
            "10\n",
            "torch.Size([6, 1, 5, 5])\n"
          ],
          "name": "stdout"
        }
      ]
    },
    {
      "cell_type": "markdown",
      "metadata": {
        "id": "lfk8riQo_pi6"
      },
      "source": [
        "Let's try a random 32x32 input. Note: expected input size of this net (LeNet) is 32x32. To use this net on the MNIST dataset, please resize the images from the dataset to 32x32."
      ]
    },
    {
      "cell_type": "code",
      "metadata": {
        "colab": {
          "base_uri": "https://localhost:8080/"
        },
        "id": "rZUXE6LG_oRv",
        "outputId": "6eeb98ce-be90-4653-f4b0-ae2674869a67"
      },
      "source": [
        "input = torch.randn(1, 1, 32, 32)\n",
        "out = net(input)\n",
        "print(out)"
      ],
      "execution_count": 4,
      "outputs": [
        {
          "output_type": "stream",
          "text": [
            "tensor([[-0.0342, -0.0147,  0.0803, -0.0666,  0.0221,  0.1259,  0.1522,  0.0921,\n",
            "          0.0874,  0.0777]], grad_fn=<AddmmBackward>)\n"
          ],
          "name": "stdout"
        },
        {
          "output_type": "stream",
          "text": [
            "/usr/local/lib/python3.7/dist-packages/torch/nn/functional.py:718: UserWarning: Named tensors and all their associated APIs are an experimental feature and subject to change. Please do not use them for anything important until they are released as stable. (Triggered internally at  /pytorch/c10/core/TensorImpl.h:1156.)\n",
            "  return torch.max_pool2d(input, kernel_size, stride, padding, dilation, ceil_mode)\n"
          ],
          "name": "stderr"
        }
      ]
    },
    {
      "cell_type": "markdown",
      "metadata": {
        "id": "VOCkRE2NAgk0"
      },
      "source": [
        "Zero the gradient buffers of all parameters and backprops with random gradients:"
      ]
    },
    {
      "cell_type": "code",
      "metadata": {
        "id": "96JSm7p-ALdE"
      },
      "source": [
        "net.zero_grad()\n",
        "out.backward(torch.randn(1, 10))"
      ],
      "execution_count": 5,
      "outputs": []
    },
    {
      "cell_type": "markdown",
      "metadata": {
        "id": "6cvRroFQCAd9"
      },
      "source": [
        "> **Note:** `torch.nn` only supports mini-batches. The entire `torch.nn` package only supports inputs package that are a mini-batch of samples, and not a single sample. \n",
        "\n",
        "> For example, `nn.Conv2d` will take in a 4D Tensor of `nSamples x nChannels x Height x Width`. \n",
        "\n",
        "> If you have a single sample, just use `input.unsqueeze(0) to add a fake batch dimension. \n"
      ]
    },
    {
      "cell_type": "markdown",
      "metadata": {
        "id": "2byQUshLDELC"
      },
      "source": [
        "Before proceeding further, let us recap all the classes you have seen so far. \n",
        "\n",
        "**Recap:**\n",
        "- `torch.Tensor` - A *multi-dimensional array* with support for autograd operations like `backward()`. Also, holds the *gradient* wrt the tensor. \n",
        "- `nn.Module` - Neural network module. *Convenient way of encapsulating parameters*, with helpers for moving them to GPU, exporting, loading, etc. \n",
        "- `nn.Parameter` - A kin of Tensor, that is *automatically* registered as a parameter when assigned as an attribue to a `Module`. \n",
        "- `autograd.Function` - Implements *forward* and *backward* definations of an autograd operation. Every `Tensor` operation creates at least single `Function` node that connects to functions that created a `Tensor` and encodes its history. "
      ]
    },
    {
      "cell_type": "markdown",
      "metadata": {
        "id": "AOf1zwVCFayg"
      },
      "source": [
        "**At this point, we covered:**\n",
        "- Defining a neural network\n",
        "- Processing inputs and calling backward \n",
        "\n",
        "**Still left** \n",
        "- Computing the loss \n",
        "- Updating the weights of the network"
      ]
    },
    {
      "cell_type": "markdown",
      "metadata": {
        "id": "ysxHK-2bF4Pk"
      },
      "source": [
        "## Loss Function \n",
        "\n",
        "A loss functino takes the (output, target) pair of inputs, and computes a value that estimates how far away the output is from the target. \n",
        "\n",
        "There are several different [loss functions](https://pytorch.org/docs/stable/nn.html) under nn package. A sinple loss is: `nn.MSELoss` which computes the mean-squared error between the input and the target. \n",
        "\n",
        "For example: "
      ]
    },
    {
      "cell_type": "code",
      "metadata": {
        "colab": {
          "base_uri": "https://localhost:8080/"
        },
        "id": "8DsppgUxArQx",
        "outputId": "36770c93-913b-4162-bc16-d0905adf3d87"
      },
      "source": [
        "output = net(input)\n",
        "target = torch.randn(10) # a dummy target, for example \n",
        "target = target.view(1, -1) # make it the same shape as output \n",
        "criterion = nn.MSELoss()\n",
        "\n",
        "loss = criterion(output, target)\n",
        "print(loss)"
      ],
      "execution_count": 6,
      "outputs": [
        {
          "output_type": "stream",
          "text": [
            "tensor(0.9315, grad_fn=<MseLossBackward>)\n"
          ],
          "name": "stdout"
        }
      ]
    },
    {
      "cell_type": "markdown",
      "metadata": {
        "id": "8dEa4qOnh5gG"
      },
      "source": [
        "Now, if you follow `loss` in the backward direction, using its `.grad_fn` attribute, you will see a graph of computations that looks like this: \n",
        "\n",
        "\n",
        "  \n",
        "    input -> conv2d -> relu -> maxpool2d -> conv2d -> relu -> maxpool2d \n",
        "          -> flatten -> linear -> relu -> linear -> relu -> linear \n",
        "          -> MSELoss \n",
        "          -> loss\n",
        "\n",
        "So, when we call `loss.backward()` the whole graph is differentiated w.r.t. the neural net parameters, and all Tensors in the graph that have `requires_grad=True` will have their `.grad` Tensor accumulated with the gradient. \n",
        "\n",
        "For illustration, let us follow a few steps backward: "
      ]
    },
    {
      "cell_type": "code",
      "metadata": {
        "colab": {
          "base_uri": "https://localhost:8080/"
        },
        "id": "93l8bvYUitRo",
        "outputId": "caacae52-41a9-4658-d7d7-4cad6daa2f68"
      },
      "source": [
        "print(loss.grad_fn) # MSELoss\n",
        "print(loss.grad_fn.next_functions[0][0]) # Linear\n",
        "print(loss.grad_fn.next_functions[0][0].next_functions[0][0]) # ReLU"
      ],
      "execution_count": 9,
      "outputs": [
        {
          "output_type": "stream",
          "text": [
            "<MseLossBackward object at 0x7f00144accd0>\n",
            "<AddmmBackward object at 0x7f00144acc50>\n",
            "<AccumulateGrad object at 0x7f00144acb90>\n"
          ],
          "name": "stdout"
        }
      ]
    },
    {
      "cell_type": "markdown",
      "metadata": {
        "id": "bIGsqcx-kG5p"
      },
      "source": [
        "# Backprop\n",
        "To backpropagate the error all we have to do is to `loss.backward()`. You need to clear the existing gradients You need to clear the existing gradients though, else *gradients* will be accumulated to existing gradients. \n",
        "\n",
        "Now we shall call `loss.backward()`, and have a look at conv1's bias gradients before and after the backward. "
      ]
    },
    {
      "cell_type": "code",
      "metadata": {
        "colab": {
          "base_uri": "https://localhost:8080/"
        },
        "id": "ivJPfey6juXp",
        "outputId": "4196854a-5993-4c42-bb63-ec07fc5ebc9e"
      },
      "source": [
        "net.zero_grad() # zeros the gradient buffers of all parameters \n",
        "\n",
        "print(\"conv1.bias.grad before backward\")\n",
        "print(net.conv1.bias.grad)\n",
        "\n",
        "loss.backward()\n",
        "\n",
        "print(\"conv1.bias.grad after backward\")\n",
        "print(net.conv1.bias.grad)"
      ],
      "execution_count": 10,
      "outputs": [
        {
          "output_type": "stream",
          "text": [
            "conv1.bias.grad before backward\n",
            "tensor([0., 0., 0., 0., 0., 0.])\n",
            "conv1.bias.grad after backward\n",
            "tensor([-0.0147,  0.0192, -0.0027, -0.0463,  0.0077,  0.0334])\n"
          ],
          "name": "stdout"
        }
      ]
    },
    {
      "cell_type": "markdown",
      "metadata": {
        "id": "Ltc33s3FlGVt"
      },
      "source": [
        "Now, we have seen how to use loss functions. \n",
        "\n",
        "**Read Later:**\n",
        "\n",
        "The neural network package contains various modules and loss functions that form the building blocks of deep neural networks. A full list with documentation is [here](https://pytorch.org/docs/stable/nn.html). \n",
        "\n",
        "**The only thing left to learn is:**\n",
        "\n",
        "- Updating the weights of the network\n",
        "\n",
        "# Update the weights \n",
        "\n",
        "The simple update rule used in practice is the Stochastic Gradient Descent (SGD): \n",
        "\n",
        "``weight = weight - learning_rate * gradient``\n",
        "\n",
        "We can implement this using simple Python code: \n",
        "\n",
        "```\n",
        "learning_rate = 0.01\n",
        "for f in net.parameters()\n",
        "  f.data.sub_(f.grad.data * learning_rate)\n",
        "```\n",
        "\n",
        "However, as you use neural networks, you want to use various different udpate rules such as SGD, Nesterov-SGD, Adam, RMSProp, etc. To enable this, there exist a package: `torch.optim` that implements all these methods. Using it is very simple: \n"
      ]
    },
    {
      "cell_type": "code",
      "metadata": {
        "id": "qvGYLcnplDrr"
      },
      "source": [
        "import torch.optim as optim\n",
        "\n",
        "# create your optimizer \n",
        "optimizer = optim.SGD(net.parameters(), lr=0.01)\n",
        "\n",
        "# in your training loop:\n",
        "optimizer.zero_grad() # zero the gradient buffers \n",
        "output = net(input)\n",
        "loss = criterion(output, target)\n",
        "loss.backward()\n",
        "optimizer.step() # Does the update"
      ],
      "execution_count": null,
      "outputs": []
    },
    {
      "cell_type": "markdown",
      "metadata": {
        "id": "k_W_H7IYnoUw"
      },
      "source": [
        "> **Note:** Observe how gradient buffers had to be manually set to zero using `optimizer.zero_grad()`. This is because gradients are accumulated as explained in the [Backprop](https://pytorch.org/tutorials/beginner/blitz/neural_networks_tutorial.html#backprop) section. "
      ]
    }
  ]
}