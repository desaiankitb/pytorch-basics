{
  "nbformat": 4,
  "nbformat_minor": 0,
  "metadata": {
    "colab": {
      "name": "06_polynomial_module.ipynb",
      "provenance": [],
      "authorship_tag": "ABX9TyPIFXYLGIdQbkVObN8yyI6/",
      "include_colab_link": true
    },
    "kernelspec": {
      "name": "python3",
      "display_name": "Python 3"
    },
    "language_info": {
      "name": "python"
    }
  },
  "cells": [
    {
      "cell_type": "markdown",
      "metadata": {
        "id": "view-in-github",
        "colab_type": "text"
      },
      "source": [
        "<a href=\"https://colab.research.google.com/github/desaiankitb/pytorch-basics/blob/main/pytorch-with-examples/06_polynomial_module.ipynb\" target=\"_parent\"><img src=\"https://colab.research.google.com/assets/colab-badge.svg\" alt=\"Open In Colab\"/></a>"
      ]
    },
    {
      "cell_type": "code",
      "metadata": {
        "id": "pnSyeYIEk72O"
      },
      "source": [
        "%matplotlib inline"
      ],
      "execution_count": 1,
      "outputs": []
    },
    {
      "cell_type": "markdown",
      "metadata": {
        "id": "NzkVj1N3RNKg"
      },
      "source": [
        "# PyTorch: Custom nn Modules \n",
        "A third order polynomial, trained to predict $y = sin(x)$ from $-\\pi$ to $\\pi$ by minimizing squared Euclidean distance. \n",
        "\n",
        "This implementation defines the model as a custom Module subclass. Whenever, you want a model more complex than a simple sequence of existing Modules you will need to define your model this way. "
      ]
    },
    {
      "cell_type": "code",
      "metadata": {
        "colab": {
          "base_uri": "https://localhost:8080/"
        },
        "id": "ThQSdmS2RMT6",
        "outputId": "20116379-4b77-4dd7-e845-e267423a3ed3"
      },
      "source": [
        "import torch \n",
        "import math \n",
        "\n",
        "class Polynomial3(torch.nn.Module):\n",
        "  def __init__(self):\n",
        "    \"\"\"\n",
        "    In the constructor we instantiate four parameters and assign them as \n",
        "    member parameters. \n",
        "    \"\"\"\n",
        "    super().__init__()\n",
        "    self.a = torch.nn.Parameter(torch.randn(()))\n",
        "    self.b = torch.nn.Parameter(torch.randn(()))\n",
        "    self.c = torch.nn.Parameter(torch.randn(()))\n",
        "    self.d = torch.nn.Parameter(torch.randn(()))\n",
        "  \n",
        "  def forward(self, x):\n",
        "    \"\"\"\n",
        "    In the forward function we accept a Tensor of input data and we must return \n",
        "    a Tensor of output data. We can use Modules defined in the constructor as \n",
        "    well as arbitrary operations on Tensors. \n",
        "    \"\"\"\n",
        "    return self.a + self.b * x + self.c * x ** 2 + self.d * x ** 3\n",
        "\n",
        "  def string(self):\n",
        "    \"\"\"\n",
        "    Just like any class in Python, you can also define custom method on PyTorch\n",
        "    Modules.\n",
        "    \"\"\"\n",
        "    x = f'y = ' \n",
        "    y = f'{\" %.4f + \"}'%self.a.item() \n",
        "    z = f'{\" %.4f x + \"}'%self.b.item()  \n",
        "    w = f'{\" %.4f x^2 + \"}'%self.c.item()  \n",
        "    a = f'{\" %.4f x^3 \"}'%self.d.item()\n",
        "    return x+y+z+w+a\n",
        "\n",
        "# Create Tensors to hold input and outputs. \n",
        "x = torch.linspace(-math.pi, math.pi, 2000)\n",
        "y = torch.sin(x)\n",
        "\n",
        "# Construct our model by instantitating the class defined above \n",
        "model = Polynomial3()\n",
        "\n",
        "# Construct our loss function and an Optimizer. The call to model.parameters()\n",
        "# in the SGD constructor will contain the learnable parameters (defined \n",
        "# with torch.nn.Parameter) which are members of the model. \n",
        "criterion = torch.nn.MSELoss(reduction='sum')\n",
        "optimizer = torch.optim.SGD(model.parameters(), lr=1e-6)\n",
        "for t in range(2000):\n",
        "  # Forward pass: Compute predicted y by passing x to the model \n",
        "  y_pred = model(x)\n",
        "\n",
        "  # Compute and print loss \n",
        "  loss = criterion(y_pred, y)\n",
        "  if t % 100 == 99:\n",
        "    print(t, loss.item())\n",
        "\n",
        "  # Zero gradients, perform a backward pass, and update the weights. \n",
        "  optimizer.zero_grad()\n",
        "  loss.backward()\n",
        "  optimizer.step()\n",
        "\n",
        "print(f\"Result:  {model.string()}\")"
      ],
      "execution_count": 3,
      "outputs": [
        {
          "output_type": "stream",
          "text": [
            "99 2865.56640625\n",
            "199 1967.3846435546875\n",
            "299 1353.13525390625\n",
            "399 932.5743408203125\n",
            "499 644.2969970703125\n",
            "599 446.46881103515625\n",
            "699 310.5561218261719\n",
            "799 217.075927734375\n",
            "899 152.70875549316406\n",
            "999 108.3391342163086\n",
            "1099 77.72107696533203\n",
            "1199 56.57009506225586\n",
            "1299 41.94371795654297\n",
            "1399 31.81893539428711\n",
            "1499 24.803245544433594\n",
            "1599 19.93724822998047\n",
            "1699 16.558998107910156\n",
            "1799 14.211508750915527\n",
            "1899 12.578824043273926\n",
            "1999 11.442300796508789\n",
            "Result:  y =  -0.0485 +  0.8345 x +  0.0084 x^2 +  -0.0902 x^3 \n"
          ],
          "name": "stdout"
        }
      ]
    },
    {
      "cell_type": "code",
      "metadata": {
        "id": "jleYiySGUc1v"
      },
      "source": [
        ""
      ],
      "execution_count": null,
      "outputs": []
    }
  ]
}