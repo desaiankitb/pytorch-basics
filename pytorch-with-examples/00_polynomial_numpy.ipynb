{
  "nbformat": 4,
  "nbformat_minor": 0,
  "metadata": {
    "colab": {
      "name": "00_polynomial_numpy.ipynb",
      "provenance": [],
      "collapsed_sections": [],
      "authorship_tag": "ABX9TyORUohePm7W7g95Fm2xlvb9",
      "include_colab_link": true
    },
    "kernelspec": {
      "name": "python3",
      "display_name": "Python 3"
    },
    "language_info": {
      "name": "python"
    }
  },
  "cells": [
    {
      "cell_type": "markdown",
      "metadata": {
        "id": "view-in-github",
        "colab_type": "text"
      },
      "source": [
        "<a href=\"https://colab.research.google.com/github/desaiankitb/pytorch-basics/blob/main/pytorch-with-examples/00_polynomial_numpy.ipynb\" target=\"_parent\"><img src=\"https://colab.research.google.com/assets/colab-badge.svg\" alt=\"Open In Colab\"/></a>"
      ]
    },
    {
      "cell_type": "code",
      "metadata": {
        "id": "2wwFbS1C_OVA"
      },
      "source": [
        "%matplotlib inline"
      ],
      "execution_count": 1,
      "outputs": []
    },
    {
      "cell_type": "markdown",
      "metadata": {
        "id": "9AcfSdPP_cjd"
      },
      "source": [
        "#Warm-up: numpy\n",
        "\n",
        "A third order polynomial, trained to predict $y = sin(x)$ from $-\\pi$ to $\\pi$ by minimizing squared Euclidean distance. \n",
        "\n",
        "This implementation uses numpy to manually compute the forward pass, loss, and backward pass. \n",
        "\n",
        "A numpy array is a generic n-dimensional array; it does not know anything about deep learning or gradients or computational graphs, and is just a way to preform generic numeric computations. \n",
        "\n"
      ]
    },
    {
      "cell_type": "code",
      "metadata": {
        "colab": {
          "base_uri": "https://localhost:8080/"
        },
        "id": "aSmtgxRA_b8o",
        "outputId": "2360a8ba-ed5b-4507-e52f-a79ef21cf080"
      },
      "source": [
        "import numpy as np\n",
        "import math \n",
        "\n",
        "# Create random input and output data \n",
        "x = np.linspace(-math.pi, math.pi, 2000)\n",
        "y = np.sin(x)\n",
        "\n",
        "# Randomly initialize weights \n",
        "a = np.random.randn()\n",
        "b = np.random.randn()\n",
        "c = np.random.randn()\n",
        "d = np.random.randn()\n",
        "\n",
        "learning_rate = 1e-6 \n",
        "for t in range(2000):\n",
        "  # Forward pass: compute predicted y \n",
        "  # y = a + b x + c x ^2 + d x ^ 3 \n",
        "  y_pred = a + b * x + c * x ** 2 + d * x ** 3\n",
        "\n",
        "  # Compute and print loss \n",
        "  loss = np.square(y_pred - y).sum()\n",
        "  if t % 100 == 99:\n",
        "    print(t, loss)\n",
        "\n",
        "  # Backprop to compute gradients of a, b, c, d with respect to loss \n",
        "  grad_y_pred = 2.0 * (y_pred - y)\n",
        "  grad_a = grad_y_pred.sum()\n",
        "  grad_b = (grad_y_pred * x).sum()\n",
        "  grad_c = (grad_y_pred * x ** 2).sum()\n",
        "  grad_d = (grad_y_pred * x ** 3).sum()\n",
        "\n",
        "  # Update weights \n",
        "  a -= learning_rate * grad_a\n",
        "  b -= learning_rate * grad_b\n",
        "  c -= learning_rate * grad_c\n",
        "  d -= learning_rate * grad_d\n",
        "\n",
        "print(f\"Result: y = {a} + {b} x + {c} x^2 + {d} x^3\")\n"
      ],
      "execution_count": 1,
      "outputs": [
        {
          "output_type": "stream",
          "text": [
            "99 2963.501549726517\n",
            "199 2052.841848300687\n",
            "299 1424.2869723867698\n",
            "399 989.9863205826256\n",
            "499 689.5939972168297\n",
            "599 481.6107376489672\n",
            "699 337.4660614980735\n",
            "799 237.46873195959358\n",
            "899 168.0324981114651\n",
            "999 119.77332914472059\n",
            "1099 86.20288629489771\n",
            "1199 62.830384325217636\n",
            "1299 46.54449789575159\n",
            "1399 35.1875222419825\n",
            "1499 27.261668406873028\n",
            "1599 21.726275241084885\n",
            "1699 17.857647190266363\n",
            "1799 15.152077526081147\n",
            "1899 13.258683431382236\n",
            "1999 11.932842619570543\n",
            "Result: y = 0.05525941089736953 + 0.837538269315953 x + -0.00953316790036262 x^2 + -0.0905989901410308 x^3\n"
          ],
          "name": "stdout"
        }
      ]
    },
    {
      "cell_type": "code",
      "metadata": {
        "id": "R8lCkpGuzscy"
      },
      "source": [
        ""
      ],
      "execution_count": null,
      "outputs": []
    }
  ]
}