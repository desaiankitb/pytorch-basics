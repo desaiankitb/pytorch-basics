{
  "nbformat": 4,
  "nbformat_minor": 0,
  "metadata": {
    "colab": {
      "name": "04_polynomial_nn.ipynb",
      "provenance": [],
      "authorship_tag": "ABX9TyNMo2+n/X0dzGKW+InLLPuM",
      "include_colab_link": true
    },
    "kernelspec": {
      "name": "python3",
      "display_name": "Python 3"
    },
    "language_info": {
      "name": "python"
    }
  },
  "cells": [
    {
      "cell_type": "markdown",
      "metadata": {
        "id": "view-in-github",
        "colab_type": "text"
      },
      "source": [
        "<a href=\"https://colab.research.google.com/github/desaiankitb/pytorch-basics/blob/main/pytorch-with-examples/04_polynomial_nn.ipynb\" target=\"_parent\"><img src=\"https://colab.research.google.com/assets/colab-badge.svg\" alt=\"Open In Colab\"/></a>"
      ]
    },
    {
      "cell_type": "code",
      "metadata": {
        "id": "xo-HqL0LN5_7"
      },
      "source": [
        "%matplotlib inline "
      ],
      "execution_count": null,
      "outputs": []
    },
    {
      "cell_type": "markdown",
      "metadata": {
        "id": "IxoT7SlxN_6G"
      },
      "source": [
        "#PyTorch: nn\n",
        "A third order polynomial, trained to predict $y = sin(x)$ from $-\\pi$ to $\\pi$ by minimizing squared Euclidean distance. \n",
        "\n",
        "This implementation uses the nn package from PyTorch to build the neural network. PyTorch autograd makes it easy to define computational graphs and take gradients, but raw autograd can be a bit too low-level for defining complex neural networks; this is where the nn package can help. The nn package defines a set of Modules, which you can think of as a neural network layer that has produced output from input and may have some trainable weights. "
      ]
    },
    {
      "cell_type": "code",
      "metadata": {
        "colab": {
          "base_uri": "https://localhost:8080/"
        },
        "id": "cjD8xImluVt-",
        "outputId": "226f7637-c001-49d0-85c0-0822640659a8"
      },
      "source": [
        "import torch \n",
        "import math \n",
        "\n",
        "# Create Tensors to hold input and outputs. \n",
        "x = torch.linspace(-math.pi, math.pi, 2000)\n",
        "y = torch.sin(x)\n",
        "\n",
        "# For this example, the output y is a linear function of (x, x^2, x^3), so\n",
        "# we can consider it as linear layer neural network. Let's prepare the \n",
        "# tensor (x, x^2, x^3)\n",
        "p = torch.tensor([1, 2, 3])\n",
        "xx = x.unsqueeze(-1).pow(p)\n",
        "\n",
        "# In the above code, x.unsqueeze(-1) has shape (2000, 1) and p has shape \n",
        "# (3,), for this case, broadcasting semantics will apply to obtain a tensor\n",
        "# of shape (2000, 3)\n",
        "\n",
        "# Use the nn package to define the model as a sequence of layers. nn.Sequential \n",
        "# is a Module which contains other Modules, and applies them in sequence to \n",
        "# produce its output. The Linear Module computes output from input using a \n",
        "# linear function, and holds internal Tensor for its weight and bias. \n",
        "# The Flatten layer flatens the output of the linear layer to a 1D tensor, \n",
        "# to match the shape of `y`. \n",
        "model = torch.nn.Sequential(\n",
        "    torch.nn.Linear(3, 1),\n",
        "    torch.nn.Flatten(0, 1)\n",
        ")\n",
        "\n",
        "# The nn package also contains definations of popular loss functions; in this \n",
        "# case we will use Mean Squared Error (MSE) as our loss function. \n",
        "loss_fn = torch.nn.MSELoss(reduction='sum')\n",
        "\n",
        "learning_rate = 1e-6 \n",
        "for t in range(2000):\n",
        "  # Forward pass: compute predicted y by passing x to the model. Module objects \n",
        "  # override the __call__ operator so you can call them like functions. When \n",
        "  # doing so you pass a Tensor of input data to the Module and it produces \n",
        "  # a Tensor of output data. \n",
        "  y_pred = model(xx)\n",
        "\n",
        "  # Compute and print loss. We pass Tensors containing the predicted and true \n",
        "  # values of y, and the loss function returns a Tensor containing the loss. \n",
        "  loss = loss_fn(y_pred, y)\n",
        "  if t % 100 == 99:\n",
        "    print(t, loss.item())\n",
        "\n",
        "  # Zero the gradients before running the backward pass. \n",
        "  model.zero_grad()\n",
        "\n",
        "  # Backward pass: compute gradient of the loss with respect to all the learnable \n",
        "  # parameters of the model. Internally, the parameters of each Module are stored \n",
        "  # in Tensors with requires_grad=True, so this call will compute gradients for \n",
        "  # all learnable parameters in the model. \n",
        "  loss.backward()\n",
        "\n",
        "  # Update the weights using gradient descent. Each parameter is a Tensor, so \n",
        "  # we can access its gradients like we did before. \n",
        "  with torch.no_grad():\n",
        "    for param in model.parameters():\n",
        "      param -= learning_rate * param.grad \n",
        "\n",
        "# You can access the first layer of 'model' like accessing the first item of a list\n",
        "linear_layer = model[0]\n",
        "\n",
        "# For linear layer, its parameters are stored as `weight` and `bias`. \n",
        "print(f'Result: y = {linear_layer.bias.item()} +' + \n",
        "    f'{linear_layer.weight[:, 0].item()} x +' \n",
        "    f'{linear_layer.weight[:, 1].item()} x^2 +' \n",
        "    f'{linear_layer.weight[:, 2].item()} x^3 ')"
      ],
      "execution_count": 8,
      "outputs": [
        {
          "output_type": "stream",
          "text": [
            "99 339.0945739746094\n",
            "199 227.40794372558594\n",
            "299 153.4982147216797\n",
            "399 104.58497619628906\n",
            "499 72.21284484863281\n",
            "599 50.786468505859375\n",
            "699 36.60397720336914\n",
            "799 27.21564483642578\n",
            "899 21.000476837158203\n",
            "999 16.885610580444336\n",
            "1099 14.161108016967773\n",
            "1199 12.357000350952148\n",
            "1299 11.16222095489502\n",
            "1399 10.37089729309082\n",
            "1499 9.846741676330566\n",
            "1599 9.499521255493164\n",
            "1699 9.26945972442627\n",
            "1799 9.117019653320312\n",
            "1899 9.015979766845703\n",
            "1999 8.949021339416504\n",
            "Result: y = -0.002567383460700512 +0.845830500125885 x +0.0004429167602211237 x^2 +-0.09177848696708679 x^3 \n"
          ],
          "name": "stdout"
        }
      ]
    },
    {
      "cell_type": "code",
      "metadata": {
        "id": "ppAfsGXY2Ct-"
      },
      "source": [
        ""
      ],
      "execution_count": null,
      "outputs": []
    }
  ]
}