{
  "nbformat": 4,
  "nbformat_minor": 0,
  "metadata": {
    "colab": {
      "name": "02_polynomial_autograd.ipynb",
      "provenance": [],
      "authorship_tag": "ABX9TyNWl4TJ8tNd8nPLfSo+UXLb",
      "include_colab_link": true
    },
    "kernelspec": {
      "name": "python3",
      "display_name": "Python 3"
    },
    "language_info": {
      "name": "python"
    }
  },
  "cells": [
    {
      "cell_type": "markdown",
      "metadata": {
        "id": "view-in-github",
        "colab_type": "text"
      },
      "source": [
        "<a href=\"https://colab.research.google.com/github/desaiankitb/pytorch-basics/blob/main/pytorch-with-examples/02_polynomial_autograd.ipynb\" target=\"_parent\"><img src=\"https://colab.research.google.com/assets/colab-badge.svg\" alt=\"Open In Colab\"/></a>"
      ]
    },
    {
      "cell_type": "code",
      "metadata": {
        "id": "alDZe6vn0KOh"
      },
      "source": [
        "%matplotlib inline"
      ],
      "execution_count": null,
      "outputs": []
    },
    {
      "cell_type": "markdown",
      "metadata": {
        "id": "1nv8bh7g0QE3"
      },
      "source": [
        "# PyTorch: Tensors and autograd\n",
        "\n",
        "A third order polynomial, trained to predict $y = sin(x)$ from $-\\pi$ to $\\pi$ by minimizing squared Euclidean distance. \n",
        "\n",
        "This implementation computes the forward pass using operations on PyTorch Tensors, and uses PyTorch autograd to compute gradients. \n",
        "\n",
        "A PyTorch Tensor represents a node in a computational graph. If `x` is a Tensor that has `x.required_grad=True` then `x.grad` is another Tensor holding the gradient of `x` with respect to some scalar value. "
      ]
    },
    {
      "cell_type": "code",
      "metadata": {
        "colab": {
          "base_uri": "https://localhost:8080/"
        },
        "id": "5__Nr3UD08bs",
        "outputId": "2e029e40-8189-41f6-a56e-7de5cbe71b5b"
      },
      "source": [
        "import torch\n",
        "import math \n",
        "\n",
        "dtype = torch.float\n",
        "device = torch.device(\"cpu\")\n",
        "# device = torch.device(\"cuda:0\") # Uncomment this to run on GPU\n",
        "\n",
        "# Create Tensors to hold input and outputs. \n",
        "# By default, required_grad=False, which indicates that we do not need to \n",
        "# compute gradients with respect to these Tensors during the backward pass. \n",
        "x = torch.linspace(-math.pi, math.pi, 2000, device=device, dtype=dtype)\n",
        "y = torch.sin(x)\n",
        "\n",
        "# Create random Tensor for weights. For a third order polynomial, we need \n",
        "# 4 weights, y = a + b x + c x^2 + d x^3 \n",
        "# Setting required_grad=True indicates that we want to compute gradients \n",
        "# with respect to these Tensors during backward pass. \n",
        "\n",
        "a = torch.randn((), device=device, dtype=dtype, requires_grad=True)\n",
        "b = torch.randn((), device=device, dtype=dtype, requires_grad=True)\n",
        "c = torch.randn((), device=device, dtype=dtype, requires_grad=True)  \n",
        "d = torch.randn((), device=device, dtype=dtype, requires_grad=True)\n",
        "\n",
        "learning_rate = 1e-6\n",
        "for t in range(2000):\n",
        "  # Forward pass: compute predicted y using operations on Tensors. \n",
        "  y_pred = a + b * x + c * x ** 2 + d * x ** 3 \n",
        "\n",
        "  # Compute and print loss using operations on Tensors. \n",
        "  # Now loss is a Tensor of shape (1,)\n",
        "  # loss.item() gets the scalar value held in the loss. \n",
        "  loss = (y_pred-y).pow(2).sum()\n",
        "  if t % 100 == 99:\n",
        "    print(t, loss.item())\n",
        "\n",
        "  # Use autograd to comptute the backward pass. This call will compute the \n",
        "  # gradient of loss with respect to all Tensors with required_grad=True. \n",
        "  # After this call a.grad, b.grad, c.grad, d.grad will be Tensors holding \n",
        "  # the gradient of the loss with respect to a, b, c, d, respectively. \n",
        "  loss.backward()\n",
        "\n",
        "  # Manually update weights using gradient descent. Wrap in torch.no_grad()\n",
        "  # because weights have requires_grad=True, but we don't need to track this \n",
        "  # in autograd. \n",
        "  with torch.no_grad():\n",
        "    a -= learning_rate * a.grad\n",
        "    b -= learning_rate * b.grad \n",
        "    c -= learning_rate * c.grad\n",
        "    d -= learning_rate * d.grad \n",
        "\n",
        "    # Manually zero the gradients after updating weights \n",
        "    a.grad = None \n",
        "    b.grad = None \n",
        "    c.grad = None \n",
        "    d.grad = None \n",
        "\n",
        "print(f\"Result: y = {a.item()} + {b.item()} x + {c.item()} x^2 + {d.item()} x^3\")\n",
        "\n"
      ],
      "execution_count": 8,
      "outputs": [
        {
          "output_type": "stream",
          "text": [
            "99 891.4742431640625\n",
            "199 624.8438110351562\n",
            "299 439.07208251953125\n",
            "399 309.5333251953125\n",
            "499 219.13711547851562\n",
            "599 156.00892639160156\n",
            "699 111.89220428466797\n",
            "799 81.0406494140625\n",
            "899 59.451629638671875\n",
            "999 44.33494567871094\n",
            "1099 33.743896484375\n",
            "1199 26.319400787353516\n",
            "1299 21.111927032470703\n",
            "1399 17.45757293701172\n",
            "1499 14.891921997070312\n",
            "1599 13.089749336242676\n",
            "1699 11.823325157165527\n",
            "1799 10.933008193969727\n",
            "1899 10.306864738464355\n",
            "1999 9.866337776184082\n",
            "Result: y = 0.03309646621346474 + 0.8485207557678223 x + -0.005709691904485226 x^2 + -0.0921611487865448 x^3\n"
          ],
          "name": "stdout"
        }
      ]
    },
    {
      "cell_type": "code",
      "metadata": {
        "id": "XiISCCKG339A"
      },
      "source": [
        ""
      ],
      "execution_count": null,
      "outputs": []
    }
  ]
}