{
  "nbformat": 4,
  "nbformat_minor": 0,
  "metadata": {
    "colab": {
      "name": "03_polynomial_custom_function.ipynb",
      "provenance": [],
      "authorship_tag": "ABX9TyMwj8uBoTNJeucWXvT/KiTx",
      "include_colab_link": true
    },
    "kernelspec": {
      "name": "python3",
      "display_name": "Python 3"
    },
    "language_info": {
      "name": "python"
    }
  },
  "cells": [
    {
      "cell_type": "markdown",
      "metadata": {
        "id": "view-in-github",
        "colab_type": "text"
      },
      "source": [
        "<a href=\"https://colab.research.google.com/github/desaiankitb/pytorch-basics/blob/main/pytorch-with-examples/03_polynomial_custom_function.ipynb\" target=\"_parent\"><img src=\"https://colab.research.google.com/assets/colab-badge.svg\" alt=\"Open In Colab\"/></a>"
      ]
    },
    {
      "cell_type": "code",
      "metadata": {
        "id": "eA2pYSX07AsP"
      },
      "source": [
        "%matplotlib inline"
      ],
      "execution_count": null,
      "outputs": []
    },
    {
      "cell_type": "markdown",
      "metadata": {
        "id": "K0XRSKB69Ks_"
      },
      "source": [
        "#PyTorch: Defining New autograd Functions \n",
        "A third order polynomial, trained to predict $y = sin(x)$ from $-\\pi$ to $\\pi$ by minimizing squared Euclidean distance. Instead of writing the polynomial as $y = a  + bx + cx^2 + dx^3$, we write the polynomial as $y = a+b P_3(c+dx)$  where, \n",
        "$P_3(x) = \\frac{1}{2} \\left (5x^3-3x \\right)$ is the [`Legendre polynomial`](https://en.wikipedia.org/wiki/Legendre_polynomials) of degree three.  \n",
        "\n",
        "This implementation computes the forward pass using opeartions on PyTorch Tensors, and uses PyTorch autograd to compute gradients. \n",
        "\n",
        "In this implementation we implement our own custom autograd function to compute $P'_3(x)$. By Mathematics, $P'_3 = \\frac{3}{2}\\left(5x^2-1\\right)$"
      ]
    },
    {
      "cell_type": "code",
      "metadata": {
        "colab": {
          "base_uri": "https://localhost:8080/"
        },
        "id": "LtQ_E43j_y8L",
        "outputId": "f75ebd29-8dbc-4c4a-e01b-314389080a74"
      },
      "source": [
        "import torch \n",
        "import math \n",
        "\n",
        "class LenendrePolynomial3(torch.autograd.Function):\n",
        "  \"\"\"\n",
        "  We can implement our own custom autograd Function by subclassing \n",
        "  torch.autograd.Function and implementing the forward and backward passes \n",
        "  which operate on Tensors. \n",
        "  \"\"\"\n",
        "\n",
        "  @staticmethod\n",
        "  def forward(ctx, input):\n",
        "    \"\"\"\n",
        "    In the forward pass we receive a Tensor containing the input and return \n",
        "    a Tensor containing the output. ctx is a context object object that can be \n",
        "    used to stash information for backward computation. You can cache arbitrary \n",
        "    objects for us in the backward pass using the ctx.save_for_backward method. \n",
        "    \"\"\"\n",
        "    ctx.save_for_backward(input)\n",
        "    return 0.5 * (5 * input ** 3 - 3 * input)\n",
        "\n",
        "  @staticmethod\n",
        "  def backward(ctx, grad_output):\n",
        "    \"\"\"\n",
        "    In the backward pass we receive a Tensor containing the gradient of the loss \n",
        "    with respect to the output, and we need to compute the gradient of the loss \n",
        "    with respect to the input. \n",
        "    \"\"\"\n",
        "    input, = ctx.saved_tensors \n",
        "    return grad_output * 1.5 * (5 * input ** 2 -1)\n",
        "\n",
        "\n",
        "dtype = torch.float \n",
        "device = torch.device(\"cpu\")\n",
        "# device = torch.device(\"cuda:0\") # Uncomment this to return on GPU \n",
        "\n",
        "# Create Tensors to hold input and outputs. \n",
        "# By default, requires_grad=False, which indicates that we do not need to \n",
        "# compute gradients with respect to these Tensors during the backward pass. \n",
        "x = torch.linspace(-math.pi, math.pi, 2000, device=device, dtype=dtype)\n",
        "y = torch.sin(x)\n",
        "\n",
        "# Create random Tensors for weights. For this example, we need \n",
        "# 4 weights: y = a + bx + P3(c+d+x), these weights need to be initialized \n",
        "# not too far from the correct result to ensure convergence. \n",
        "# Setting requires_grad=True indicates that we want to compute gradients with \n",
        "# respect to these Tensors during backward pass. \n",
        "a = torch.full((), 0.0, device=device, dtype=dtype, requires_grad=True)\n",
        "b = torch.full((), -1.0, device=device, dtype=dtype, requires_grad=True)\n",
        "c = torch.full((), 0.0, device=device, dtype=dtype, requires_grad=True)\n",
        "d = torch.full((), 0.3, device=device, dtype=dtype, requires_grad=True)\n",
        "\n",
        "learning_rate = 5e-6\n",
        "for t in range(2000):\n",
        "  # To apply our Function, we use Function.apply method. We alias this as 'P3'.\n",
        "  P3 = LenendrePolynomial3.apply\n",
        "\n",
        "  # Forward pass: compute predicted y using operations; we compute \n",
        "  # P3 using our custom autograd operation. \n",
        "  y_pred = a + b * P3(c + d * x)\n",
        "\n",
        "  # Compute and print loss \n",
        "  loss = (y_pred - y).pow(2).sum()\n",
        "  if t % 100 == 99:\n",
        "    print(t, loss.item())\n",
        "\n",
        "  # Use autograd to compute the backward pass. \n",
        "  loss.backward()\n",
        "\n",
        "  # Update weights using gradient descent \n",
        "  with torch.no_grad():\n",
        "    a -= learning_rate * a.grad\n",
        "    b -= learning_rate * b.grad \n",
        "    c -= learning_rate * c.grad \n",
        "    d -= learning_rate * d.grad \n",
        "\n",
        "    # Manually zero the gradients after updating the weights \n",
        "    a.grad = None\n",
        "    b.grad = None \n",
        "    c.grad = None \n",
        "    d.grad = None \n",
        "\n",
        "print(f\"Result: y = {a.item()} + {b.item()} + P3({c.item()} + {d.item()} x)\")\n",
        "\n"
      ],
      "execution_count": 3,
      "outputs": [
        {
          "output_type": "stream",
          "text": [
            "99 209.95834350585938\n",
            "199 144.66018676757812\n",
            "299 100.70249938964844\n",
            "399 71.03519439697266\n",
            "499 50.97850799560547\n",
            "599 37.403133392333984\n",
            "699 28.206867218017578\n",
            "799 21.97318458557129\n",
            "899 17.7457275390625\n",
            "999 14.877889633178711\n",
            "1099 12.93176555633545\n",
            "1199 11.610918998718262\n",
            "1299 10.71425724029541\n",
            "1399 10.10548210144043\n",
            "1499 9.692106246948242\n",
            "1599 9.411375045776367\n",
            "1699 9.220745086669922\n",
            "1799 9.091285705566406\n",
            "1899 9.003360748291016\n",
            "1999 8.943639755249023\n",
            "Result: y = -5.394172664097141e-09 + -2.208526849746704 + P3(1.367587154632588e-09 + 0.2554861009120941 x)\n"
          ],
          "name": "stdout"
        }
      ]
    },
    {
      "cell_type": "code",
      "metadata": {
        "id": "8ZTSAG2jM0Yd"
      },
      "source": [
        ""
      ],
      "execution_count": null,
      "outputs": []
    }
  ]
}