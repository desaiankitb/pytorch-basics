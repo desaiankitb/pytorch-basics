{
  "nbformat": 4,
  "nbformat_minor": 0,
  "metadata": {
    "colab": {
      "name": "Linear Regression 1.ipynb",
      "provenance": [],
      "collapsed_sections": [],
      "authorship_tag": "ABX9TyMio++KAY7Cy9iK00266vgF",
      "include_colab_link": true
    },
    "kernelspec": {
      "name": "python3",
      "display_name": "Python 3"
    },
    "language_info": {
      "name": "python"
    }
  },
  "cells": [
    {
      "cell_type": "markdown",
      "metadata": {
        "id": "view-in-github",
        "colab_type": "text"
      },
      "source": [
        "<a href=\"https://colab.research.google.com/github/desaiankitb/pytorch-basics/blob/main/Linear_Regression_1.ipynb\" target=\"_parent\"><img src=\"https://colab.research.google.com/assets/colab-badge.svg\" alt=\"Open In Colab\"/></a>"
      ]
    },
    {
      "cell_type": "code",
      "metadata": {
        "colab": {
          "base_uri": "https://localhost:8080/"
        },
        "id": "YPBn3Z59lNC_",
        "outputId": "442325f5-7fda-4ef9-b8c8-bdaca6dbb56d"
      },
      "source": [
        "!pip3 install torch"
      ],
      "execution_count": 1,
      "outputs": [
        {
          "output_type": "stream",
          "text": [
            "Requirement already satisfied: torch in /usr/local/lib/python3.7/dist-packages (1.8.1+cu101)\n",
            "Requirement already satisfied: typing-extensions in /usr/local/lib/python3.7/dist-packages (from torch) (3.7.4.3)\n",
            "Requirement already satisfied: numpy in /usr/local/lib/python3.7/dist-packages (from torch) (1.19.5)\n"
          ],
          "name": "stdout"
        }
      ]
    },
    {
      "cell_type": "code",
      "metadata": {
        "id": "G50EL09RlVS0"
      },
      "source": [
        "import torch"
      ],
      "execution_count": 2,
      "outputs": []
    },
    {
      "cell_type": "code",
      "metadata": {
        "id": "sDPhu0OhlmbH"
      },
      "source": [
        "w = torch.tensor(3.0, requires_grad=True)\n",
        "b = torch.tensor(1.0, requires_grad=True)"
      ],
      "execution_count": 3,
      "outputs": []
    },
    {
      "cell_type": "code",
      "metadata": {
        "id": "63_odF-tmYuU"
      },
      "source": [
        "def forward(x):\n",
        "  y = w*x + b\n",
        "  return y"
      ],
      "execution_count": 4,
      "outputs": []
    },
    {
      "cell_type": "code",
      "metadata": {
        "colab": {
          "base_uri": "https://localhost:8080/"
        },
        "id": "Bn8OW0RYmrkW",
        "outputId": "a65e7628-d0f6-4783-8158-0da21b03c29e"
      },
      "source": [
        "x = torch.tensor([[2], [7], [4]])\n",
        "forward(x)"
      ],
      "execution_count": 5,
      "outputs": [
        {
          "output_type": "execute_result",
          "data": {
            "text/plain": [
              "tensor([[ 7.],\n",
              "        [22.],\n",
              "        [13.]], grad_fn=<AddBackward0>)"
            ]
          },
          "metadata": {
            "tags": []
          },
          "execution_count": 5
        }
      ]
    },
    {
      "cell_type": "code",
      "metadata": {
        "id": "vbVv-3Bimv8I"
      },
      "source": [
        "from torch.nn import Linear"
      ],
      "execution_count": 6,
      "outputs": []
    },
    {
      "cell_type": "code",
      "metadata": {
        "colab": {
          "base_uri": "https://localhost:8080/"
        },
        "id": "KoW0DoFenSi7",
        "outputId": "ad985472-d3b4-4bb6-9a1b-c3296e198dbd"
      },
      "source": [
        "torch.manual_seed(1)\n",
        "model = Linear(in_features=1, out_features=1)\n",
        "print(model.bias, model.weight)              "
      ],
      "execution_count": 7,
      "outputs": [
        {
          "output_type": "stream",
          "text": [
            "Parameter containing:\n",
            "tensor([-0.4414], requires_grad=True) Parameter containing:\n",
            "tensor([[0.5153]], requires_grad=True)\n"
          ],
          "name": "stdout"
        }
      ]
    },
    {
      "cell_type": "code",
      "metadata": {
        "colab": {
          "base_uri": "https://localhost:8080/"
        },
        "id": "TFeO5SbDnx3N",
        "outputId": "46319b8d-c155-4be9-df02-c342a3e19200"
      },
      "source": [
        "x = torch.tensor([[2.0], [3.3]])\n",
        "print(model(x))"
      ],
      "execution_count": 8,
      "outputs": [
        {
          "output_type": "stream",
          "text": [
            "tensor([[0.5891],\n",
            "        [1.2590]], grad_fn=<AddmmBackward>)\n"
          ],
          "name": "stdout"
        }
      ]
    },
    {
      "cell_type": "markdown",
      "metadata": {
        "id": "_3Z-wRl-x5px"
      },
      "source": [
        "# Linear Regression Custom Modules \n",
        "## The complete PyToarh Course \n",
        "### Deep Learning & Computer Vision "
      ]
    },
    {
      "cell_type": "code",
      "metadata": {
        "id": "iMrGUz_Ln8Dz"
      },
      "source": [
        "import torch.nn as nn\n",
        "class LR(nn.Module):\n",
        "  def __init__(self, input_size, output_size):\n",
        "    super().__init__()\n",
        "    self.linear = nn.Linear(input_size, output_size)\n",
        "\n",
        "  def forward(self, x):\n",
        "    pred = self.linear(x)\n",
        "    return pred\n"
      ],
      "execution_count": 9,
      "outputs": []
    },
    {
      "cell_type": "code",
      "metadata": {
        "colab": {
          "base_uri": "https://localhost:8080/"
        },
        "id": "3X1s3hUAwWAE",
        "outputId": "0efc0d95-a442-47c5-ceed-f80d71b2d35b"
      },
      "source": [
        "torch.manual_seed(1)\n",
        "model = LR(1, 1)\n",
        "print(list(model.parameters()))"
      ],
      "execution_count": 10,
      "outputs": [
        {
          "output_type": "stream",
          "text": [
            "[Parameter containing:\n",
            "tensor([[0.5153]], requires_grad=True), Parameter containing:\n",
            "tensor([-0.4414], requires_grad=True)]\n"
          ],
          "name": "stdout"
        }
      ]
    },
    {
      "cell_type": "code",
      "metadata": {
        "colab": {
          "base_uri": "https://localhost:8080/"
        },
        "id": "lvIE53W3wovR",
        "outputId": "f3cf4651-3afe-4fb5-ee9c-2ad8151ab98e"
      },
      "source": [
        "x = torch.tensor([[1.0], [2.0]])\n",
        "print(model.forward(x))"
      ],
      "execution_count": 11,
      "outputs": [
        {
          "output_type": "stream",
          "text": [
            "tensor([[0.0739],\n",
            "        [0.5891]], grad_fn=<AddmmBackward>)\n"
          ],
          "name": "stdout"
        }
      ]
    },
    {
      "cell_type": "markdown",
      "metadata": {
        "id": "6RKTSbjlyzFW"
      },
      "source": [
        "# Linear Regression Creating Dataset \n",
        "## The complete PyToarh Course \n",
        "### Deep Learning & Computer Vision "
      ]
    },
    {
      "cell_type": "code",
      "metadata": {
        "id": "qKZTGIL9xFl8"
      },
      "source": [
        "import matplotlib.pyplot as plt"
      ],
      "execution_count": 12,
      "outputs": []
    },
    {
      "cell_type": "code",
      "metadata": {
        "colab": {
          "base_uri": "https://localhost:8080/",
          "height": 296
        },
        "id": "DgH79R4zoRFh",
        "outputId": "b8109ba0-8439-4c34-f82b-76ac2bdcdfb7"
      },
      "source": [
        "# creating our dataset\n",
        "# X is set of random points using torch.randn\n",
        "X = torch.randn(100, 1)*10\n",
        "# y is added with a noise wrt X \n",
        "y = X +3*torch.randn(100, 1)\n",
        "plt.plot(X.numpy(), y.numpy(), 'o')\n",
        "plt.ylabel('y')\n",
        "plt.xlabel('x')"
      ],
      "execution_count": 13,
      "outputs": [
        {
          "output_type": "execute_result",
          "data": {
            "text/plain": [
              "Text(0.5, 0, 'x')"
            ]
          },
          "metadata": {
            "tags": []
          },
          "execution_count": 13
        },
        {
          "output_type": "display_data",
          "data": {
            "image/png": "[encoded data removed]",
            "text/plain": [
              "<Figure size 432x288 with 1 Axes>"
            ]
          },
          "metadata": {
            "tags": [],
            "needs_background": "light"
          }
        }
      ]
    },
    {
      "cell_type": "code",
      "metadata": {
        "id": "u9c-15BHpVkT"
      },
      "source": [
        "# we have already defined this LR class with constructor \n",
        "# and forward method\n",
        "import torch.nn as nn\n",
        "class LR(nn.Module):\n",
        "  def __init__(self, input_size, output_size):\n",
        "    super().__init__()\n",
        "    self.linear = nn.Linear(input_size, output_size)\n",
        "\n",
        "  def forward(self, x):\n",
        "    pred = self.linear(x)\n",
        "    return pred"
      ],
      "execution_count": 14,
      "outputs": []
    },
    {
      "cell_type": "code",
      "metadata": {
        "colab": {
          "base_uri": "https://localhost:8080/"
        },
        "id": "IzQXbwaIqHGs",
        "outputId": "05f4942b-52aa-4d72-e61d-f0ab9a3ae87a"
      },
      "source": [
        "torch.manual_seed(1)\n",
        "model = LR(1, 1)\n",
        "print(model)"
      ],
      "execution_count": 15,
      "outputs": [
        {
          "output_type": "stream",
          "text": [
            "LR(\n",
            "  (linear): Linear(in_features=1, out_features=1, bias=True)\n",
            ")\n"
          ],
          "name": "stdout"
        }
      ]
    },
    {
      "cell_type": "code",
      "metadata": {
        "colab": {
          "base_uri": "https://localhost:8080/"
        },
        "id": "Y-5TS7LgpL8O",
        "outputId": "53b2da63-72ee-401b-ccd0-5b0bec66a3c5"
      },
      "source": [
        "[w, b] = model.parameters()\n",
        "print(w, b)\n",
        "#.item() converts tensor to python numbers \n",
        "w1 = w[0][0].item()\n",
        "b1 = b[0].item()\n",
        "print(w1, b1)"
      ],
      "execution_count": 16,
      "outputs": [
        {
          "output_type": "stream",
          "text": [
            "Parameter containing:\n",
            "tensor([[0.5153]], requires_grad=True) Parameter containing:\n",
            "tensor([-0.4414], requires_grad=True)\n",
            "0.5152631998062134 -0.44137823581695557\n"
          ],
          "name": "stdout"
        }
      ]
    },
    {
      "cell_type": "code",
      "metadata": {
        "id": "mvM4bQero6dH"
      },
      "source": [
        "# making a function for clean code\n",
        "def get_params():\n",
        "  return (w[0][0].item(), b[0].item())"
      ],
      "execution_count": 17,
      "outputs": []
    },
    {
      "cell_type": "code",
      "metadata": {
        "id": "5kBoQ8Bjoh15"
      },
      "source": [
        "import numpy as np\n",
        "\n",
        "def plot_fit(title):\n",
        "  plt.title = title\n",
        "  w1, b1 = get_params()\n",
        "  x1 = np.array([-30,30])\n",
        "  y1 = w1*x1 + b1\n",
        "  #plots a red line\n",
        "  plt.plot(x1, y1, 'r')\n",
        "  #plots our data points \n",
        "  plt.scatter(X, y)\n",
        "  plt.show()"
      ],
      "execution_count": 18,
      "outputs": []
    },
    {
      "cell_type": "code",
      "metadata": {
        "colab": {
          "base_uri": "https://localhost:8080/",
          "height": 265
        },
        "id": "NB7hWH5EoIKd",
        "outputId": "3de490ac-5da1-4542-de6a-1b39dc67119f"
      },
      "source": [
        "plot_fit('Initial Model')"
      ],
      "execution_count": 19,
      "outputs": [
        {
          "output_type": "display_data",
          "data": {
            "image/png": "[encoded data removed]",
            "text/plain": [
              "<Figure size 432x288 with 1 Axes>"
            ]
          },
          "metadata": {
            "tags": [],
            "needs_background": "light"
          }
        }
      ]
    },
    {
      "cell_type": "markdown",
      "metadata": {
        "id": "SxMFfuHpGt-n"
      },
      "source": [
        "# Loss Function \n",
        "## The complete PyToarh Course \n",
        "### Deep Learning & Computer Vision "
      ]
    },
    {
      "cell_type": "markdown",
      "metadata": {
        "id": "xd_3hWJvUPyR"
      },
      "source": [
        "# Gradient Descent \n",
        "## The complete PyToarh Course \n",
        "### Deep Learning & Computer Vision "
      ]
    },
    {
      "cell_type": "markdown",
      "metadata": {
        "id": "7r54So8jUiZG"
      },
      "source": [
        "# Mean Squared Error \n",
        "## The complete PyToarh Course \n",
        "### Deep Learning & Computer Vision "
      ]
    },
    {
      "cell_type": "markdown",
      "metadata": {
        "id": "GJRc_6uJVy7g"
      },
      "source": [
        "# Training - Code Implementation\n",
        "## The complete PyToarh Course \n",
        "### Deep Learning & Computer Vision "
      ]
    },
    {
      "cell_type": "code",
      "metadata": {
        "colab": {
          "base_uri": "https://localhost:8080/"
        },
        "id": "7AijxIlVNipG",
        "outputId": "179a9450-d3a7-4bc2-86db-5fe736af31ba"
      },
      "source": [
        "#specify the loss function\n",
        "criterion = nn.MSELoss()\n",
        "#SGD converges faster than batch GD - computationally faster\n",
        "optimizer = torch.optim.Adam(model.parameters(), lr=0.01)\n",
        "print(model.parameters())"
      ],
      "execution_count": 20,
      "outputs": [
        {
          "output_type": "stream",
          "text": [
            "<generator object Module.parameters at 0x7f6e672a8e50>\n"
          ],
          "name": "stdout"
        }
      ]
    },
    {
      "cell_type": "code",
      "metadata": {
        "colab": {
          "base_uri": "https://localhost:8080/"
        },
        "id": "Xa5ydTliV2Qv",
        "outputId": "e5de80a2-4af3-40ae-f7ae-9b2b9709eb89"
      },
      "source": [
        "epochs = 100\n",
        "losses = []\n",
        "for i in range(epochs):\n",
        "  y_pred = model.forward(X)\n",
        "  loss = criterion(y_pred, y)\n",
        "  print(\"epoch:\", i, \"loss:\", loss.item())\n",
        "\n",
        "  losses.append(loss)\n",
        "  loss.backward()\n",
        "  optimizer.step()\n",
        "  optimizer.zero_grad()\n"
      ],
      "execution_count": 21,
      "outputs": [
        {
          "output_type": "stream",
          "text": [
            "epoch: 0 loss: 36.448326110839844\n",
            "epoch: 1 loss: 35.36366271972656\n",
            "epoch: 2 loss: 34.301639556884766\n",
            "epoch: 3 loss: 33.262630462646484\n",
            "epoch: 4 loss: 32.246986389160156\n",
            "epoch: 5 loss: 31.255029678344727\n",
            "epoch: 6 loss: 30.28704833984375\n",
            "epoch: 7 loss: 29.343297958374023\n",
            "epoch: 8 loss: 28.423994064331055\n",
            "epoch: 9 loss: 27.529321670532227\n",
            "epoch: 10 loss: 26.659423828125\n",
            "epoch: 11 loss: 25.814403533935547\n",
            "epoch: 12 loss: 24.99431800842285\n",
            "epoch: 13 loss: 24.199180603027344\n",
            "epoch: 14 loss: 23.428956985473633\n",
            "epoch: 15 loss: 22.683578491210938\n",
            "epoch: 16 loss: 21.962919235229492\n",
            "epoch: 17 loss: 21.26681900024414\n",
            "epoch: 18 loss: 20.595069885253906\n",
            "epoch: 19 loss: 19.94744300842285\n",
            "epoch: 20 loss: 19.323659896850586\n",
            "epoch: 21 loss: 18.723411560058594\n",
            "epoch: 22 loss: 18.14636993408203\n",
            "epoch: 23 loss: 17.592182159423828\n",
            "epoch: 24 loss: 17.060474395751953\n",
            "epoch: 25 loss: 16.550857543945312\n",
            "epoch: 26 loss: 16.06291961669922\n",
            "epoch: 27 loss: 15.596238136291504\n",
            "epoch: 28 loss: 15.150369644165039\n",
            "epoch: 29 loss: 14.724867820739746\n",
            "epoch: 30 loss: 14.31926155090332\n",
            "epoch: 31 loss: 13.933072090148926\n",
            "epoch: 32 loss: 13.565803527832031\n",
            "epoch: 33 loss: 13.21695327758789\n",
            "epoch: 34 loss: 12.886003494262695\n",
            "epoch: 35 loss: 12.572431564331055\n",
            "epoch: 36 loss: 12.275703430175781\n",
            "epoch: 37 loss: 11.995274543762207\n",
            "epoch: 38 loss: 11.730603218078613\n",
            "epoch: 39 loss: 11.481131553649902\n",
            "epoch: 40 loss: 11.246313095092773\n",
            "epoch: 41 loss: 11.025585174560547\n",
            "epoch: 42 loss: 10.818397521972656\n",
            "epoch: 43 loss: 10.624194145202637\n",
            "epoch: 44 loss: 10.442424774169922\n",
            "epoch: 45 loss: 10.272541046142578\n",
            "epoch: 46 loss: 10.114006042480469\n",
            "epoch: 47 loss: 9.96628475189209\n",
            "epoch: 48 loss: 9.828848838806152\n",
            "epoch: 49 loss: 9.701186180114746\n",
            "epoch: 50 loss: 9.58279037475586\n",
            "epoch: 51 loss: 9.473166465759277\n",
            "epoch: 52 loss: 9.371833801269531\n",
            "epoch: 53 loss: 9.27832317352295\n",
            "epoch: 54 loss: 9.192178726196289\n",
            "epoch: 55 loss: 9.112957954406738\n",
            "epoch: 56 loss: 9.040238380432129\n",
            "epoch: 57 loss: 8.97360610961914\n",
            "epoch: 58 loss: 8.912668228149414\n",
            "epoch: 59 loss: 8.857044219970703\n",
            "epoch: 60 loss: 8.80636978149414\n",
            "epoch: 61 loss: 8.760298728942871\n",
            "epoch: 62 loss: 8.718500137329102\n",
            "epoch: 63 loss: 8.680657386779785\n",
            "epoch: 64 loss: 8.646471977233887\n",
            "epoch: 65 loss: 8.61566162109375\n",
            "epoch: 66 loss: 8.587956428527832\n",
            "epoch: 67 loss: 8.563104629516602\n",
            "epoch: 68 loss: 8.540868759155273\n",
            "epoch: 69 loss: 8.521025657653809\n",
            "epoch: 70 loss: 8.503365516662598\n",
            "epoch: 71 loss: 8.487692832946777\n",
            "epoch: 72 loss: 8.473825454711914\n",
            "epoch: 73 loss: 8.461594581604004\n",
            "epoch: 74 loss: 8.45083999633789\n",
            "epoch: 75 loss: 8.44141960144043\n",
            "epoch: 76 loss: 8.433196067810059\n",
            "epoch: 77 loss: 8.426047325134277\n",
            "epoch: 78 loss: 8.4198579788208\n",
            "epoch: 79 loss: 8.414523124694824\n",
            "epoch: 80 loss: 8.409947395324707\n",
            "epoch: 81 loss: 8.406042098999023\n",
            "epoch: 82 loss: 8.402730941772461\n",
            "epoch: 83 loss: 8.39993953704834\n",
            "epoch: 84 loss: 8.397603034973145\n",
            "epoch: 85 loss: 8.39566421508789\n",
            "epoch: 86 loss: 8.39406967163086\n",
            "epoch: 87 loss: 8.392768859863281\n",
            "epoch: 88 loss: 8.391722679138184\n",
            "epoch: 89 loss: 8.390892028808594\n",
            "epoch: 90 loss: 8.39024543762207\n",
            "epoch: 91 loss: 8.389753341674805\n",
            "epoch: 92 loss: 8.389389038085938\n",
            "epoch: 93 loss: 8.389128684997559\n",
            "epoch: 94 loss: 8.388954162597656\n",
            "epoch: 95 loss: 8.388850212097168\n",
            "epoch: 96 loss: 8.388798713684082\n",
            "epoch: 97 loss: 8.388789176940918\n",
            "epoch: 98 loss: 8.388810157775879\n",
            "epoch: 99 loss: 8.388854026794434\n"
          ],
          "name": "stdout"
        }
      ]
    },
    {
      "cell_type": "code",
      "metadata": {
        "colab": {
          "base_uri": "https://localhost:8080/",
          "height": 296
        },
        "id": "HiK4AICc9p6e",
        "outputId": "1a14d299-6fca-43d6-b8a6-436d0b38858d"
      },
      "source": [
        "plt.plot(range(epochs), losses)\n",
        "plt.ylabel(\"Loss\")\n",
        "plt.xlabel('epoch')"
      ],
      "execution_count": 22,
      "outputs": [
        {
          "output_type": "execute_result",
          "data": {
            "text/plain": [
              "Text(0.5, 0, 'epoch')"
            ]
          },
          "metadata": {
            "tags": []
          },
          "execution_count": 22
        },
        {
          "output_type": "display_data",
          "data": {
            "image/png": "[encoded data removed]",
            "text/plain": [
              "<Figure size 432x288 with 1 Axes>"
            ]
          },
          "metadata": {
            "tags": [],
            "needs_background": "light"
          }
        }
      ]
    },
    {
      "cell_type": "code",
      "metadata": {
        "colab": {
          "base_uri": "https://localhost:8080/",
          "height": 265
        },
        "id": "7zFRhz5fCUGL",
        "outputId": "cfeffa69-79d7-4777-c2e2-5fe6b4c7de6f"
      },
      "source": [
        "plot_fit(\"Trained Model\")"
      ],
      "execution_count": 23,
      "outputs": [
        {
          "output_type": "display_data",
          "data": {
            "image/png": "[encoded data removed]",
            "text/plain": [
              "<Figure size 432x288 with 1 Axes>"
            ]
          },
          "metadata": {
            "tags": [],
            "needs_background": "light"
          }
        }
      ]
    }
  ]
}