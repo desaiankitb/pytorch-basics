{
  "nbformat": 4,
  "nbformat_minor": 0,
  "metadata": {
    "colab": {
      "name": "00_Introduction.ipynb",
      "provenance": [],
      "authorship_tag": "ABX9TyM0D18ti6asPU2Xn3h6QQ65",
      "include_colab_link": true
    },
    "kernelspec": {
      "name": "python3",
      "display_name": "Python 3"
    },
    "language_info": {
      "name": "python"
    }
  },
  "cells": [
    {
      "cell_type": "markdown",
      "metadata": {
        "id": "view-in-github",
        "colab_type": "text"
      },
      "source": [
        "<a href=\"https://colab.research.google.com/github/desaiankitb/pytorch-basics/blob/main/tutorial-pytorch-org/00_Introduction.ipynb\" target=\"_parent\"><img src=\"https://colab.research.google.com/assets/colab-badge.svg\" alt=\"Open In Colab\"/></a>"
      ]
    },
    {
      "cell_type": "markdown",
      "metadata": {
        "id": "rj6eKeGioe0F"
      },
      "source": [
        "# Introduction\n",
        "\n",
        "- Most machine learning workflows involve working with data, optimizing model parameters, and saving the training models. This module introduces you to a complete machine learning (ML) workflow implemented in PyTorch, a popular ML framework for Python. \n",
        "\n",
        "- We will use the FashionMNIST dataset to train a neural network that predicts if an input image belongs to one of the following classes: T-shirt/top, Trouser, Pullover, Dress, Coat, Sandal, Shirt, Sneaker, Bag, or Ankle boot. \n",
        "\n",
        "- Before we jump into building the model, you will learn a set of core concepts required to understand the basics of building Machine Learning models. Then the last step will put it all together. "
      ]
    },
    {
      "cell_type": "markdown",
      "metadata": {
        "id": "Iw4S-Y9mrmwJ"
      },
      "source": [
        "# Learning objectives\n",
        "\n",
        "In this module you will: \n",
        "\n",
        "- Learn the key concepts used to build machine learning models \n",
        "- Learn how to build a Computer Vision model \n",
        "- Build models with the PyTorch API \n",
        "\n",
        "# Prerequisites\n",
        "- Basic Python knowledge\n",
        "- Basic knowledge about how to use Jupyter Notebooks \n",
        "\n",
        "<hr>\n",
        "\n",
        "## Next unit: What are Tensors?\n",
        "\n",
        "# What are Tensors?\n",
        "\n"
      ]
    },
    {
      "cell_type": "code",
      "metadata": {
        "id": "jwqUwAXroRq4"
      },
      "source": [
        "%matplotlib inline"
      ],
      "execution_count": null,
      "outputs": []
    },
    {
      "cell_type": "markdown",
      "metadata": {
        "id": "3_KtXyius_LM"
      },
      "source": [
        "## Tensors\n",
        "\n",
        "- Tensors are specialized data structure that are very similar to arrays and matrices. In PyTorch, we use tensors to encode the inputs and outputs of a model, as well as the model's parameters. \n",
        "\n",
        "- Tensors are similar to NumPy's ndarrays, except that tensors can run on GPUs or other hardware accelerators. In fact, tensors and NumPy arrays can often share the same underlying memory, eliminating the need to copy data (see `bridge-to-np-label`). Tensors are also optimized for automatic differentiation (we will see more about that later in the Autograd unit). If you are with `ndarrays`, you will be right at home with the Tensor API. If not, follow along!\n",
        "\n",
        "- Let's start by setting up our environment. "
      ]
    },
    {
      "cell_type": "code",
      "metadata": {
        "id": "jGKYGT7uusCG"
      },
      "source": [
        "import torch\n",
        "import numpy as np "
      ],
      "execution_count": 1,
      "outputs": []
    },
    {
      "cell_type": "markdown",
      "metadata": {
        "id": "lcui7vRBuxGo"
      },
      "source": [
        "# Initializing a Tensor\n",
        "\n",
        "- Tensors can be initialized in various ways. Take a look at the following examples:\n",
        "\n",
        "## Directly from data\n",
        "\n",
        "- Tensorts can be created directly from data. The data type is automatically inferred. "
      ]
    },
    {
      "cell_type": "code",
      "metadata": {
        "colab": {
          "base_uri": "https://localhost:8080/"
        },
        "id": "b0NZsk67uu1G",
        "outputId": "6773a90c-1805-49d1-f8db-0966d272182b"
      },
      "source": [
        "data = [[1,2], [3,4]]\n",
        "x_data = torch.tensor(data)\n",
        "x_data"
      ],
      "execution_count": 2,
      "outputs": [
        {
          "output_type": "execute_result",
          "data": {
            "text/plain": [
              "tensor([[1, 2],\n",
              "        [3, 4]])"
            ]
          },
          "metadata": {
            "tags": []
          },
          "execution_count": 2
        }
      ]
    },
    {
      "cell_type": "markdown",
      "metadata": {
        "id": "v0UKsArlv8OZ"
      },
      "source": [
        "## From a NumPy array\n",
        "\n",
        "- Tensors can be created from NumPy arrays (and vice versa - see `bridge-to-np-label`). "
      ]
    },
    {
      "cell_type": "code",
      "metadata": {
        "colab": {
          "base_uri": "https://localhost:8080/"
        },
        "id": "1WtyjFgwvZbH",
        "outputId": "a308916c-032c-433e-814d-32f848285c78"
      },
      "source": [
        "np_array = np.array(data)\n",
        "x_np = torch.from_numpy(np_array)\n",
        "x_np"
      ],
      "execution_count": 5,
      "outputs": [
        {
          "output_type": "execute_result",
          "data": {
            "text/plain": [
              "tensor([[1, 2],\n",
              "        [3, 4]])"
            ]
          },
          "metadata": {
            "tags": []
          },
          "execution_count": 5
        }
      ]
    },
    {
      "cell_type": "markdown",
      "metadata": {
        "id": "_74lqLvJw3A-"
      },
      "source": [
        "## From another tensor: \n",
        "\n",
        "- The new tensor retains the properties (shape, data type) of the argument tensor, unless explicitly overridden."
      ]
    },
    {
      "cell_type": "code",
      "metadata": {
        "colab": {
          "base_uri": "https://localhost:8080/"
        },
        "id": "d9oos1xOw1kz",
        "outputId": "cec0397d-44a6-47b5-ee7f-8e254a7d7af3"
      },
      "source": [
        "x_ones = torch.ones_like(x_data) # retains the properties of x_data\n",
        "print(f\"Ones Tensor: \\n {x_ones} \\n\")\n",
        "\n",
        "x_rand = torch.rand_like(x_data, dtype=torch.float) # overrides the datatypes of x_data\n",
        "print(f\"Random Tensor: \\n {x_rand} \\n\")\n"
      ],
      "execution_count": 4,
      "outputs": [
        {
          "output_type": "stream",
          "text": [
            "Ones Tensor: \n",
            " tensor([[1, 1],\n",
            "        [1, 1]]) \n",
            "\n",
            "Random Tensor: \n",
            " tensor([[0.7054, 0.8765],\n",
            "        [0.3637, 0.4355]]) \n",
            "\n"
          ],
          "name": "stdout"
        }
      ]
    },
    {
      "cell_type": "markdown",
      "metadata": {
        "id": "q588AGNhzrRP"
      },
      "source": [
        "##With random or constant values:\n",
        "\n",
        "- `shape` is a tuple of tensor dimensions. In the functions below, it determines the dimensionality of the output tensor. "
      ]
    },
    {
      "cell_type": "code",
      "metadata": {
        "colab": {
          "base_uri": "https://localhost:8080/"
        },
        "id": "AvxEByGZyqke",
        "outputId": "7f49eeca-d9b1-42b7-fea6-648ac586d683"
      },
      "source": [
        "shape = (2,3,)\n",
        "rand_tensor = torch.rand(shape)\n",
        "ones_tensor = torch.ones(shape)\n",
        "zeros_tensor = torch.zeros(shape)\n",
        "\n",
        "print(f\"Random Tensor: \\n {rand_tensor} \\n\")\n",
        "print(f\"Ones Tensor: \\n {ones_tensor} \\n\")\n",
        "print(f\"Zeros Tensor: \\n {zeros_tensor} \\n\")"
      ],
      "execution_count": 6,
      "outputs": [
        {
          "output_type": "stream",
          "text": [
            "Random Tensor: \n",
            " tensor([[0.7394, 0.9206, 0.8661],\n",
            "        [0.7006, 0.7874, 0.7081]]) \n",
            "\n",
            "Ones Tensor: \n",
            " tensor([[1., 1., 1.],\n",
            "        [1., 1., 1.]]) \n",
            "\n",
            "Zeros Tensor: \n",
            " tensor([[0., 0., 0.],\n",
            "        [0., 0., 0.]]) \n",
            "\n"
          ],
          "name": "stdout"
        }
      ]
    },
    {
      "cell_type": "markdown",
      "metadata": {
        "id": "AIOAGn0q1vIL"
      },
      "source": [
        "## Attributes of a Tensor\n",
        "- Tensor attributes describe their shape, data type, and the device on which they are stored. "
      ]
    },
    {
      "cell_type": "code",
      "metadata": {
        "colab": {
          "base_uri": "https://localhost:8080/"
        },
        "id": "8ozrf7L91FuT",
        "outputId": "ef3c3fb7-90b7-4372-a386-5f2c36a9b083"
      },
      "source": [
        "tensor = torch.rand(3,4)\n",
        "\n",
        "print(f\"Shape of tensor: {tensor.shape}\")\n",
        "print(f\"Datatype of tensor: {tensor.dtype}\")\n",
        "print(f\"Device tensor is stored on: {tensor.device}\")"
      ],
      "execution_count": 7,
      "outputs": [
        {
          "output_type": "stream",
          "text": [
            "Shape of tensor: torch.Size([3, 4])\n",
            "Datatype of tensor: torch.float32\n",
            "Device tensor is stored on: cpu\n"
          ],
          "name": "stdout"
        }
      ]
    },
    {
      "cell_type": "markdown",
      "metadata": {
        "id": "VYt_pEkr3Kce"
      },
      "source": [
        "## Operations on Tensors\n",
        "\n",
        "- Over 100 tensor operations, including arithmetic, linear algebra, matrix manipulation (transposing, indexing, slicing), sampling and more are comprehensively described [here](https://pytorch.org/docs/stable/torch.html). \n",
        "\n",
        "- Each of these operations can be run on the GPU (at typically higher speed than on a CPU). \n",
        "\n",
        "- By default, tensors are created on the CPU. We need to explicitly move tensors to the GPU using `.to` method (after checking for GPU availablity). Keep in mind that copying large tensors across devices can be expensive in terms of time and memory! "
      ]
    },
    {
      "cell_type": "code",
      "metadata": {
        "id": "wYmOQYg-2S0x"
      },
      "source": [
        "# We move our tensor to the GPU if available\n",
        "if torch.cuda.is_available():\n",
        "  tensor = tensor.to('cuda')"
      ],
      "execution_count": 8,
      "outputs": []
    },
    {
      "cell_type": "markdown",
      "metadata": {
        "id": "ZpGSsV0Y5hiH"
      },
      "source": [
        "- Try out some of the operations from the list. If you are familier with the NumPy API, you will find the Tensor API a breeze to use. \n",
        "\n",
        "## Standard numpy-like indexing and slicing:"
      ]
    },
    {
      "cell_type": "code",
      "metadata": {
        "colab": {
          "base_uri": "https://localhost:8080/"
        },
        "id": "KnyYAnUB5dFj",
        "outputId": "9ee86d94-fcdb-4aae-ab44-3918094fcd3d"
      },
      "source": [
        "tensor = torch.ones(4, 4)\n",
        "print(\"First row\", tensor[0])\n",
        "print(\"First column\", tensor[:, 0])\n",
        "print(\"Last column\", tensor[..., -1])\n",
        "tensor[:,1] = 0\n",
        "print(tensor)"
      ],
      "execution_count": 10,
      "outputs": [
        {
          "output_type": "stream",
          "text": [
            "First row tensor([1., 1., 1., 1.])\n",
            "First column tensor([1., 1., 1., 1.])\n",
            "Last column tensor([1., 1., 1., 1.])\n",
            "tensor([[1., 0., 1., 1.],\n",
            "        [1., 0., 1., 1.],\n",
            "        [1., 0., 1., 1.],\n",
            "        [1., 0., 1., 1.]])\n"
          ],
          "name": "stdout"
        }
      ]
    },
    {
      "cell_type": "markdown",
      "metadata": {
        "id": "92BOVH6W7xcV"
      },
      "source": [
        "# Joining tensors\n",
        "\n",
        "- You can use `torch.cat` to concatenate a sequence of tensors along a given dimension. See also [torch.stack](https://pytorch.org/docs/stable/generated/torch.stack.html), another tensor joining op that is subtly different from `torch.cat`. "
      ]
    },
    {
      "cell_type": "code",
      "metadata": {
        "colab": {
          "base_uri": "https://localhost:8080/"
        },
        "id": "KjtEbxJI7hKv",
        "outputId": "8b8556d5-7f14-4d54-c23e-464272066aa8"
      },
      "source": [
        "t1 = torch.cat([tensor, tensor, tensor], dim=1)\n",
        "print(t1.shape)\n",
        "print(tensor.shape)"
      ],
      "execution_count": 13,
      "outputs": [
        {
          "output_type": "stream",
          "text": [
            "torch.Size([4, 12])\n",
            "torch.Size([4, 4])\n"
          ],
          "name": "stdout"
        }
      ]
    },
    {
      "cell_type": "markdown",
      "metadata": {
        "id": "9ri77-N38f61"
      },
      "source": [
        "## Airthmetic operations "
      ]
    },
    {
      "cell_type": "code",
      "metadata": {
        "colab": {
          "base_uri": "https://localhost:8080/"
        },
        "id": "DdO2vCtP8VvF",
        "outputId": "b23fa74e-5770-4921-e199-b2eb7ededcd3"
      },
      "source": [
        "# This computes the matrix multiplication between two tensors. \n",
        "# y1, y2, y3 will have the same value\n",
        "y1 = tensor @ tensor.T\n",
        "y2 = tensor.matmul(tensor.T)\n",
        "\n",
        "y3 = torch.rand_like(tensor)\n",
        "torch.matmul(tensor, tensor.T, out=y3)\n",
        "\n",
        "# This computes the element-wise product. \n",
        "# z1, z2, z3 will have the same value \n",
        "z1 = tensor * tensor\n",
        "z2 = tensor.mul(tensor)\n",
        "\n",
        "z3 = torch.rand_like(tensor)\n",
        "torch.mul(tensor, tensor, out=z3)"
      ],
      "execution_count": 16,
      "outputs": [
        {
          "output_type": "execute_result",
          "data": {
            "text/plain": [
              "tensor([[1., 0., 1., 1.],\n",
              "        [1., 0., 1., 1.],\n",
              "        [1., 0., 1., 1.],\n",
              "        [1., 0., 1., 1.]])"
            ]
          },
          "metadata": {
            "tags": []
          },
          "execution_count": 16
        }
      ]
    },
    {
      "cell_type": "markdown",
      "metadata": {
        "id": "sDB9Zfjj-dNl"
      },
      "source": [
        "## Single-element tensors\n",
        "- If you have a one-element tensor, for example by aggregating all values of a tensor into one value, you can convert it to a Python numerical value using `item()`:"
      ]
    },
    {
      "cell_type": "code",
      "metadata": {
        "colab": {
          "base_uri": "https://localhost:8080/"
        },
        "id": "zcaNpso29rsQ",
        "outputId": "5483258f-3f0d-4fe8-b398-0c8544072450"
      },
      "source": [
        "agg = tensor.sum()\n",
        "agg_item = agg.item()\n",
        "print(agg_item, type(agg_item))"
      ],
      "execution_count": 17,
      "outputs": [
        {
          "output_type": "stream",
          "text": [
            "12.0 <class 'float'>\n"
          ],
          "name": "stdout"
        }
      ]
    },
    {
      "cell_type": "markdown",
      "metadata": {
        "id": "PbmTpl53_KQ7"
      },
      "source": [
        "## In-place operations \n",
        "- Operations that store the result into the operand are called in-place. They are denoted by a `_` suffix. For example, `x.copy_(y)`, `x.t_()`, will change `x`. \n",
        "\n",
        "> **Note:** In-place operations save some memory, but can be problematic when computing derivatives because of an immediate loss of history. Hence, their use is discouraged."
      ]
    },
    {
      "cell_type": "code",
      "metadata": {
        "colab": {
          "base_uri": "https://localhost:8080/"
        },
        "id": "OE_NSA2O_GQW",
        "outputId": "e7e880cd-da1d-4c3c-ac4b-606729c56158"
      },
      "source": [
        "print(tensor, \"\\n\")\n",
        "tensor.add_(5)\n",
        "print(tensor)"
      ],
      "execution_count": 18,
      "outputs": [
        {
          "output_type": "stream",
          "text": [
            "tensor([[1., 0., 1., 1.],\n",
            "        [1., 0., 1., 1.],\n",
            "        [1., 0., 1., 1.],\n",
            "        [1., 0., 1., 1.]]) \n",
            "\n",
            "tensor([[6., 5., 6., 6.],\n",
            "        [6., 5., 6., 6.],\n",
            "        [6., 5., 6., 6.],\n",
            "        [6., 5., 6., 6.]])\n"
          ],
          "name": "stdout"
        }
      ]
    },
    {
      "cell_type": "markdown",
      "metadata": {
        "id": "GHtx_f4FAWC8"
      },
      "source": [
        "## Bridge with NumPy\n",
        "- Tensors on the CPU and NumPy arrays can share their underlying memory locations, and changing one will change the other. \n",
        "\n",
        "### Tensor to NumPy array"
      ]
    },
    {
      "cell_type": "code",
      "metadata": {
        "colab": {
          "base_uri": "https://localhost:8080/"
        },
        "id": "WRiq_WlsAUKW",
        "outputId": "89e943e3-206d-43b7-9235-4b4c1de5ddff"
      },
      "source": [
        "t = torch.ones(5)\n",
        "print(f\"t: {t}\")\n",
        "n = t.numpy()\n",
        "print(f\"n: {n}\")"
      ],
      "execution_count": 20,
      "outputs": [
        {
          "output_type": "stream",
          "text": [
            "t: tensor([1., 1., 1., 1., 1.])\n",
            "n: [1. 1. 1. 1. 1.]\n"
          ],
          "name": "stdout"
        }
      ]
    },
    {
      "cell_type": "markdown",
      "metadata": {
        "id": "HD8htFTkA2-N"
      },
      "source": [
        "A change in the tensor reflects in the NumPy array. "
      ]
    },
    {
      "cell_type": "code",
      "metadata": {
        "colab": {
          "base_uri": "https://localhost:8080/"
        },
        "id": "WMzEtDp3Awpe",
        "outputId": "452b39fc-902b-43c2-9283-f78385e39b40"
      },
      "source": [
        "t.add_(1)\n",
        "print(f\"t: {t}\")\n",
        "print(f\"n: {n}\")"
      ],
      "execution_count": 21,
      "outputs": [
        {
          "output_type": "stream",
          "text": [
            "t: tensor([2., 2., 2., 2., 2.])\n",
            "n: [2. 2. 2. 2. 2.]\n"
          ],
          "name": "stdout"
        }
      ]
    },
    {
      "cell_type": "markdown",
      "metadata": {
        "id": "hLGbd9DsBXIy"
      },
      "source": [
        "### NumPy array to Tensor"
      ]
    },
    {
      "cell_type": "code",
      "metadata": {
        "id": "dsIQBpfLBUNr"
      },
      "source": [
        "n = np.ones(5)\n",
        "t = torch.from_numpy(n)"
      ],
      "execution_count": 22,
      "outputs": []
    },
    {
      "cell_type": "markdown",
      "metadata": {
        "id": "L4oc4xmZBiRL"
      },
      "source": [
        "Changes in the NumPy array reflects in the tensor. "
      ]
    },
    {
      "cell_type": "code",
      "metadata": {
        "colab": {
          "base_uri": "https://localhost:8080/"
        },
        "id": "ZjceibfOBhB6",
        "outputId": "7002308b-ee15-4d59-f1e0-dde1e1cb090f"
      },
      "source": [
        "np.add(n, 1, out=n)\n",
        "print(f\"t: {t}\")\n",
        "print(f\"n: {n}\")"
      ],
      "execution_count": 23,
      "outputs": [
        {
          "output_type": "stream",
          "text": [
            "t: tensor([2., 2., 2., 2., 2.], dtype=torch.float64)\n",
            "n: [2. 2. 2. 2. 2.]\n"
          ],
          "name": "stdout"
        }
      ]
    },
    {
      "cell_type": "code",
      "metadata": {
        "id": "xnI70D8vB33g"
      },
      "source": [
        ""
      ],
      "execution_count": null,
      "outputs": []
    }
  ]
}