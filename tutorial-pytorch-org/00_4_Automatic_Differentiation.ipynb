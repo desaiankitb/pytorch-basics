{
  "nbformat": 4,
  "nbformat_minor": 0,
  "metadata": {
    "colab": {
      "name": "00_4_Automatic_Differentiation.ipynb",
      "provenance": [],
      "authorship_tag": "ABX9TyOkivZY5SpZMQdVxXr9+TCD",
      "include_colab_link": true
    },
    "kernelspec": {
      "name": "python3",
      "display_name": "Python 3"
    },
    "language_info": {
      "name": "python"
    }
  },
  "cells": [
    {
      "cell_type": "markdown",
      "metadata": {
        "id": "view-in-github",
        "colab_type": "text"
      },
      "source": [
        "<a href=\"https://colab.research.google.com/github/desaiankitb/pytorch-basics/blob/main/tutorial-pytorch-org/00_4_Automatic_Differentiation.ipynb\" target=\"_parent\"><img src=\"https://colab.research.google.com/assets/colab-badge.svg\" alt=\"Open In Colab\"/></a>"
      ]
    },
    {
      "cell_type": "markdown",
      "metadata": {
        "id": "NAuo8ueg1Z4N"
      },
      "source": [
        "# Automatic Differentiation\n",
        "\n",
        "## Automatic Differentiation with `torch.autograd`\n",
        "\n",
        "- When training neural networks, the most frequently used algorithm is **back prapagation**. In this algorithm, parameters (model weights) are adjusted according to the **gradient** of the loss function with respect to the given parameter. \n",
        "\n",
        "- To compute those gradients, PyTorch has a built-in diffrentiation engine called `torch.autograd`. It supports automatic computation of gradient for any computational graph. \n",
        "\n",
        "- Consider the simplest one-layer neural network, which input `x`, parameters `w` and `b`, and some loss function. It can be defined in PyTorch in the following manner: "
      ]
    },
    {
      "cell_type": "code",
      "metadata": {
        "id": "Q7Fh40101TI3"
      },
      "source": [
        "import torch\n",
        "\n",
        "x = torch.ones(5) # input tensor\n",
        "y = torch.zeros(3) # expected output \n",
        "w = torch.randn(5, 3, requires_grad=True) \n",
        "b = torch.randn(3, requires_grad=True)\n",
        "z = torch.matmul(x, w)+b\n",
        "loss = torch.nn.functional.binary_cross_entropy_with_logits(z, y)"
      ],
      "execution_count": 1,
      "outputs": []
    },
    {
      "cell_type": "markdown",
      "metadata": {
        "id": "mmRQc_tSDgxw"
      },
      "source": [
        "## Tensors, Functions and Computational graph\n",
        "\n",
        "This code defines the following **computational graph**:\n",
        "\n",
        "![Diagram showing a computational graph with two parameters 'w' and 'b' to compute the gradients of loss.](https://drive.google.com/uc?export=view&id=1_hwyhjaJhQah0YS44R7jfrkHSYEyk_Mu)\n",
        "\n",
        "- Note: [reference to use image in colab from drive](https://stackoverflow.com/questions/50670920/how-to-insert-an-inline-image-in-google-colaboratory-from-google-drive)\n",
        "\n",
        "- In this network, `w` and `b` are **parameters**, which we need to optimize. Thus, we need to be able to compute the gradients of loss function with respect to those variables. In order to do that, we set the `required_grad` property of those tensors. \n",
        "\n",
        "> **Note:** You can set the value of `requires_grad` when creating a tensor, or later by using `x.requires_grad_(True)` method.\n",
        "\n",
        "- A function that we apply to tensors to construct computational graph is in fact an object of class `Function`. This object knows how to compute the function in the *forward direction*, and also how to compute its derivative during the *backward prapagation* step. A reference to the backward prapogation function is stored in `grad_fn` property of a tensor. You can find more information of `Function` [in the documentation](https://pytorch.org/docs/stable/autograd.html#function)."
      ]
    },
    {
      "cell_type": "code",
      "metadata": {
        "colab": {
          "base_uri": "https://localhost:8080/"
        },
        "id": "1Zmr6ap6BiB9",
        "outputId": "364fcfb6-10d2-49ad-b1bf-2edcd8e3e8b9"
      },
      "source": [
        "print(\"Gradient function for z =\", z.grad_fn)\n",
        "print(\"Gradient function for loss = \", loss.grad_fn)"
      ],
      "execution_count": 2,
      "outputs": [
        {
          "output_type": "stream",
          "text": [
            "Gradient function for z = <AddBackward0 object at 0x7f344d42d850>\n",
            "Gradient function for loss =  <BinaryCrossEntropyWithLogitsBackward object at 0x7f344d42d890>\n"
          ],
          "name": "stdout"
        }
      ]
    },
    {
      "cell_type": "code",
      "metadata": {
        "id": "nIpVFkKwKCmM"
      },
      "source": [
        ""
      ],
      "execution_count": null,
      "outputs": []
    }
  ]
}