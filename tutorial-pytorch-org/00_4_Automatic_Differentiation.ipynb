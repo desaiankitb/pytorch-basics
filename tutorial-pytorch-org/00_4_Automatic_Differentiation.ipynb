{
  "nbformat": 4,
  "nbformat_minor": 0,
  "metadata": {
    "colab": {
      "name": "00_4_Automatic_Differentiation.ipynb",
      "provenance": [],
      "authorship_tag": "ABX9TyNpQUJV5jw75eaf5iV90yrG",
      "include_colab_link": true
    },
    "kernelspec": {
      "name": "python3",
      "display_name": "Python 3"
    },
    "language_info": {
      "name": "python"
    }
  },
  "cells": [
    {
      "cell_type": "markdown",
      "metadata": {
        "id": "view-in-github",
        "colab_type": "text"
      },
      "source": [
        "<a href=\"https://colab.research.google.com/github/desaiankitb/pytorch-basics/blob/main/tutorial-pytorch-org/00_4_Automatic_Differentiation.ipynb\" target=\"_parent\"><img src=\"https://colab.research.google.com/assets/colab-badge.svg\" alt=\"Open In Colab\"/></a>"
      ]
    },
    {
      "cell_type": "markdown",
      "metadata": {
        "id": "NAuo8ueg1Z4N"
      },
      "source": [
        "# Automatic Differentiation\n",
        "\n",
        "## Automatic Differentiation with `torch.autograd`\n",
        "\n",
        "- When training neural networks, the most frequently used algorithm is **back prapagation**. In this algorithm, parameters (model weights) are adjusted according to the **gradient** of the loss function with respect to the given parameter. \n",
        "\n",
        "- To compute those gradients, PyTorch has a built-in diffrentiation engine called `torch.autograd`. It supports automatic computation of gradient for any computational graph. \n",
        "\n",
        "- Consider the simplest one-layer neural network, which input `x`, parameters `w` and `b`, and some loss function. It can be defined in PyTorch in the following manner: "
      ]
    },
    {
      "cell_type": "code",
      "metadata": {
        "id": "Q7Fh40101TI3"
      },
      "source": [
        "import torch\n",
        "\n",
        "x = torch.ones(5) # input tensor\n",
        "y = torch.zeros(3) # expected output \n",
        "w = torch.randn(5, 3, requires_grad=True) \n",
        "b = torch.randn(3, requires_grad=True)\n",
        "z = torch.matmul(x, w)+b\n",
        "loss = torch.nn.functional.binary_cross_entropy_with_logits(z, y)"
      ],
      "execution_count": 5,
      "outputs": []
    },
    {
      "cell_type": "markdown",
      "metadata": {
        "id": "mmRQc_tSDgxw"
      },
      "source": [
        "## Tensors, Functions and Computational graph\n",
        "\n",
        "This code defines the following **computational graph**:\n",
        "\n",
        "![Diagram showing a computational graph with two parameters 'w' and 'b' to compute the gradients of loss.](https://drive.google.com/uc?export=view&id=1_hwyhjaJhQah0YS44R7jfrkHSYEyk_Mu)\n",
        "\n",
        "- Note: [reference to use image in colab from drive](https://stackoverflow.com/questions/50670920/how-to-insert-an-inline-image-in-google-colaboratory-from-google-drive)\n",
        "\n",
        "- In this network, `w` and `b` are **parameters**, which we need to optimize. Thus, we need to be able to compute the gradients of loss function with respect to those variables. In order to do that, we set the `required_grad` property of those tensors. \n",
        "\n",
        "> **Note:** You can set the value of `requires_grad` when creating a tensor, or later by using `x.requires_grad_(True)` method.\n",
        "\n",
        "- A function that we apply to tensors to construct computational graph is in fact an object of class `Function`. This object knows how to compute the function in the *forward direction*, and also how to compute its derivative during the *backward prapagation* step. A reference to the backward prapogation function is stored in `grad_fn` property of a tensor. You can find more information of `Function` [in the documentation](https://pytorch.org/docs/stable/autograd.html#function)."
      ]
    },
    {
      "cell_type": "code",
      "metadata": {
        "colab": {
          "base_uri": "https://localhost:8080/"
        },
        "id": "1Zmr6ap6BiB9",
        "outputId": "4dd890b3-d937-4b85-9374-68b0b0972d57"
      },
      "source": [
        "print(\"Gradient function for z =\", z.grad_fn)\n",
        "print(\"Gradient function for loss = \", loss.grad_fn)"
      ],
      "execution_count": 6,
      "outputs": [
        {
          "output_type": "stream",
          "text": [
            "Gradient function for z = <AddBackward0 object at 0x7f34494b93d0>\n",
            "Gradient function for loss =  <BinaryCrossEntropyWithLogitsBackward object at 0x7f34494b94d0>\n"
          ],
          "name": "stdout"
        }
      ]
    },
    {
      "cell_type": "markdown",
      "metadata": {
        "id": "lHXKG8cvKxJC"
      },
      "source": [
        "## Computing gradients\n",
        "- To optimize weights of parameters in the neural network, we need to compute the derivatives of our loss function with respect to parameters, namely, we need $\\frac{\\partial loss}{\\partial w}$ and\n",
        "$\\frac{\\partial loss}{\\partial b}$ under some fixed values of `x` and `y`. To compute those derivatives, we call `loss.backward()`, and then retrive the values from `w.grad` and `b.grad`:"
      ]
    },
    {
      "cell_type": "code",
      "metadata": {
        "colab": {
          "base_uri": "https://localhost:8080/"
        },
        "id": "nIpVFkKwKCmM",
        "outputId": "6d55a248-775b-43d0-f6f4-da8f51df0767"
      },
      "source": [
        "loss.backward()\n",
        "print(w.grad)\n",
        "print(b.grad)"
      ],
      "execution_count": 7,
      "outputs": [
        {
          "output_type": "stream",
          "text": [
            "tensor([[0.1361, 0.0341, 0.2563],\n",
            "        [0.1361, 0.0341, 0.2563],\n",
            "        [0.1361, 0.0341, 0.2563],\n",
            "        [0.1361, 0.0341, 0.2563],\n",
            "        [0.1361, 0.0341, 0.2563]])\n",
            "tensor([0.1361, 0.0341, 0.2563])\n"
          ],
          "name": "stdout"
        }
      ]
    },
    {
      "cell_type": "markdown",
      "metadata": {
        "id": "tKAXXnUoMMGi"
      },
      "source": [
        "> **Note**: We can only obtain the `grad` properties for the leaf node of the computational graph, which have `required_grad` property set to `True`. For all other nodes in our graph, gradients will not be available. In addition, we can only perform gradient calculations using `backward`  once on a given graph, for performance reasons. If we need to do serveral `backward` calls on the same graph, we need to pass, `retain_graph=True` to the backward call. \n",
        "\n",
        "## Disaling gradient tracking\n",
        "\n",
        "- By default, all tensors with `requires_grad=True` are tracking their computational history and support gradient computation. However, there are some cases when we do not need to do that, for example, when we have trained the model and just want to apply it to some input data, i.e. we only want to do *forward* computations through the network. We can stop tracking computations by surrounding our computation code with `torch.no_grad()` block: "
      ]
    },
    {
      "cell_type": "code",
      "metadata": {
        "colab": {
          "base_uri": "https://localhost:8080/"
        },
        "id": "XsYoYNYgLQbF",
        "outputId": "b6f1a82a-5c62-4e2f-a34c-66f051a79cd5"
      },
      "source": [
        "z = torch.matmul(x, w)+b\n",
        "print(z.requires_grad)\n",
        "\n",
        "with torch.no_grad():\n",
        "  z = torch.matmul(x, w)+b\n",
        "print(z.requires_grad)"
      ],
      "execution_count": 8,
      "outputs": [
        {
          "output_type": "stream",
          "text": [
            "True\n",
            "False\n"
          ],
          "name": "stdout"
        }
      ]
    },
    {
      "cell_type": "markdown",
      "metadata": {
        "id": "X9ukLu_FOrXZ"
      },
      "source": [
        "- Another way to achieve the same result is to use `detach()` method on tensor: "
      ]
    },
    {
      "cell_type": "code",
      "metadata": {
        "colab": {
          "base_uri": "https://localhost:8080/"
        },
        "id": "5x-pM4J4OoDB",
        "outputId": "76e1df14-db7c-4918-f274-de9b240621e4"
      },
      "source": [
        "z = torch.matmul(x, w)+b\n",
        "z_det = z.detach()\n",
        "print(z_det.requires_grad)"
      ],
      "execution_count": 9,
      "outputs": [
        {
          "output_type": "stream",
          "text": [
            "False\n"
          ],
          "name": "stdout"
        }
      ]
    },
    {
      "cell_type": "markdown",
      "metadata": {
        "id": "bTsG-A-DPCS2"
      },
      "source": [
        "- There are reasons you might want to disable gradient tracking: \n",
        "\n",
        "  - To mark some parameters in your neural network at **frozen parameters**. This is very common scenario for [fine tuning a pre-trained network](https://pytorch.org/tutorials/beginner/finetuning_torchvision_models_tutorial.html).\n",
        "  - To **speed up computations** when you are only doing forward pass, because computations on tensors that do not track gradients would be more efficient. "
      ]
    },
    {
      "cell_type": "code",
      "metadata": {
        "id": "TbaShUMzO6EO"
      },
      "source": [
        ""
      ],
      "execution_count": null,
      "outputs": []
    }
  ]
}