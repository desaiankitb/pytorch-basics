{
  "nbformat": 4,
  "nbformat_minor": 0,
  "metadata": {
    "colab": {
      "name": "00_4_Automatic_Differentiation.ipynb",
      "provenance": [],
      "authorship_tag": "ABX9TyOuhIu2TX8p4Sw4IOZ8Tufo",
      "include_colab_link": true
    },
    "kernelspec": {
      "name": "python3",
      "display_name": "Python 3"
    },
    "language_info": {
      "name": "python"
    }
  },
  "cells": [
    {
      "cell_type": "markdown",
      "metadata": {
        "id": "view-in-github",
        "colab_type": "text"
      },
      "source": [
        "<a href=\"https://colab.research.google.com/github/desaiankitb/pytorch-basics/blob/main/tutorial-pytorch-org/00_4_Automatic_Differentiation.ipynb\" target=\"_parent\"><img src=\"https://colab.research.google.com/assets/colab-badge.svg\" alt=\"Open In Colab\"/></a>"
      ]
    },
    {
      "cell_type": "markdown",
      "metadata": {
        "id": "NAuo8ueg1Z4N"
      },
      "source": [
        "# Automatic Differentiation\n",
        "\n",
        "## Automatic Differentiation with `torch.autograd`\n",
        "\n",
        "- When training neural networks, the most frequently used algorithm is **back prapagation**. In this algorithm, parameters (model weights) are adjusted according to the **gradient** of the loss function with respect to the given parameter. \n",
        "\n",
        "- To compute those gradients, PyTorch has a built-in diffrentiation engine called `torch.autograd`. It supports automatic computation of gradient for any computational graph. \n",
        "\n",
        "- Consider the simplest one-layer neural network, which input `x`, parameters `w` and `b`, and some loss function. It can be defined in PyTorch in the following manner: "
      ]
    },
    {
      "cell_type": "code",
      "metadata": {
        "id": "Q7Fh40101TI3"
      },
      "source": [
        "import torch\n",
        "\n",
        "x = torch.ones(5) # input tensor\n",
        "y = torch.zeros(3) # expected output \n",
        "w = torch.randn(5, 3, requires_grad=True) \n",
        "b = torch.randn(3, requires_grad=True)\n",
        "z = torch.matmul(x, w)+b\n",
        "loss = torch.nn.functional.binary_cross_entropy_with_logits(z, y)"
      ],
      "execution_count": 5,
      "outputs": []
    },
    {
      "cell_type": "markdown",
      "metadata": {
        "id": "mmRQc_tSDgxw"
      },
      "source": [
        "## Tensors, Functions and Computational graph\n",
        "\n",
        "This code defines the following **computational graph**:\n",
        "\n",
        "![Diagram showing a computational graph with two parameters 'w' and 'b' to compute the gradients of loss.](https://drive.google.com/uc?export=view&id=1_hwyhjaJhQah0YS44R7jfrkHSYEyk_Mu)\n",
        "\n",
        "- Note: [reference to use image in colab from drive](https://stackoverflow.com/questions/50670920/how-to-insert-an-inline-image-in-google-colaboratory-from-google-drive)\n",
        "\n",
        "- In this network, `w` and `b` are **parameters**, which we need to optimize. Thus, we need to be able to compute the gradients of loss function with respect to those variables. In order to do that, we set the `required_grad` property of those tensors. \n",
        "\n",
        "> **Note:** You can set the value of `requires_grad` when creating a tensor, or later by using `x.requires_grad_(True)` method.\n",
        "\n",
        "- A function that we apply to tensors to construct computational graph is in fact an object of class `Function`. This object knows how to compute the function in the *forward direction*, and also how to compute its derivative during the *backward prapagation* step. A reference to the backward prapogation function is stored in `grad_fn` property of a tensor. You can find more information of `Function` [in the documentation](https://pytorch.org/docs/stable/autograd.html#function)."
      ]
    },
    {
      "cell_type": "code",
      "metadata": {
        "colab": {
          "base_uri": "https://localhost:8080/"
        },
        "id": "1Zmr6ap6BiB9",
        "outputId": "4dd890b3-d937-4b85-9374-68b0b0972d57"
      },
      "source": [
        "print(\"Gradient function for z =\", z.grad_fn)\n",
        "print(\"Gradient function for loss = \", loss.grad_fn)"
      ],
      "execution_count": 6,
      "outputs": [
        {
          "output_type": "stream",
          "text": [
            "Gradient function for z = <AddBackward0 object at 0x7f34494b93d0>\n",
            "Gradient function for loss =  <BinaryCrossEntropyWithLogitsBackward object at 0x7f34494b94d0>\n"
          ],
          "name": "stdout"
        }
      ]
    },
    {
      "cell_type": "markdown",
      "metadata": {
        "id": "lHXKG8cvKxJC"
      },
      "source": [
        "## Computing gradients\n",
        "- To optimize weights of parameters in the neural network, we need to compute the derivatives of our loss function with respect to parameters, namely, we need $\\frac{\\partial loss}{\\partial w}$ and\n",
        "$\\frac{\\partial loss}{\\partial b}$ under some fixed values of `x` and `y`. To compute those derivatives, we call `loss.backward()`, and then retrive the values from `w.grad` and `b.grad`:"
      ]
    },
    {
      "cell_type": "code",
      "metadata": {
        "colab": {
          "base_uri": "https://localhost:8080/"
        },
        "id": "nIpVFkKwKCmM",
        "outputId": "6d55a248-775b-43d0-f6f4-da8f51df0767"
      },
      "source": [
        "loss.backward()\n",
        "print(w.grad)\n",
        "print(b.grad)"
      ],
      "execution_count": 7,
      "outputs": [
        {
          "output_type": "stream",
          "text": [
            "tensor([[0.1361, 0.0341, 0.2563],\n",
            "        [0.1361, 0.0341, 0.2563],\n",
            "        [0.1361, 0.0341, 0.2563],\n",
            "        [0.1361, 0.0341, 0.2563],\n",
            "        [0.1361, 0.0341, 0.2563]])\n",
            "tensor([0.1361, 0.0341, 0.2563])\n"
          ],
          "name": "stdout"
        }
      ]
    },
    {
      "cell_type": "markdown",
      "metadata": {
        "id": "tKAXXnUoMMGi"
      },
      "source": [
        "> **Note**: We can only obtain the `grad` properties for the leaf node of the computational graph, which have `required_grad` property set to `True`. For all other nodes in our graph, gradients will not be available. In addition, we can only perform gradient calculations using `backward`  once on a given graph, for performance reasons. If we need to do serveral `backward` calls on the same graph, we need to pass, `retain_graph=True` to the backward call. \n",
        "\n",
        "## Disaling gradient tracking\n",
        "\n",
        "- By default, all tensors with `requires_grad=True` are tracking their computational history and support gradient computation. However, there are some cases when we do not need to do that, for example, when we have trained the model and just want to apply it to some input data, i.e. we only want to do *forward* computations through the network. We can stop tracking computations by surrounding our computation code with `torch.no_grad()` block: "
      ]
    },
    {
      "cell_type": "code",
      "metadata": {
        "colab": {
          "base_uri": "https://localhost:8080/"
        },
        "id": "XsYoYNYgLQbF",
        "outputId": "b6f1a82a-5c62-4e2f-a34c-66f051a79cd5"
      },
      "source": [
        "z = torch.matmul(x, w)+b\n",
        "print(z.requires_grad)\n",
        "\n",
        "with torch.no_grad():\n",
        "  z = torch.matmul(x, w)+b\n",
        "print(z.requires_grad)"
      ],
      "execution_count": 8,
      "outputs": [
        {
          "output_type": "stream",
          "text": [
            "True\n",
            "False\n"
          ],
          "name": "stdout"
        }
      ]
    },
    {
      "cell_type": "markdown",
      "metadata": {
        "id": "X9ukLu_FOrXZ"
      },
      "source": [
        "- Another way to achieve the same result is to use `detach()` method on tensor: "
      ]
    },
    {
      "cell_type": "code",
      "metadata": {
        "colab": {
          "base_uri": "https://localhost:8080/"
        },
        "id": "5x-pM4J4OoDB",
        "outputId": "76e1df14-db7c-4918-f274-de9b240621e4"
      },
      "source": [
        "z = torch.matmul(x, w)+b\n",
        "z_det = z.detach()\n",
        "print(z_det.requires_grad)"
      ],
      "execution_count": 9,
      "outputs": [
        {
          "output_type": "stream",
          "text": [
            "False\n"
          ],
          "name": "stdout"
        }
      ]
    },
    {
      "cell_type": "markdown",
      "metadata": {
        "id": "bTsG-A-DPCS2"
      },
      "source": [
        "- There are reasons you might want to disable gradient tracking: \n",
        "\n",
        "  - To mark some parameters in your neural network at **frozen parameters**. This is very common scenario for [fine tuning a pre-trained network](https://pytorch.org/tutorials/beginner/finetuning_torchvision_models_tutorial.html).\n",
        "  - To **speed up computations** when you are only doing forward pass, because computations on tensors that do not track gradients would be more efficient. \n",
        "\n",
        "## More on Computational Graphs\n",
        "\n",
        "Conceptually, autograd keeps a record of data (tensors) and all executed operations (along with the resulting new tensors) in directed acyclic graph (DAG) consisting of [Function](https://pytorch.org/docs/stable/autograd.html#torch.autograd.Function) objects. In this DAG, leaves are the input tensors, roots are the output tensors. By tracing this graph from roots to leaves, you can automatically compute the gradients using the chain rule. \n",
        "\n",
        "- In a forward pass, autograd does two things simultaneously: \n",
        "\n",
        "  - run the requested operation to compute a resulting tensor \n",
        "  - maintain the operation's *gradient function* in the DAG\n",
        "\n",
        "- The backward pass kicks off when `.backward()` is called on the DAG root. `autograd` then: \n",
        "  - computes the gradients from each `.grad_fn`, \n",
        "  - accumulates them in the respective tensor's `.grad` attribute \n",
        "  - using the chain rule, prapagates all the way to the leaf tensors. \n",
        "\n",
        "### DAGs are dynamic in PyTorch \n",
        "\n",
        "- An important thing to note is that the graph is recreated from scratch; after each `.backward()` call, autograd starts populating a new graph. This is exactly what allows you to use control flow statements in your model; you can change the shape, size and operations at every iteration if needed. \n",
        "\n",
        "\n",
        "## Optional reading: Tensor gradients and Jacobian products\n",
        "\n",
        "- In many cases, we have a scalar loss function, and we need to compute the gradient with respect to some parameters. However, there are cases when the output function is an arbitary tensor. In this case, PyTorch allows you to compute so-called **Jacabian product**, and not the actual gradient. \n",
        "\n",
        "- For a vector function $\\vec{y}=f(\\vec{x})$, where\n",
        "$\\vec{x}=\\langle x_1,\\dots,x_n\\rangle$ and\n",
        "$\\vec{y}=\\langle y_1,\\dots,y_m\\rangle$, a gradient of\n",
        "$\\vec{y}$ with respect to $\\vec{x}$ is given by **Jacobian\n",
        "matrix**:\n",
        "\n",
        "$$\n",
        "J=\\left(\\begin{array}{ccc}\n",
        "      \\frac{\\partial y_{1}}{\\partial x_{1}} & \\cdots & \\frac{\\partial y_{1}}{\\partial x_{n}}\\\\\n",
        "      \\vdots & \\ddots & \\vdots\\\\\n",
        "      \\frac{\\partial y_{m}}{\\partial x_{1}} & \\cdots & \\frac{\\partial y_{m}}{\\partial x_{n}}\n",
        "      \\end{array}\\right)\n",
        "$$\n",
        "\n",
        "\n",
        "- Instead of computing the Jacobian matrix itself, PyTorch allows you to compute **Jacobian Product** $v^T\\cdot J$ for a given input vector\n",
        "$v=(v_1 \\dots v_m)$. This is achieved by calling `backward` with $v$ as an argument. The size of $v$ should be the same as the size of the original tensor, with respect to which we want to compute the product: "
      ]
    },
    {
      "cell_type": "code",
      "metadata": {
        "colab": {
          "base_uri": "https://localhost:8080/"
        },
        "id": "TbaShUMzO6EO",
        "outputId": "33e2ff45-897a-4e6b-a673-a4ad35f9263e"
      },
      "source": [
        "inp = torch.eye(5, requires_grad=True)\n",
        "out = (inp+1).pow(2)\n",
        "out.backward(torch.ones_like(inp), retain_graph=True)\n",
        "print(\"First call\\n\", inp.grad)\n",
        "out.backward(torch.ones_like(inp), retain_graph=True)\n",
        "print(\"Second call\\n\", inp.grad)\n",
        "inp.grad.zero_()\n",
        "out.backward(torch.ones_like(inp), retain_graph=True)\n",
        "print(\"\\nCall after zeroing gradients\\n\", inp.grad)"
      ],
      "execution_count": 12,
      "outputs": [
        {
          "output_type": "stream",
          "text": [
            "First call\n",
            " tensor([[4., 2., 2., 2., 2.],\n",
            "        [2., 4., 2., 2., 2.],\n",
            "        [2., 2., 4., 2., 2.],\n",
            "        [2., 2., 2., 4., 2.],\n",
            "        [2., 2., 2., 2., 4.]])\n",
            "Second call\n",
            " tensor([[8., 4., 4., 4., 4.],\n",
            "        [4., 8., 4., 4., 4.],\n",
            "        [4., 4., 8., 4., 4.],\n",
            "        [4., 4., 4., 8., 4.],\n",
            "        [4., 4., 4., 4., 8.]])\n",
            "\n",
            "Call after zeroing gradients\n",
            " tensor([[4., 2., 2., 2., 2.],\n",
            "        [2., 4., 2., 2., 2.],\n",
            "        [2., 2., 4., 2., 2.],\n",
            "        [2., 2., 2., 4., 2.],\n",
            "        [2., 2., 2., 2., 4.]])\n"
          ],
          "name": "stdout"
        }
      ]
    },
    {
      "cell_type": "markdown",
      "metadata": {
        "id": "Pr0j4YEieTaq"
      },
      "source": [
        "- Notice that when we call `backward` for the second time with the same argument, the value of the gradient is different. This happens because when doing `backward` propagation, PyTorch **accumulates the gradients**, i.e. value of computed gradients is added to the `grad` property of all leaf nodes of computational graph. If you want to compute the proper gradients, you need to zero out the `grad` property before. In real-life training **optimizer** helps to do this. \n",
        "\n",
        "> **Note:** previously we were calling `backward()` function without parameters. This is equivalent to calling `backward(torch.tensor(1.0)), which is a useful way to compute the gradients in case of a scalar-valued function, such as loss during neural network training. "
      ]
    },
    {
      "cell_type": "code",
      "metadata": {
        "id": "4GSeDN1Od7s9"
      },
      "source": [
        ""
      ],
      "execution_count": null,
      "outputs": []
    }
  ]
}