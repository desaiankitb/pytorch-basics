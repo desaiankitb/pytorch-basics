{
  "nbformat": 4,
  "nbformat_minor": 0,
  "metadata": {
    "colab": {
      "name": "00_Introduction.ipynb",
      "provenance": [],
      "authorship_tag": "ABX9TyOPq0KoPlxydyF79aezVBVf",
      "include_colab_link": true
    },
    "kernelspec": {
      "name": "python3",
      "display_name": "Python 3"
    },
    "language_info": {
      "name": "python"
    }
  },
  "cells": [
    {
      "cell_type": "markdown",
      "metadata": {
        "id": "view-in-github",
        "colab_type": "text"
      },
      "source": [
        "<a href=\"https://colab.research.google.com/github/desaiankitb/pytorch-basics/blob/main/tutorial-pytorch-org/00_Introduction.ipynb\" target=\"_parent\"><img src=\"https://colab.research.google.com/assets/colab-badge.svg\" alt=\"Open In Colab\"/></a>"
      ]
    },
    {
      "cell_type": "markdown",
      "metadata": {
        "id": "rj6eKeGioe0F"
      },
      "source": [
        "# Introduction\n",
        "\n",
        "- Most machine learning workflows involve working with data, optimizing model parameters, and saving the training models. This module introduces you to a complete machine learning (ML) workflow implemented in PyTorch, a popular ML framework for Python. \n",
        "\n",
        "- We will use the FashionMNIST dataset to train a neural network that predicts if an input image belongs to one of the following classes: T-shirt/top, Trouser, Pullover, Dress, Coat, Sandal, Shirt, Sneaker, Bag, or Ankle boot. \n",
        "\n",
        "- Before we jump into building the model, you will learn a set of core concepts required to understand the basics of building Machine Learning models. Then the last step will put it all together. "
      ]
    },
    {
      "cell_type": "markdown",
      "metadata": {
        "id": "Iw4S-Y9mrmwJ"
      },
      "source": [
        "# Learning objectives\n",
        "\n",
        "In this module you will: \n",
        "\n",
        "- Learn the key concepts used to build machine learning models \n",
        "- Learn how to build a Computer Vision model \n",
        "- Build models with the PyTorch API \n",
        "\n",
        "# Prerequisites\n",
        "- Basic Python knowledge\n",
        "- Basic knowledge about how to use Jupyter Notebooks \n",
        "\n",
        "<hr>\n",
        "\n",
        "## Next unit: What are Tensors?\n",
        "\n"
      ]
    },
    {
      "cell_type": "code",
      "metadata": {
        "id": "jwqUwAXroRq4"
      },
      "source": [
        ""
      ],
      "execution_count": null,
      "outputs": []
    }
  ]
}