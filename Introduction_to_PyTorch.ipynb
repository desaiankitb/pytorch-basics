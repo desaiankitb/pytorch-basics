{
  "nbformat": 4,
  "nbformat_minor": 0,
  "metadata": {
    "colab": {
      "name": "Introduction to PyTorch.ipynb",
      "provenance": [],
      "collapsed_sections": [],
      "authorship_tag": "ABX9TyPYHvLuJoMawy6tYDjSBVNk",
      "include_colab_link": true
    },
    "kernelspec": {
      "name": "python3",
      "display_name": "Python 3"
    },
    "language_info": {
      "name": "python"
    },
    "accelerator": "GPU"
  },
  "cells": [
    {
      "cell_type": "markdown",
      "metadata": {
        "id": "view-in-github",
        "colab_type": "text"
      },
      "source": [
        "<a href=\"https://colab.research.google.com/github/desaiankitb/pytorch-basics/blob/main/Introduction_to_PyTorch.ipynb\" target=\"_parent\"><img src=\"https://colab.research.google.com/assets/colab-badge.svg\" alt=\"Open In Colab\"/></a>"
      ]
    },
    {
      "cell_type": "markdown",
      "metadata": {
        "id": "Lc433ja9sFfx"
      },
      "source": [
        "# A Simple Regression Problem\n",
        "## a linear regression with a single feature x! It doesn’t get much simpler than that… \n",
        "### Lets get started with *Data Generation*"
      ]
    },
    {
      "cell_type": "markdown",
      "metadata": {
        "id": "tAUN0LATsht_"
      },
      "source": [
        "# Generating some synthetic data"
      ]
    },
    {
      "cell_type": "code",
      "metadata": {
        "id": "i2P4XxywsIVM"
      },
      "source": [
        "import numpy as np\n",
        "# Data Generation\n",
        "np.random.seed(42)\n",
        "x = np.random.rand(100, 1)\n",
        "y = 1 + 2 * x + .1 * np.random.randn(100, 1)"
      ],
      "execution_count": 1,
      "outputs": []
    },
    {
      "cell_type": "code",
      "metadata": {
        "colab": {
          "base_uri": "https://localhost:8080/"
        },
        "id": "vzwaAsOSs-Ek",
        "outputId": "c5214a89-f0d6-4a57-c92e-eb60320b9a21"
      },
      "source": [
        "len(x), len(y)"
      ],
      "execution_count": 2,
      "outputs": [
        {
          "output_type": "execute_result",
          "data": {
            "text/plain": [
              "(100, 100)"
            ]
          },
          "metadata": {
            "tags": []
          },
          "execution_count": 2
        }
      ]
    },
    {
      "cell_type": "code",
      "metadata": {
        "id": "BMiufOCQtE8O"
      },
      "source": [
        "# Shuffles the indices\n",
        "idx = np.arange(100)\n",
        "np.random.shuffle(idx)"
      ],
      "execution_count": 3,
      "outputs": []
    },
    {
      "cell_type": "code",
      "metadata": {
        "colab": {
          "base_uri": "https://localhost:8080/"
        },
        "id": "CppG294OtSgt",
        "outputId": "d70c9cb5-e2ec-48e9-9ace-d7e1ef1a4fc5"
      },
      "source": [
        "idx"
      ],
      "execution_count": 4,
      "outputs": [
        {
          "output_type": "execute_result",
          "data": {
            "text/plain": [
              "array([76, 83, 80, 98,  2, 77, 71, 84, 89, 50, 40, 51, 67, 86, 37, 49,  4,\n",
              "       10, 69, 81,  9, 54, 55, 87, 64, 44, 90, 75, 33, 30, 93, 95, 14, 61,\n",
              "       11, 13, 15,  7,  0, 19, 35,  6, 12, 65, 70, 88, 56, 58, 28, 38, 91,\n",
              "       42,  8, 73, 39, 85, 25, 92, 41, 26,  1, 22, 21, 46, 74, 79, 78, 72,\n",
              "       57, 53, 24, 17, 66, 32, 31, 62, 59, 52, 82, 23, 36,  5, 45, 99, 43,\n",
              "       16, 48, 94, 34,  3, 18, 47, 60, 68, 63, 27, 96, 29, 20, 97])"
            ]
          },
          "metadata": {
            "tags": []
          },
          "execution_count": 4
        }
      ]
    },
    {
      "cell_type": "code",
      "metadata": {
        "id": "60JGgUCZthSn"
      },
      "source": [
        "# Uses first 80 random indices for train\n",
        "train_idx = idx[:80]\n",
        "# Uses the remaining indices for validation\n",
        "val_idx = idx[80:]"
      ],
      "execution_count": 5,
      "outputs": []
    },
    {
      "cell_type": "code",
      "metadata": {
        "colab": {
          "base_uri": "https://localhost:8080/"
        },
        "id": "0v542gEetr8-",
        "outputId": "3da2401f-ac71-4962-caa7-2ba08e162f85"
      },
      "source": [
        "len(train_idx), len(val_idx)"
      ],
      "execution_count": 6,
      "outputs": [
        {
          "output_type": "execute_result",
          "data": {
            "text/plain": [
              "(80, 20)"
            ]
          },
          "metadata": {
            "tags": []
          },
          "execution_count": 6
        }
      ]
    },
    {
      "cell_type": "code",
      "metadata": {
        "id": "1Jos-Ho4tyrp"
      },
      "source": [
        "# Generates train and validation sets\n",
        "x_train, y_train = x[train_idx], y[train_idx]\n",
        "x_val, y_val = x[val_idx], y[val_idx]"
      ],
      "execution_count": 7,
      "outputs": []
    },
    {
      "cell_type": "code",
      "metadata": {
        "colab": {
          "base_uri": "https://localhost:8080/",
          "height": 312
        },
        "id": "DV8ZzrCkt-5S",
        "outputId": "c0fbc1b0-c64a-4446-bb1c-c6900dfd74d9"
      },
      "source": [
        "#vizualise the generated data using matplotlib\n",
        "import matplotlib.pyplot as plt\n",
        "plt.plot(x_train, y_train, 'x')\n",
        "plt.ylabel('y')\n",
        "plt.xlabel('x')\n",
        "plt.title('Generated Data - Train')"
      ],
      "execution_count": 8,
      "outputs": [
        {
          "output_type": "execute_result",
          "data": {
            "text/plain": [
              "Text(0.5, 1.0, 'Generated Data - Train')"
            ]
          },
          "metadata": {
            "tags": []
          },
          "execution_count": 8
        },
        {
          "output_type": "display_data",
          "data": {
            "image/png": "[encoded data removed]",
            "text/plain": [
              "<Figure size 432x288 with 1 Axes>"
            ]
          },
          "metadata": {
            "tags": [],
            "needs_background": "light"
          }
        }
      ]
    },
    {
      "cell_type": "code",
      "metadata": {
        "colab": {
          "base_uri": "https://localhost:8080/",
          "height": 312
        },
        "id": "0VxPAUQExUmZ",
        "outputId": "186b7a9e-1652-423a-8c51-8128ad0a1089"
      },
      "source": [
        "#vizualise the generated data using matplotlib - Test\n",
        "plt.plot(x_val, y_val, 'o')\n",
        "plt.ylabel('y')\n",
        "plt.xlabel('x')\n",
        "plt.title('Generated Data - Test')"
      ],
      "execution_count": 9,
      "outputs": [
        {
          "output_type": "execute_result",
          "data": {
            "text/plain": [
              "Text(0.5, 1.0, 'Generated Data - Test')"
            ]
          },
          "metadata": {
            "tags": []
          },
          "execution_count": 9
        },
        {
          "output_type": "display_data",
          "data": {
            "image/png": "[encoded data removed]",
            "text/plain": [
              "<Figure size 432x288 with 1 Axes>"
            ]
          },
          "metadata": {
            "tags": [],
            "needs_background": "light"
          }
        }
      ]
    },
    {
      "cell_type": "markdown",
      "metadata": {
        "id": "7GGvbEFXvM1d"
      },
      "source": [
        "- We know that `a = 1` and `b = 2`, but now let’s see how close we can get to the true values by using **gradient descent** and the 80 points in the training set."
      ]
    },
    {
      "cell_type": "markdown",
      "metadata": {
        "id": "v0050rC-vdxN"
      },
      "source": [
        "# Gradient Descent\n",
        "\n",
        "[Self Study](https://medium.com/p/81fc5f8c4e8e#dc96)  ;)"
      ]
    },
    {
      "cell_type": "markdown",
      "metadata": {
        "id": "cir8d2qfCSeH"
      },
      "source": [
        "# NumPy\n",
        "## For training a model, there are two initialization steps:\n",
        "* Random initialization of parameters/weights (we have only two, a and b) — lines 3 and 4;\n",
        "* Initialization of hyper-parameters (in our case, only learning rate and number of epochs) — lines 9 and 11;\n",
        "## For each epoch, there are four training steps:\n",
        "* Compute model’s predictions — this is the forward pass — line 15;\n",
        "* Compute the loss, using predictions and and labels and the appropriate loss function for the task at hand — lines 18 and 20;\n",
        "* Compute the gradients for every parameter — lines 23 and 24;\n",
        "* Update the parameters — lines 27 and 28;\n"
      ]
    },
    {
      "cell_type": "code",
      "metadata": {
        "colab": {
          "base_uri": "https://localhost:8080/"
        },
        "id": "HU1HLg0-vcdR",
        "outputId": "e363331b-e40a-4051-ff0d-2b75999fe067"
      },
      "source": [
        "# Initializes params \"a\" and \"b\" randomly \n",
        "np.random.seed(42)\n",
        "a = np.random.randn(1)\n",
        "b = np.random.randn(1)\n",
        "\n",
        "print(\"# a and b after initialization\\n\", a, b)\n",
        "\n",
        "# Sets learning rate\n",
        "lr = 1e-1\n",
        "# Defines number of epochs\n",
        "n_epochs = 1000\n",
        "\n",
        "for epoch in range(n_epochs):\n",
        "  # Computes our model's predicted output\n",
        "  yhat = a + b * x_train\n",
        "\n",
        "  # How wrong is our model? That's the error!\n",
        "  error = (y_train - yhat)\n",
        "  #It is a regression, so it computes mean squared error (MSE)\n",
        "  loss = (error**2).mean()\n",
        "\n",
        "  # Computes gradients for both \"a\" and \"b\" parameters \n",
        "  a_grad = -2 * error.mean()\n",
        "  b_grad = -2 * (x_train * error).mean()\n",
        "\n",
        "  # Updates parameters using gradients and the learning rate \n",
        "  a = a - lr * a_grad\n",
        "  b = b - lr * b_grad\n",
        "\n",
        "print(\"# a and b after our gradient descent\\n\", a, b)\n",
        "\n",
        "# Sanity Check: do we get the same results as our gradient descent?\n",
        "from sklearn.linear_model import LinearRegression\n",
        "linr = LinearRegression()\n",
        "linr.fit(x_train, y_train)\n",
        "print(\"# intercept and coef from Scikit-Learn\\n\", linr.intercept_, linr.coef_[0])"
      ],
      "execution_count": 10,
      "outputs": [
        {
          "output_type": "stream",
          "text": [
            "# a and b after initialization\n",
            " [0.49671415] [-0.1382643]\n",
            "# a and b after our gradient descent\n",
            " [1.02354094] [1.96896411]\n",
            "# intercept and coef from Scikit-Learn\n",
            " [1.02354075] [1.96896447]\n"
          ],
          "name": "stdout"
        }
      ]
    },
    {
      "cell_type": "markdown",
      "metadata": {
        "id": "9IaIrHB2Uwh3"
      },
      "source": [
        "#PyTorch \n",
        "\n",
        "## Tensor\n",
        "- In *Numpy*, you may have an **array** that has **three dimensions**, right? That is, technically speaking, a tensor.\n",
        "\n",
        "- A **scalar** (a single number) has zero dimensions, a **vector has one** dimension, a **matrix has two** dimensions and a **tensor has three or more** dimensions. That’s it!\n",
        "\n",
        "- But, to keep things simple, it is commonplace to call vectors and matrices tensors as well — so, from now on, **everything is either a scalar or a tensor.**"
      ]
    },
    {
      "cell_type": "code",
      "metadata": {
        "colab": {
          "base_uri": "https://localhost:8080/"
        },
        "id": "nU3ZfhyJe8BD",
        "outputId": "6b6d672a-4e37-4cd0-b79f-c9a1fdae0623"
      },
      "source": [
        "!pip install torchviz"
      ],
      "execution_count": 11,
      "outputs": [
        {
          "output_type": "stream",
          "text": [
            "Collecting torchviz\n",
            "  Downloading https://files.pythonhosted.org/packages/79/e7/643808913211d6c1fc96a3a4333bf4c9276858fab00bcafaf98ea58a97be/torchviz-0.0.2.tar.gz\n",
            "Requirement already satisfied: torch in /usr/local/lib/python3.7/dist-packages (from torchviz) (1.9.0+cu102)\n",
            "Requirement already satisfied: graphviz in /usr/local/lib/python3.7/dist-packages (from torchviz) (0.10.1)\n",
            "Requirement already satisfied: typing-extensions in /usr/local/lib/python3.7/dist-packages (from torch->torchviz) (3.7.4.3)\n",
            "Building wheels for collected packages: torchviz\n",
            "  Building wheel for torchviz (setup.py) ... \u001b[?25l\u001b[?25hdone\n",
            "  Created wheel for torchviz: filename=torchviz-0.0.2-cp37-none-any.whl size=4152 sha256=0d47a9617eb9ba00d330081307331ade4e9a8f9e4f2ad20950f9ab91d9b512a2\n",
            "  Stored in directory: /root/.cache/pip/wheels/01/26/58/026ffd533dbe8b3972eb423da9c7949beca68d1c98ed9e8624\n",
            "Successfully built torchviz\n",
            "Installing collected packages: torchviz\n",
            "Successfully installed torchviz-0.0.2\n"
          ],
          "name": "stdout"
        }
      ]
    },
    {
      "cell_type": "code",
      "metadata": {
        "colab": {
          "base_uri": "https://localhost:8080/"
        },
        "id": "2ckKQqZpu21B",
        "outputId": "b74e3c9a-c36c-4795-9c98-4a91f3fd98e3"
      },
      "source": [
        "#Loading data: turning Numpy arrays into PyTorch tensors\n",
        "import torch\n",
        "import torch.optim as optim\n",
        "import torch.nn as nn\n",
        "from torchviz import make_dot\n",
        "\n",
        "device = 'cuda' if torch.cuda.is_available() else 'cpu'\n",
        "\n",
        "# Our data was in Numpy arrays, but we need to transform them into PyTorch's \n",
        "# Tensors and then we send them to the chosen device \n",
        "x_train_tensor = torch.from_numpy(x_train).float().to(device)\n",
        "y_train_tensor = torch.from_numpy(y_train).float().to(device)\n",
        "\n",
        "# Here we can see the difference - notice that .type() is more useful\n",
        "# since it also tells us WHERE the tensor is (device)\n",
        "print(type(x_train), type(x_train_tensor), x_train_tensor.type())"
      ],
      "execution_count": 12,
      "outputs": [
        {
          "output_type": "stream",
          "text": [
            "<class 'numpy.ndarray'> <class 'torch.Tensor'> torch.cuda.FloatTensor\n"
          ],
          "name": "stdout"
        }
      ]
    },
    {
      "cell_type": "markdown",
      "metadata": {
        "id": "T5mZxUvafNqQ"
      },
      "source": [
        "- If you compare the **types**  of both variables, you’ll get what you’d expect: `numpy.ndarray` for the first one and `torch.Tensor` for the second one.\n",
        "\n",
        "- But where does your nice tensor “live”? In your CPU or your GPU? You can’t say... but if you use PyTorch’s `type()`, it will reveal its location — `torch.cuda.FloatTensor` — a GPU tensor in this case.\n",
        "\n",
        "- We can also go the other way around, turning tensors back into Numpy arrays, using `numpy()`. It should be easy as `x_train_tensor.numpy()` but... \n",
        "\n",
        "`TypeError: can't convert CUDA tensor to numpy. Use Tensor.cpu() to copy the tensor to host memory first.`\n",
        "\n",
        "- Unfortunately, Numpy **cannot** handle GPU tensors… you need to make them CPU tensors first using `cpu()`.\n"
      ]
    },
    {
      "cell_type": "markdown",
      "metadata": {
        "id": "OjGu-s7NishN"
      },
      "source": [
        "## Creating Parameters\n",
        "\n",
        "- What distinguishes a tensor used for data — like the ones we’ve just created — from a **tensor** used as a (trainable) **parameter/weight**?\n",
        "\n",
        "- The latter tensors require the **computation of its gradients**, so we can **update** their values (the parameters’ values, that is). That’s what the **`requires_grad=True`** argument is good for. It tells PyTorch we want it to compute gradients for us.\n",
        "\n",
        "- You may be tempted to create a simple tensor for a parameter and, later on, send it to your chosen device, as we did with our data, right? Not so fast... "
      ]
    },
    {
      "cell_type": "code",
      "metadata": {
        "colab": {
          "base_uri": "https://localhost:8080/"
        },
        "id": "cuvE25Iauwr8",
        "outputId": "e2c013af-56c4-40e6-a77a-f149b36acbb0"
      },
      "source": [
        "# If you are executing this in colab do the following configuration:\n",
        "# goto: Runtime -> Change Runtime Type -> Notebook Settings -> \n",
        "# Change Hardware accelerator to GPU\n",
        "\n",
        "# FIRST\n",
        "# Initializes parameters \"a\" and \"b\" randomly, ALMOST as we did in Numpy\n",
        "# since we want to apply gradient descent on these parameters, we need \n",
        "# to set REQUIRED_GRAD = TRUE\n",
        "a = torch.randn(1, requires_grad=True, dtype=torch.float)\n",
        "b = torch.randn(1, requires_grad=True, dtype=torch.float)\n",
        "print(\"# FIRST\")\n",
        "print(a, b)\n",
        "print(a.device, b.device)\n",
        "\n",
        "# SECOND\n",
        "# But what if we want to run it on a GPU? We could just send them to \n",
        "# device, right?\n",
        "a = torch.randn(1, requires_grad=True, dtype=torch.float).to(device)\n",
        "b = torch.randn(1, requires_grad=True, dtype=torch.float).to(device)\n",
        "print(\"# SECOND\")\n",
        "print(a, b)\n",
        "print(a.device, b.device)\n",
        "\n",
        "# THIRD\n",
        "# We can either create regular tensors and send them to the device \n",
        "# (as we did with our data)\n",
        "a = torch.randn(1, dtype=torch.float).to(device)\n",
        "b = torch.randn(1, dtype=torch.float).to(device)\n",
        "print(a.device, b.device)\n",
        "# and THEN set them as requiring gradients... \n",
        "a.requires_grad_()\n",
        "b.requires_grad_()\n",
        "print(\"# THIRD\")\n",
        "print(a, b)\n",
        "print(a.device, b.device)"
      ],
      "execution_count": 20,
      "outputs": [
        {
          "output_type": "stream",
          "text": [
            "# FIRST\n",
            "tensor([-0.1301], requires_grad=True) tensor([0.6757], requires_grad=True)\n",
            "cpu cpu\n",
            "# SECOND\n",
            "tensor([-1.0085], device='cuda:0', grad_fn=<CopyBackwards>) tensor([-0.0556], device='cuda:0', grad_fn=<CopyBackwards>)\n",
            "cuda:0 cuda:0\n",
            "cuda:0 cuda:0\n",
            "# THIRD\n",
            "tensor([0.9106], device='cuda:0', requires_grad=True) tensor([-0.8224], device='cuda:0', requires_grad=True)\n",
            "cuda:0 cuda:0\n"
          ],
          "name": "stdout"
        }
      ]
    },
    {
      "cell_type": "code",
      "metadata": {
        "colab": {
          "base_uri": "https://localhost:8080/"
        },
        "id": "s2EsAN_9ipih",
        "outputId": "c17d719f-b9f2-4e1c-e2e1-d9f164dfc094"
      },
      "source": [
        "# to check nvidia based GPU details run following on commandline\n",
        "!nvidia-smi"
      ],
      "execution_count": 22,
      "outputs": [
        {
          "output_type": "stream",
          "text": [
            "Wed Jun 23 09:08:11 2021       \n",
            "+-----------------------------------------------------------------------------+\n",
            "| NVIDIA-SMI 465.27       Driver Version: 460.32.03    CUDA Version: 11.2     |\n",
            "|-------------------------------+----------------------+----------------------+\n",
            "| GPU  Name        Persistence-M| Bus-Id        Disp.A | Volatile Uncorr. ECC |\n",
            "| Fan  Temp  Perf  Pwr:Usage/Cap|         Memory-Usage | GPU-Util  Compute M. |\n",
            "|                               |                      |               MIG M. |\n",
            "|===============================+======================+======================|\n",
            "|   0  Tesla T4            Off  | 00000000:00:04.0 Off |                    0 |\n",
            "| N/A   72C    P0    30W /  70W |   1068MiB / 15109MiB |      0%      Default |\n",
            "|                               |                      |                  N/A |\n",
            "+-------------------------------+----------------------+----------------------+\n",
            "                                                                               \n",
            "+-----------------------------------------------------------------------------+\n",
            "| Processes:                                                                  |\n",
            "|  GPU   GI   CI        PID   Type   Process name                  GPU Memory |\n",
            "|        ID   ID                                                   Usage      |\n",
            "|=============================================================================|\n",
            "+-----------------------------------------------------------------------------+\n"
          ],
          "name": "stdout"
        }
      ]
    },
    {
      "cell_type": "markdown",
      "metadata": {
        "id": "K-p_lwLaIVUm"
      },
      "source": [
        "## **Important Note:** In PyTorch, every method that **ends** with an **underscore (_)** makes changes **in-place**, meaning, they will **modify** the underlying variable."
      ]
    },
    {
      "cell_type": "markdown",
      "metadata": {
        "id": "bsN0fYI3I3YX"
      },
      "source": [
        "- Although the last approach worked fine, it is much better to **assign** tensors to a **device** at the moment of their **creation** as follow. "
      ]
    },
    {
      "cell_type": "code",
      "metadata": {
        "colab": {
          "base_uri": "https://localhost:8080/"
        },
        "id": "VHTXuDCEH-u1",
        "outputId": "a3076e95-015e-41e8-8bf5-859f1075f750"
      },
      "source": [
        "# We can specify the device at the moment of creation - RECOMMENDED!\n",
        "torch.manual_seed(42)\n",
        "a = torch.randn(1, requires_grad=True, dtype=torch.float, device=device)\n",
        "b = torch.randn(1, requires_grad=True, dtype=torch.float, device=device)\n",
        "print(a, '\\n', b)"
      ],
      "execution_count": 25,
      "outputs": [
        {
          "output_type": "stream",
          "text": [
            "tensor([0.1940], device='cuda:0', requires_grad=True) \n",
            " tensor([0.1391], device='cuda:0', requires_grad=True)\n"
          ],
          "name": "stdout"
        }
      ]
    },
    {
      "cell_type": "markdown",
      "metadata": {
        "id": "wc2pzWIaJc3o"
      },
      "source": [
        "- Now that we know how to create tensors that require gradients, let’s see how PyTorch handles them — that’s the role of the **Autograd**"
      ]
    },
    {
      "cell_type": "code",
      "metadata": {
        "id": "9owokGrqJb28"
      },
      "source": [
        ""
      ],
      "execution_count": null,
      "outputs": []
    },
    {
      "cell_type": "code",
      "metadata": {
        "id": "OO2LdDmtJKeu"
      },
      "source": [
        ""
      ],
      "execution_count": null,
      "outputs": []
    }
  ]
}